{
 "cells": [
  {
   "cell_type": "code",
   "execution_count": 25,
   "id": "43923fff",
   "metadata": {},
   "outputs": [
    {
     "name": "stdout",
     "output_type": "stream",
     "text": [
      "✅ Environment ready (patched is_mixed if needed)\n"
     ]
    }
   ],
   "source": [
    "# Environment setup\n",
    "import discopy\n",
    "\n",
    "# Patch missing .is_mixed (for lambeq + newer discopy)\n",
    "if not hasattr(getattr(discopy, \"monoidal\", None).Diagram, \"is_mixed\"):\n",
    "    discopy.monoidal.Diagram.is_mixed = property(lambda self: False)\n",
    "\n",
    "print(\"✅ Environment ready (patched is_mixed if needed)\")\n",
    "\n",
    "from lambeq import AtomicType\n",
    "\n",
    "N = AtomicType.NOUN\n",
    "S = AtomicType.SENTENCE\n",
    "P = AtomicType.PREPOSITIONAL_PHRASE\n",
    "CONJ = AtomicType.CONJUNCTION\n",
    "PUNCT = AtomicType.PUNCTUATION\n"
   ]
  },
  {
   "cell_type": "code",
   "execution_count": 26,
   "id": "42ac0259",
   "metadata": {},
   "outputs": [],
   "source": [
    "from lambeq import AtomicType\n",
    "from lambeq import IQPAnsatz\n",
    "\n",
    "# Example: noun → 1 qubit, sentence → 1 qubit\n",
    "ob_map = dict({\n",
    "    N: 2,\n",
    "    S: 1,\n",
    "    P: 0,\n",
    "    CONJ: 1,\n",
    "    PUNCT: 0\n",
    "})\n",
    "\n",
    "ansatz = IQPAnsatz(ob_map, n_layers=2)\n"
   ]
  },
  {
   "cell_type": "code",
   "execution_count": 27,
   "id": "0a395963",
   "metadata": {},
   "outputs": [
    {
     "name": "stdout",
     "output_type": "stream",
     "text": [
      "Loaded 404 sentences.\n"
     ]
    }
   ],
   "source": [
    "#load data\n",
    "import pandas as pd\n",
    "def load_data(csv_file, sample_fraction=1.0):\n",
    "    \"\"\"Loads Question Pairs from a CSV file\n",
    "\n",
    "    Args:\n",
    "        csv_file (str): Path to csv_file\n",
    "        sample_fraction (float): Fraction of data to sample, default is 1.0\n",
    "    Returns:\n",
    "        tuple: A tuple containing supervised data pairs\n",
    "        returns [],[] on error\n",
    "    \"\"\"\n",
    "    sentences1 = []\n",
    "    sentences2 = []\n",
    "    is_duplicate = []\n",
    "    \n",
    "    try:\n",
    "        df = pd.read_csv(csv_file, encoding='utf-8')\n",
    "        #print(\"Column names:\", df.columns)\n",
    "        \n",
    "        if sample_fraction < 1.0:\n",
    "            df = df.sample(frac=sample_fraction, random_state=42).reset_index(drop=True)\n",
    "        \n",
    "        sentence1_series = df['question1']\n",
    "        sentence2_series = df['question2']\n",
    "        is_duplicate_series = df['is_duplicate']\n",
    "        \n",
    "        sentences1 = sentence1_series.tolist()\n",
    "        sentences2 = sentence2_series.tolist()\n",
    "        is_duplicate = is_duplicate_series.tolist()\n",
    "        \n",
    "        if len(sentences1) != len(sentences2):\n",
    "            raise ValueError(\"The number of sentences in question1 and question2 do not match.\")\n",
    "        else:\n",
    "            print(f\"Loaded {len(sentences1)} sentences.\")\n",
    "        return sentences1, sentences2, is_duplicate\n",
    "        \n",
    "    except FileNotFoundError:\n",
    "        print(\"Wrong Path\")\n",
    "        return [],[],[]\n",
    "    \n",
    "    except Exception as e:\n",
    "        print(f\"An {e} Error Occurred\")\n",
    "        return [],[],[]\n",
    "\n",
    "DATA_PATH = r'C:/Users/Jash\\Documents/Research\\Semantic Equivilance\\SemanticEquivilance/question_pairs/questions.csv'\n",
    "sentences1, sentences2, value = load_data(DATA_PATH, sample_fraction=0.001)\n",
    "data_pairs = list(zip(sentences1, sentences2, value))\n"
   ]
  },
  {
   "cell_type": "code",
   "execution_count": 30,
   "id": "dd7815b6",
   "metadata": {},
   "outputs": [],
   "source": [
    "import pennylane as qml\n",
    "import numpy as np\n",
    "from lambeq import AtomicType, BobcatParser, StronglyEntanglingAnsatz, Rewriter, IQPAnsatz, SpacyTokeniser, TensorAnsatz\n",
    "import spacy\n",
    "\n",
    "def swap_test(state1_vec, state2_vec, num_qubits, initial_state=0):\n",
    "    \"\"\"\n",
    "    Performs a Quantum Swap Test between two quantum state vectors.\n",
    "\n",
    "    Args:\n",
    "        state1_vec (np.ndarray): The first state vector.\n",
    "        state2_vec (np.ndarray): The second state vector.\n",
    "\n",
    "    Returns:\n",
    "        float: The estimated squared overlap (fidelity) between the two states.\n",
    "    \"\"\"\n",
    "    SHOT_COUNT = 1000000 #expected less than 1% error only done on swap test, expectation values calculated with different amount of shots\n",
    "    if 2**num_qubits != len(state1_vec):\n",
    "        raise ValueError(\"State vectors must have a length that is a power of 2.\")\n",
    "\n",
    "    total_qubits = 1 + 2 * num_qubits #1 Ancilla qubit + 2 state qubits\n",
    "\n",
    "    dev = qml.device(\"lightning.qubit\", wires=total_qubits, shots=SHOT_COUNT)\n",
    "\n",
    "    @qml.qnode(dev)\n",
    "    def circuit(): #|0 , psi, phi>\n",
    "        # Step 1: Prepare the ancilla qubit in a superposition\n",
    "        qml.Hadamard(wires=0)\n",
    "        print(f\"Comparing: {state1_vec} and {state2_vec}\")\n",
    "        # Step 2: Prepare the two input states\n",
    "        #basis for protocol 1\n",
    "        qml.StatePrep(state1_vec, wires=range(1, 1 + num_qubits), normalize=True)\n",
    "        #basis for protocol 1\n",
    "        qml.StatePrep(state2_vec, wires=range(1 + num_qubits, 1 + 2 * num_qubits))\n",
    "\n",
    "        # Step 3: Apply controlled-SWAP gates\n",
    "        for i in range(num_qubits):\n",
    "            qml.CSWAP(wires=[0, 1 + i, 1 + num_qubits + i]) #selects every register of phi and psi for swap\n",
    "\n",
    "        # Step 4: Apply Hadamard to ancilla\n",
    "        qml.Hadamard(wires=0)\n",
    "        # Step 5: Measure the ancilla qubit\n",
    "        return qml.sample(wires=0)\n",
    "\n",
    "    measurement_results = circuit()\n",
    "    squared_overlap = 1 - 2/len(measurement_results) * np.sum(measurement_results)\n",
    "    \n",
    "    return abs(squared_overlap)"
   ]
  },
  {
   "cell_type": "code",
   "execution_count": null,
   "id": "1fbb2059",
   "metadata": {},
   "outputs": [],
   "source": [
    "import traceback\n",
    "from lambeq.backend.pennylane import to_pennylane as to_qml\n",
    "def lambeq_sentence_to_circuit(sentence, Tokeniser, ansatz, parser, rewriter, return_type='state', include_debug_prints=False, expval = qml.PauliZ(0), target_qubits=None):\n",
    "    \"\"\"\n",
    "    Converts a natural language sentence into a quantum state vector\n",
    "    using Lambeq's BobcatParser and IQPAnsatz, handling parameterization\n",
    "    via PennyLaneModel.\n",
    "\n",
    "    Args:\n",
    "        sentence (str): The input sentence.\n",
    "        ansatz (lambeq.ansatz.Ansatz): The quantum ansatz to apply.\n",
    "        parser (lambeq.parser.Parser): The parser to convert sentence to diagram. This is a GPT\n",
    "        rewriter (lambeq.rewrite.Rewriter): The rewriter to simplify the diagram. This is a GPT\n",
    "        include_debug_prints (bool): Whether to include detailed debug prints.\n",
    "        start_basis_state (int): The basis state to initialize the qubits. Default is |0>.\n",
    "        seed (int, optional): Seed for random number generation for reproducibility.\n",
    "        return_type (str): 'state' or 'expval' to specify the return type.\n",
    "        expval (qml.Observable): The observable for expval value calculation.\n",
    "\n",
    "    Returns:\n",
    "        tuple: A tuple containing the state vector (np.ndarray) and\n",
    "               the number of qubits (int).\n",
    "    \"\"\"\n",
    "    try:\n",
    "        if include_debug_prints:\n",
    "            print(f\"\\n--- Debugging: Sentence '{sentence}' ---\")\n",
    "        # Step 0: Tokenize the sentence\n",
    "        tokens = Tokeniser.tokenise_sentence(sentence) # Not optional for non-clean inputs\n",
    "        \n",
    "        # Step 1: Convert sentence to a DisCoPy diagram\n",
    "        diagram = parser.sentence2diagram(tokens, tokenised=True)\n",
    "        if include_debug_prints:\n",
    "            print(\"Step 1: Sentence parsed to diagram.\")\n",
    "\n",
    "        # Step 2: Rewrite the diagram\n",
    "        rewritten_diagram = rewriter(diagram)\n",
    "        if include_debug_prints:\n",
    "            print(\"Step 2: Diagram rewritten.\")\n",
    "\n",
    "        # Step 3: Normalize the diagram\n",
    "        normalized_diagram = rewritten_diagram.normal_form()\n",
    "        if include_debug_prints:\n",
    "            print(\"Step 3: Diagram normalized.\")\n",
    "            \n",
    "        # Step 4: Apply the ansatz to the normalized diagram to get a DisCoPy circuit\n",
    "        circuit = ansatz(normalized_diagram)\n",
    "        if include_debug_prints:\n",
    "            print(\"Step 4: Ansatz applied to create DisCoPy circuit.\")\n",
    "\n",
    "        # Step 5: Convert the DisCoPy circuit to a PennyLane circuit object\n",
    "        temp_qml_circuit = to_qml(circuit)\n",
    "        \n",
    "        num_qubits = temp_qml_circuit._n_qubits\n",
    "        param_structure = temp_qml_circuit._params\n",
    "        device_qubits = target_qubits if target_qubits is not None and target_qubits >= num_qubits else num_qubits\n",
    "        \n",
    "        if include_debug_prints:\n",
    "            print(\"Step 5: DisCoPy circuit converted to PennyLane object.\")\n",
    "            print(f\"Parameter structure: {param_structure}\")\n",
    "            print(f\"Number of qubits: {num_qubits}, Device Wires: {device_qubits}\")\n",
    "        \n",
    "        # Build parameters in the exact same structure as _params\n",
    "        structured_params = []\n",
    "            \n",
    "        if include_debug_prints:\n",
    "            print(\"Step 6: Structured parameters generated.\")\n",
    "            \n",
    "        dev = qml.device(\"lightning.qubit\", wires=device_qubits)\n",
    "        \n",
    "        @qml.qnode(dev)\n",
    "        def qnode_circuit(structured_params):\n",
    "            circuit_func = temp_qml_circuit.make_circuit()\n",
    "            circuit_func(structured_params)\n",
    "            if return_type == 'expval':\n",
    "                return qml.expval(expval)\n",
    "            else:\n",
    "                return qml.state()  # Return the state vector after applying the circuit\n",
    "        \n",
    "        return qnode_circuit, param_structure, device_qubits\n",
    "    except Exception as e:\n",
    "        print(f\"CRITICAL ERROR: Failed to process circuit: {e}\")\n",
    "        traceback.print_exc()\n",
    "        return None, None, None"
   ]
  },
  {
   "cell_type": "code",
   "execution_count": 12,
   "id": "f02b4171",
   "metadata": {},
   "outputs": [],
   "source": [
    "import random\n",
    "def initialize_structured_params(param_structure, sentence_seed=None):\n",
    "    \"\"\"\n",
    "    Initializes structured parameters based on the given parameter structure.\n",
    "\n",
    "    Args:\n",
    "        param_structure (list): The structure of parameters as a list of lists.\n",
    "        seed (int): Seed for random number generation for reproducibility.\n",
    "\n",
    "    Returns:\n",
    "        list: A list of structured parameters with random values.\n",
    "    \"\"\"\n",
    "    if sentence_seed is not None:\n",
    "        random.seed(sentence_seed)\n",
    "    structured_params = []\n",
    "    for param_group in param_structure:\n",
    "        if isinstance(param_group, list) and len(param_group) > 0:\n",
    "            # This parameter group has parameters - create random values for each\n",
    "            group_values = [random.uniform(0.1, 2 * np.pi - 0.1) for _ in param_group]\n",
    "            structured_params.append(group_values)\n",
    "        else:\n",
    "            # Empty parameter group\n",
    "            structured_params.append([])\n",
    "    \n",
    "    return structured_params"
   ]
  },
  {
   "cell_type": "code",
   "execution_count": 13,
   "id": "5b3256c7",
   "metadata": {},
   "outputs": [],
   "source": [
    "import math\n",
    "def FischerInformation(Fidelity): #Statisitcal Information and DISTANCE metric Fubini-Study Metric/ Wooters Distance\n",
    "    rootFidelity = math.sqrt(Fidelity) #Square root fidelity term\n",
    "    return math.acos(rootFidelity)"
   ]
  },
  {
   "cell_type": "code",
   "execution_count": 14,
   "id": "9be0c13b",
   "metadata": {},
   "outputs": [],
   "source": [
    "def loss_function(\n",
    "    overlap, \n",
    "    target_fidelity,  # <--- THIS IS YOUR GROUND TRUTH (is_duplicate: 0 or 1)\n",
    "    structural_disparity, \n",
    "    lambda_penalty\n",
    "):\n",
    "    \"\"\"\n",
    "    Combines Fidelity MSE loss (driven by ground truth) with Structural Disparity Penalty.\n",
    "    \"\"\"\n",
    "    \n",
    "    # 1. Fidelity MSE Loss (Ground Truth Term)\n",
    "    # The (target_fidelity - overlap)**2 term is where the ground truth is applied.\n",
    "    # It drives the measured overlap toward the ground-truth label.\n",
    "    fidelity_loss = (target_fidelity - overlap)**2\n",
    "    \n",
    "    # 2. Structural Penalty Term\n",
    "    structural_penalty = lambda_penalty * structural_disparity\n",
    "    \n",
    "    # 3. Total Loss\n",
    "    return fidelity_loss + structural_penalty"
   ]
  },
  {
   "cell_type": "code",
   "execution_count": 15,
   "id": "aab15ad8",
   "metadata": {},
   "outputs": [],
   "source": [
    "def calculate_overlap(qnode_func, params1, params2):\n",
    "    \"\"\"\n",
    "    Calculates the overlap between two quantum states prepared by the same QNode\n",
    "    but with different parameters. This is a shortcut that only works with quantum simulators, for real quantum hardware, use the swap test function.\n",
    "\n",
    "    Args:\n",
    "        qnode_func (qml.QNode): The quantum circuit QNode.\n",
    "        params1 (list): Structured parameters for the first state.\n",
    "        params2 (list): Structured parameters for the second state.\n",
    "\n",
    "    Returns:\n",
    "        float: The estimated squared overlap (fidelity) between the two states.\n",
    "    \"\"\"\n",
    "    # Get the state vectors for both sets of parameters\n",
    "    state1 = qnode_func(params1)\n",
    "    state2 = qnode_func(params2)\n",
    "    \n",
    "    # Calculate the overlap\n",
    "    overlap = np.abs(np.vdot(state1, state2))**2\n",
    "    \n",
    "    return overlap"
   ]
  },
  {
   "cell_type": "code",
   "execution_count": 16,
   "id": "e6a3d751",
   "metadata": {},
   "outputs": [],
   "source": [
    "def calculate_pair_gradients(qnode_func, params, s1, s2, target_fidelity, structural_disparity):\n",
    "    \"\"\"\n",
    "    Calculates gradients for a pair of sentences with respect to the shared parameters.\n",
    "    Returns a dictionary of gradients indexed by (group, element) tuple.\n",
    "    \"\"\"\n",
    "    gradients = {idx: 0.0 for idx in [(g, e) for g in range(len(params)) for e in range(len(params[g]))]}\n",
    "\n",
    "    # We need to compute the gradient for each parameter\n",
    "    for group_idx, group in enumerate(params):\n",
    "        for elem_idx in range(len(group)):\n",
    "            param_index = (group_idx, elem_idx)\n",
    "\n",
    "            # Shift the parameters for both sentences in the pair\n",
    "            params_plus_s1 = params.copy()\n",
    "            params_plus_s1[group_idx][elem_idx] += np.pi / 2\n",
    "            \n",
    "            params_minus_s1 = params.copy()\n",
    "            params_minus_s1[group_idx][elem_idx] -= np.pi / 2\n",
    "\n",
    "            # Overlap for shifted s1\n",
    "            overlap_plus = calculate_overlap(qnode_func, params_plus_s1, params)\n",
    "            overlap_minus = calculate_overlap(qnode_func, params_minus_s1, params)\n",
    "\n",
    "            # Gradient contribution from S1\n",
    "            grad_s1 = (loss_function(overlap_plus, target_fidelity, structural_disparity, 0) - loss_function(overlap_minus, target_fidelity, structural_disparity, 0)) / 2\n",
    "\n",
    "            # Now, shift the parameters for the second sentence (S2)\n",
    "            params_plus_s2 = params.copy()\n",
    "            params_plus_s2[group_idx][elem_idx] += np.pi / 2\n",
    "            \n",
    "            params_minus_s2 = params.copy()\n",
    "            params_minus_s2[group_idx][elem_idx] -= np.pi / 2\n",
    "\n",
    "            # Overlap for shifted S2\n",
    "            overlap_plus_2 = calculate_overlap(qnode_func, params, params_plus_s2)\n",
    "            overlap_minus_2 = calculate_overlap(qnode_func, params, params_minus_s2)\n",
    "\n",
    "            # Gradient contribution from S2\n",
    "            grad_s2 = (loss_function(overlap_plus_2, target_fidelity, structural_disparity, 0) - loss_function(overlap_minus_2, target_fidelity, structural_disparity, 0)) / 2\n",
    "            \n",
    "            # The total gradient is the sum of contributions from both states\n",
    "            gradients[param_index] = grad_s1 + grad_s2\n",
    "\n",
    "    return gradients"
   ]
  },
  {
   "cell_type": "code",
   "execution_count": 22,
   "id": "0bd0183e",
   "metadata": {},
   "outputs": [],
   "source": [
    "def get_max_qubits_for_dataset(data_pairs, Tokeniser, ansatz, parser, rewriter):\n",
    "    \"\"\"Calculates the maximum number of qubits required by any sentence in the dataset.\"\"\"\n",
    "    print(\"Determining maximum qubit count for the entire dataset...\")\n",
    "    max_qubits = 0\n",
    "    # Use the original (unmodified) lambeq_sentence_to_circuit to get the *required* qubits\n",
    "    for s1, s2, _ in data_pairs:\n",
    "        # Note: We call a temporary version of the circuit builder that is not padded.\n",
    "        # It's an internal detail, but for simplicity, we assume a helper can get the required wires.\n",
    "        # Here, we will just use the unpadded version's output for the required number of qubits.\n",
    "        _, _, required_qubits_s1 = lambeq_sentence_to_circuit(\n",
    "            s1, Tokeniser, ansatz, parser, rewriter, return_type='state'\n",
    "        )\n",
    "        _, _, required_qubits_s2 = lambeq_sentence_to_circuit(\n",
    "            s2, Tokeniser, ansatz, parser, rewriter, return_type='state'\n",
    "        )\n",
    "        \n",
    "        if required_qubits_s1 is not None and required_qubits_s1 > max_qubits:\n",
    "            max_qubits = required_qubits_s1\n",
    "        if required_qubits_s2 is not None and required_qubits_s2 > max_qubits:\n",
    "            max_qubits = required_qubits_s2\n",
    "            \n",
    "    print(f\"Maximum required qubits (N_max) across the dataset is: {max_qubits}\")\n",
    "    return max_qubits\n",
    "\n",
    "#Hyperparameters\n",
    "BASE_LEARNING_RATE = 0.01\n",
    "LAMDA_PENALTY = 0.1  # Weight for the structural disparity penalty\n",
    "\n",
    "def main_workflow(data_pairs, parser, rewriter, ansatz, Tokeniser, base_learning_rate=BASE_LEARNING_RATE, lambda_penalty=LAMDA_PENALTY):\n",
    "    \n",
    "    # 1. Preprocessing: Determine the global maximum qubit count\n",
    "    N_MAX = get_max_qubits_for_dataset(data_pairs, Tokeniser, ansatz, parser, rewriter)\n",
    "    if N_MAX == 0:\n",
    "        print(\"No valid sentences found to train on. Exiting.\")\n",
    "        return {}\n",
    "        \n",
    "        \n",
    "    #Store relevent metadata (target-fidelity, structural disparity) for each pair\n",
    "    processed_pairs = []\n",
    "    for s1, s2, is_duplicate in data_pairs:\n",
    "        _, _, N1 = lambeq_sentence_to_circuit(s1,Tokeniser,ansatz,parser,rewriter,return_type='state')\n",
    "        _, _, N2 = lambeq_sentence_to_circuit(s2,Tokeniser,ansatz,parser,rewriter,return_type='state')\n",
    "        \n",
    "        #calculate structural disparity (absolute qubit difference)\n",
    "        structural_disparity = abs(N1 - N2) if N1 is not None and N2 is not None else N_MAX\n",
    "        processed_pairs.append((s1, s2, is_duplicate, structural_disparity))\n",
    "        \n",
    "    print(f\"\\n--- Starting Training on Dimension N_MAX = {N_MAX} ---\")\n",
    "    \n",
    "    # 2. Model Initialization\n",
    "    rep_sentence = data_pairs[0][0] # Use first sentence to get parameter structure\n",
    "    \n",
    "    # The QNode will now be set to size N_MAX for the entire training\n",
    "    qnode_func, param_structure, device_qubits = lambeq_sentence_to_circuit(\n",
    "        rep_sentence, Tokeniser, ansatz, parser, rewriter, \n",
    "        return_type='state', target_qubits=N_MAX # <--- Use N_MAX for device\n",
    "    )\n",
    "    \n",
    "    # Check if circuit generation succeeded\n",
    "    if qnode_func is None or device_qubits != N_MAX:\n",
    "        print(\"Failed to generate representative circuit. Exiting.\")\n",
    "        return {}\n",
    "        \n",
    "    # 3. Initialize a single set of parameters for the N_MAX dimension\n",
    "    params = initialize_structured_params(param_structure)\n",
    "    \n",
    "    # 4. Training Loop with Dynamic Feedback\n",
    "    for s1, s2, target_fidelity, structural_disparity in processed_pairs:\n",
    "        #overlap\n",
    "        overlap = calculate_overlap(qnode_func, params, params)\n",
    "        qangle = FischerInformation(overlap)\n",
    "        normalized_qangle = qangle / (math.pi / 2)\n",
    "        if target_fidelity == 1:\n",
    "            eta_dynamic = base_learning_rate * normalized_qangle\n",
    "        else:\n",
    "            eta_dynamic = base_learning_rate * (1 - normalized_qangle)\n",
    "        # Calculate gradients using the shared QNode (qnode_func is already set to N_MAX)\n",
    "        gradients = calculate_pair_gradients(qnode_func, params, s1, s2, target_fidelity, structural_disparity)\n",
    "        \n",
    "        # Apply the update\n",
    "        for group_idx, group in enumerate(params):\n",
    "            for elem_idx in range(len(group)):\n",
    "                param_index = (group_idx, elem_idx)\n",
    "                params[group_idx][elem_idx] -= eta_dynamic * gradients[param_index]\n",
    "            \n",
    "    trained_params = {N_MAX: params} # Store the single trained model\n",
    "    \n",
    "    print(\"\\n--- Training Complete ---\")\n",
    "    \n",
    "    # 5. Final Evaluation with Swap Test\n",
    "    print(\"\\n--- Performing Final Swap Tests with Trained Parameters ---\")\n",
    "    # Sample a few pairs for evaluation\n",
    "    sample_pairs = data_pairs[:5] if len(processed_pairs) > 5 else processed_pairs\n",
    "    \n",
    "    for s1, s2, target_fidelity, structural_disparity in sample_pairs:\n",
    "        print(f\"\\nEvaluating Pair: '{s1}' vs. '{s2}' (Label: {target_fidelity}, Disparity: {structural_disparity}\")\n",
    "        \n",
    "        optimized_params = trained_params[N_MAX]\n",
    "        \n",
    "        # Generate State 1 and State 2 vectors, both will be padded to N_MAX\n",
    "        qnode1, _, _ = lambeq_sentence_to_circuit(s1, Tokeniser, ansatz, parser, rewriter, return_type='state', target_qubits=N_MAX)\n",
    "        qnode2, _, _ = lambeq_sentence_to_circuit(s2, Tokeniser, ansatz, parser, rewriter, return_type='state', target_qubits=N_MAX)\n",
    "        \n",
    "        vec1 = qnode1(optimized_params)\n",
    "        vec2 = qnode2(optimized_params)\n",
    "\n",
    "        # Call swap_test, passing N_MAX as the number of qubits for *one* register\n",
    "        overlap = swap_test(vec1, vec2, N_MAX) \n",
    "        Qangle = FischerInformation(overlap)\n",
    "        normalized_qangle = Qangle / (math.pi / 2)\n",
    "        \n",
    "        #Calculate final loss\n",
    "        final_loss = loss_function(overlap, target_fidelity, structural_disparity, lambda_penalty)\n",
    "        #Determine dynamic learning rate based on Qangle\n",
    "        print(f\"Final Overlap (Fidelity): {overlap:.4f}\")\n",
    "        print(f\"Estimated Quantum Angle (Normalized): {normalized_qangle:.4f}\")\n",
    "        print(f\"Total Penalized Loss: {final_loss:.4f}\")\n",
    "    return trained_params"
   ]
  },
  {
   "cell_type": "code",
   "execution_count": null,
   "id": "b5e2e208",
   "metadata": {},
   "outputs": [
    {
     "name": "stdout",
     "output_type": "stream",
     "text": [
      "--- Generating states from sentences ---\n",
      "Error processing sentence 'Alice loves the dog that Bob purchased.': too many values to unpack (expected 2)\n",
      "Error processing sentence 'Bob loves the dog that Alice sold.': too many values to unpack (expected 2)\n",
      "Error processing sentence 'The big cat sleeps peacefully.': too many values to unpack (expected 2)\n",
      "Error processing sentence 'The small bird sings loudly.': too many values to unpack (expected 2)\n",
      "Error processing sentence 'The lizard basks in the sun.': too many values to unpack (expected 2)\n",
      "Error processing sentence 'The sun shines on the lizard': too many values to unpack (expected 2)\n",
      "\n",
      "--- Performing Swap Tests ---\n",
      "No valid multi-qubit states generated. Cannot perform Swap Tests meaningfully.\n"
     ]
    }
   ],
   "source": [
    "#OLD FUNC DONT USE (FOR REFERENCE ONLY)\n",
    "import spacy\n",
    "if __name__ == \"__main__\":\n",
    "    spacy.load('en_core_web_sm')\n",
    "    Tokeniser = SpacyTokeniser()\n",
    "    parser = BobcatParser()\n",
    "    rewriter = Rewriter(['curry', 'prepositional_phrase', 'determiner'])\n",
    "    # Increase ansatz parameters to get more complex quantum states\n",
    "    # ansatz = StronglyEntanglingAnsatz(\n",
    "    # {AtomicType.NOUN: 2, AtomicType.SENTENCE: 1}, \n",
    "    # n_layers=1\n",
    "    ansatz = IQPAnsatz({AtomicType.NOUN: 2, AtomicType.SENTENCE: 1, AtomicType.CONJUNCTION: 1}, n_layers=1\n",
    ")\n",
    "\n",
    "    print(\"--- Generating states from sentences ---\")\n",
    "\n",
    "    sentence1 = \"Alice loves the dog that Bob purchased.\"\n",
    "    sentence2 = \"Bob loves the dog that Alice sold.\"\n",
    "    sentence3 = \"The big cat sleeps peacefully.\"\n",
    "    sentence4 = \"The small bird sings loudly.\"\n",
    "    sentence5 = \"The lizard basks in the sun.\"\n",
    "    sentence6 = \"The sun shines on the lizard\"\n",
    "    \n",
    "    sentences = [sentence1, sentence2, sentence3, sentence4, sentence5, sentence6]\n",
    "    state_data = {}\n",
    "    for s_idx, sentence in enumerate(sentences):\n",
    "        try:\n",
    "            state_vec, num_qubits = lambeq_sentence_to_circuit(sentence, Tokeniser, ansatz, parser, rewriter)\n",
    "            #state_vec, num_qubits = lambeq_sentence_to_state_vector(sentence, ansatz, parser, rewriter, include_debug_prints=False)\n",
    "            state_data[sentence] = (state_vec, num_qubits)\n",
    "            print(f\"Sentence {s_idx+1}: '{sentence}'\")\n",
    "            print(f\"Generated state with {num_qubits} qubits\")\n",
    "        except Exception as e:\n",
    "            print(f\"Error processing sentence '{sentence}': {e}\")\n",
    "            state_data[sentence] = (None, None)\n",
    "\n",
    "    print(\"\\n--- Performing Swap Tests ---\")\n",
    "    \n",
    "    # Filter out sentences that did not produce valid states\n",
    "    valid_sentences = [s for s in sentences if state_data[s][0] is not None and state_data[s][1] is not None and state_data[s][1] > 0]\n",
    "\n",
    "    if not valid_sentences:\n",
    "        print(\"No valid multi-qubit states generated. Cannot perform Swap Tests meaningfully.\")\n",
    "    else:\n",
    "        first_num_qubits = state_data[valid_sentences[0]][1]\n",
    "        all_same_qubits = all(state_data[s][1] == first_num_qubits for s in valid_sentences)\n",
    "\n",
    "        if not all_same_qubits:\n",
    "            print(\"\\nWarning: Not all valid sentences resulted in circuits with the same number of qubits.\")\n",
    "            print(\"Swap Test requires states to have the same number of qubits.\")\n",
    "            print(\"Pairs with different qubit counts will be skipped.\")\n",
    "            for s in valid_sentences:\n",
    "                print(f\"  '{s}': {state_data[s][1]} qubits\")\n",
    "\n",
    "        for i in range(len(valid_sentences)):\n",
    "            for j in range(i, len(valid_sentences)):\n",
    "                s1 = valid_sentences[i]\n",
    "                s2 = valid_sentences[j]\n",
    "\n",
    "                vec1, nq1 = state_data[s1]\n",
    "                vec2, nq2 = state_data[s2]\n",
    "\n",
    "                if nq1 == nq2:\n",
    "                    print(f\"\\nSwap Test between '{s1}' and '{s2}':\")\n",
    "                    # Fix: Use nq1 (or nq2, they're equal)\n",
    "                    overlap = swap_test(vec1, vec2, nq1)\n",
    "                    print(overlap)\n",
    "                    Qangle = FischerInformation(overlap) # 0 - pi/2\n",
    "                    \n",
    "                    print(f\"Estimated Quantum Angle: {Qangle:.4f}\")\n",
    "                    if s1 == s2:\n",
    "                        print(\" (Expected to be close to 1.0 for identical states)\")\n",
    "                else:\n",
    "                    print(f\"\\nSkipping Swap Test between '{s1}' ({nq1} qubits) and '{s2}' ({nq2} qubits) due to different qubit counts.\")"
   ]
  },
  {
   "cell_type": "code",
   "execution_count": 29,
   "id": "d2e385c1",
   "metadata": {},
   "outputs": [
    {
     "name": "stdout",
     "output_type": "stream",
     "text": [
      "Determining maximum qubit count for the entire dataset...\n",
      "CRITICAL ERROR: Failed to process circuit: Device lightning.gpu does not exist. Make sure the required plugin is installed.\n"
     ]
    },
    {
     "name": "stderr",
     "output_type": "stream",
     "text": [
      "Traceback (most recent call last):\n",
      "  File \"C:\\Users\\Jash\\AppData\\Local\\Temp\\ipykernel_39816\\447722544.py\", line 68, in lambeq_sentence_to_circuit\n",
      "    dev = qml.device(\"lightning.gpu\", wires=num_qubits, shots=10000) # N = 10000 runs of the circuit for statistical significance\n",
      "          ^^^^^^^^^^^^^^^^^^^^^^^^^^^^^^^^^^^^^^^^^^^^^^^^^^^^^^^^^^\n",
      "  File \"c:\\Users\\Jash\\Documents\\Research\\Semantic Equivilance\\.venv\\Lib\\site-packages\\pennylane\\devices\\device_constructor.py\", line 297, in device\n",
      "    raise DeviceError(f\"Device {name} does not exist. Make sure the required plugin is installed.\")\n",
      "pennylane.exceptions.DeviceError: Device lightning.gpu does not exist. Make sure the required plugin is installed.\n"
     ]
    },
    {
     "name": "stdout",
     "output_type": "stream",
     "text": [
      "CRITICAL ERROR: Failed to process circuit: Device lightning.gpu does not exist. Make sure the required plugin is installed.\n"
     ]
    },
    {
     "name": "stderr",
     "output_type": "stream",
     "text": [
      "Traceback (most recent call last):\n",
      "  File \"C:\\Users\\Jash\\AppData\\Local\\Temp\\ipykernel_39816\\447722544.py\", line 68, in lambeq_sentence_to_circuit\n",
      "    dev = qml.device(\"lightning.gpu\", wires=num_qubits, shots=10000) # N = 10000 runs of the circuit for statistical significance\n",
      "          ^^^^^^^^^^^^^^^^^^^^^^^^^^^^^^^^^^^^^^^^^^^^^^^^^^^^^^^^^^\n",
      "  File \"c:\\Users\\Jash\\Documents\\Research\\Semantic Equivilance\\.venv\\Lib\\site-packages\\pennylane\\devices\\device_constructor.py\", line 297, in device\n",
      "    raise DeviceError(f\"Device {name} does not exist. Make sure the required plugin is installed.\")\n",
      "pennylane.exceptions.DeviceError: Device lightning.gpu does not exist. Make sure the required plugin is installed.\n"
     ]
    },
    {
     "name": "stdout",
     "output_type": "stream",
     "text": [
      "CRITICAL ERROR: Failed to process circuit: Device lightning.gpu does not exist. Make sure the required plugin is installed.\n"
     ]
    },
    {
     "name": "stderr",
     "output_type": "stream",
     "text": [
      "Traceback (most recent call last):\n",
      "  File \"C:\\Users\\Jash\\AppData\\Local\\Temp\\ipykernel_39816\\447722544.py\", line 68, in lambeq_sentence_to_circuit\n",
      "    dev = qml.device(\"lightning.gpu\", wires=num_qubits, shots=10000) # N = 10000 runs of the circuit for statistical significance\n",
      "          ^^^^^^^^^^^^^^^^^^^^^^^^^^^^^^^^^^^^^^^^^^^^^^^^^^^^^^^^^^\n",
      "  File \"c:\\Users\\Jash\\Documents\\Research\\Semantic Equivilance\\.venv\\Lib\\site-packages\\pennylane\\devices\\device_constructor.py\", line 297, in device\n",
      "    raise DeviceError(f\"Device {name} does not exist. Make sure the required plugin is installed.\")\n",
      "pennylane.exceptions.DeviceError: Device lightning.gpu does not exist. Make sure the required plugin is installed.\n"
     ]
    },
    {
     "name": "stdout",
     "output_type": "stream",
     "text": [
      "CRITICAL ERROR: Failed to process circuit: Device lightning.gpu does not exist. Make sure the required plugin is installed.\n"
     ]
    },
    {
     "name": "stderr",
     "output_type": "stream",
     "text": [
      "Traceback (most recent call last):\n",
      "  File \"C:\\Users\\Jash\\AppData\\Local\\Temp\\ipykernel_39816\\447722544.py\", line 68, in lambeq_sentence_to_circuit\n",
      "    dev = qml.device(\"lightning.gpu\", wires=num_qubits, shots=10000) # N = 10000 runs of the circuit for statistical significance\n",
      "          ^^^^^^^^^^^^^^^^^^^^^^^^^^^^^^^^^^^^^^^^^^^^^^^^^^^^^^^^^^\n",
      "  File \"c:\\Users\\Jash\\Documents\\Research\\Semantic Equivilance\\.venv\\Lib\\site-packages\\pennylane\\devices\\device_constructor.py\", line 297, in device\n",
      "    raise DeviceError(f\"Device {name} does not exist. Make sure the required plugin is installed.\")\n",
      "pennylane.exceptions.DeviceError: Device lightning.gpu does not exist. Make sure the required plugin is installed.\n"
     ]
    },
    {
     "name": "stdout",
     "output_type": "stream",
     "text": [
      "CRITICAL ERROR: Failed to process circuit: Device lightning.gpu does not exist. Make sure the required plugin is installed.\n"
     ]
    },
    {
     "name": "stderr",
     "output_type": "stream",
     "text": [
      "Traceback (most recent call last):\n",
      "  File \"C:\\Users\\Jash\\AppData\\Local\\Temp\\ipykernel_39816\\447722544.py\", line 68, in lambeq_sentence_to_circuit\n",
      "    dev = qml.device(\"lightning.gpu\", wires=num_qubits, shots=10000) # N = 10000 runs of the circuit for statistical significance\n",
      "          ^^^^^^^^^^^^^^^^^^^^^^^^^^^^^^^^^^^^^^^^^^^^^^^^^^^^^^^^^^\n",
      "  File \"c:\\Users\\Jash\\Documents\\Research\\Semantic Equivilance\\.venv\\Lib\\site-packages\\pennylane\\devices\\device_constructor.py\", line 297, in device\n",
      "    raise DeviceError(f\"Device {name} does not exist. Make sure the required plugin is installed.\")\n",
      "pennylane.exceptions.DeviceError: Device lightning.gpu does not exist. Make sure the required plugin is installed.\n"
     ]
    },
    {
     "name": "stdout",
     "output_type": "stream",
     "text": [
      "CRITICAL ERROR: Failed to process circuit: Device lightning.gpu does not exist. Make sure the required plugin is installed.\n"
     ]
    },
    {
     "name": "stderr",
     "output_type": "stream",
     "text": [
      "Traceback (most recent call last):\n",
      "  File \"C:\\Users\\Jash\\AppData\\Local\\Temp\\ipykernel_39816\\447722544.py\", line 68, in lambeq_sentence_to_circuit\n",
      "    dev = qml.device(\"lightning.gpu\", wires=num_qubits, shots=10000) # N = 10000 runs of the circuit for statistical significance\n",
      "          ^^^^^^^^^^^^^^^^^^^^^^^^^^^^^^^^^^^^^^^^^^^^^^^^^^^^^^^^^^\n",
      "  File \"c:\\Users\\Jash\\Documents\\Research\\Semantic Equivilance\\.venv\\Lib\\site-packages\\pennylane\\devices\\device_constructor.py\", line 297, in device\n",
      "    raise DeviceError(f\"Device {name} does not exist. Make sure the required plugin is installed.\")\n",
      "pennylane.exceptions.DeviceError: Device lightning.gpu does not exist. Make sure the required plugin is installed.\n"
     ]
    },
    {
     "name": "stdout",
     "output_type": "stream",
     "text": [
      "CRITICAL ERROR: Failed to process circuit: Device lightning.gpu does not exist. Make sure the required plugin is installed.\n"
     ]
    },
    {
     "name": "stderr",
     "output_type": "stream",
     "text": [
      "Traceback (most recent call last):\n",
      "  File \"C:\\Users\\Jash\\AppData\\Local\\Temp\\ipykernel_39816\\447722544.py\", line 68, in lambeq_sentence_to_circuit\n",
      "    dev = qml.device(\"lightning.gpu\", wires=num_qubits, shots=10000) # N = 10000 runs of the circuit for statistical significance\n",
      "          ^^^^^^^^^^^^^^^^^^^^^^^^^^^^^^^^^^^^^^^^^^^^^^^^^^^^^^^^^^\n",
      "  File \"c:\\Users\\Jash\\Documents\\Research\\Semantic Equivilance\\.venv\\Lib\\site-packages\\pennylane\\devices\\device_constructor.py\", line 297, in device\n",
      "    raise DeviceError(f\"Device {name} does not exist. Make sure the required plugin is installed.\")\n",
      "pennylane.exceptions.DeviceError: Device lightning.gpu does not exist. Make sure the required plugin is installed.\n"
     ]
    },
    {
     "name": "stdout",
     "output_type": "stream",
     "text": [
      "CRITICAL ERROR: Failed to process circuit: Device lightning.gpu does not exist. Make sure the required plugin is installed.\n"
     ]
    },
    {
     "name": "stderr",
     "output_type": "stream",
     "text": [
      "Traceback (most recent call last):\n",
      "  File \"C:\\Users\\Jash\\AppData\\Local\\Temp\\ipykernel_39816\\447722544.py\", line 68, in lambeq_sentence_to_circuit\n",
      "    dev = qml.device(\"lightning.gpu\", wires=num_qubits, shots=10000) # N = 10000 runs of the circuit for statistical significance\n",
      "          ^^^^^^^^^^^^^^^^^^^^^^^^^^^^^^^^^^^^^^^^^^^^^^^^^^^^^^^^^^\n",
      "  File \"c:\\Users\\Jash\\Documents\\Research\\Semantic Equivilance\\.venv\\Lib\\site-packages\\pennylane\\devices\\device_constructor.py\", line 297, in device\n",
      "    raise DeviceError(f\"Device {name} does not exist. Make sure the required plugin is installed.\")\n",
      "pennylane.exceptions.DeviceError: Device lightning.gpu does not exist. Make sure the required plugin is installed.\n"
     ]
    },
    {
     "name": "stdout",
     "output_type": "stream",
     "text": [
      "CRITICAL ERROR: Failed to process circuit: Device lightning.gpu does not exist. Make sure the required plugin is installed.\n"
     ]
    },
    {
     "name": "stderr",
     "output_type": "stream",
     "text": [
      "Traceback (most recent call last):\n",
      "  File \"C:\\Users\\Jash\\AppData\\Local\\Temp\\ipykernel_39816\\447722544.py\", line 68, in lambeq_sentence_to_circuit\n",
      "    dev = qml.device(\"lightning.gpu\", wires=num_qubits, shots=10000) # N = 10000 runs of the circuit for statistical significance\n",
      "          ^^^^^^^^^^^^^^^^^^^^^^^^^^^^^^^^^^^^^^^^^^^^^^^^^^^^^^^^^^\n",
      "  File \"c:\\Users\\Jash\\Documents\\Research\\Semantic Equivilance\\.venv\\Lib\\site-packages\\pennylane\\devices\\device_constructor.py\", line 297, in device\n",
      "    raise DeviceError(f\"Device {name} does not exist. Make sure the required plugin is installed.\")\n",
      "pennylane.exceptions.DeviceError: Device lightning.gpu does not exist. Make sure the required plugin is installed.\n"
     ]
    },
    {
     "name": "stdout",
     "output_type": "stream",
     "text": [
      "CRITICAL ERROR: Failed to process circuit: Device lightning.gpu does not exist. Make sure the required plugin is installed.\n"
     ]
    },
    {
     "name": "stderr",
     "output_type": "stream",
     "text": [
      "Traceback (most recent call last):\n",
      "  File \"C:\\Users\\Jash\\AppData\\Local\\Temp\\ipykernel_39816\\447722544.py\", line 68, in lambeq_sentence_to_circuit\n",
      "    dev = qml.device(\"lightning.gpu\", wires=num_qubits, shots=10000) # N = 10000 runs of the circuit for statistical significance\n",
      "          ^^^^^^^^^^^^^^^^^^^^^^^^^^^^^^^^^^^^^^^^^^^^^^^^^^^^^^^^^^\n",
      "  File \"c:\\Users\\Jash\\Documents\\Research\\Semantic Equivilance\\.venv\\Lib\\site-packages\\pennylane\\devices\\device_constructor.py\", line 297, in device\n",
      "    raise DeviceError(f\"Device {name} does not exist. Make sure the required plugin is installed.\")\n",
      "pennylane.exceptions.DeviceError: Device lightning.gpu does not exist. Make sure the required plugin is installed.\n"
     ]
    },
    {
     "name": "stdout",
     "output_type": "stream",
     "text": [
      "CRITICAL ERROR: Failed to process circuit: Device lightning.gpu does not exist. Make sure the required plugin is installed.\n"
     ]
    },
    {
     "name": "stderr",
     "output_type": "stream",
     "text": [
      "Traceback (most recent call last):\n",
      "  File \"C:\\Users\\Jash\\AppData\\Local\\Temp\\ipykernel_39816\\447722544.py\", line 68, in lambeq_sentence_to_circuit\n",
      "    dev = qml.device(\"lightning.gpu\", wires=num_qubits, shots=10000) # N = 10000 runs of the circuit for statistical significance\n",
      "          ^^^^^^^^^^^^^^^^^^^^^^^^^^^^^^^^^^^^^^^^^^^^^^^^^^^^^^^^^^\n",
      "  File \"c:\\Users\\Jash\\Documents\\Research\\Semantic Equivilance\\.venv\\Lib\\site-packages\\pennylane\\devices\\device_constructor.py\", line 297, in device\n",
      "    raise DeviceError(f\"Device {name} does not exist. Make sure the required plugin is installed.\")\n",
      "pennylane.exceptions.DeviceError: Device lightning.gpu does not exist. Make sure the required plugin is installed.\n"
     ]
    },
    {
     "name": "stdout",
     "output_type": "stream",
     "text": [
      "CRITICAL ERROR: Failed to process circuit: Device lightning.gpu does not exist. Make sure the required plugin is installed.\n"
     ]
    },
    {
     "name": "stderr",
     "output_type": "stream",
     "text": [
      "Traceback (most recent call last):\n",
      "  File \"C:\\Users\\Jash\\AppData\\Local\\Temp\\ipykernel_39816\\447722544.py\", line 68, in lambeq_sentence_to_circuit\n",
      "    dev = qml.device(\"lightning.gpu\", wires=num_qubits, shots=10000) # N = 10000 runs of the circuit for statistical significance\n",
      "          ^^^^^^^^^^^^^^^^^^^^^^^^^^^^^^^^^^^^^^^^^^^^^^^^^^^^^^^^^^\n",
      "  File \"c:\\Users\\Jash\\Documents\\Research\\Semantic Equivilance\\.venv\\Lib\\site-packages\\pennylane\\devices\\device_constructor.py\", line 297, in device\n",
      "    raise DeviceError(f\"Device {name} does not exist. Make sure the required plugin is installed.\")\n",
      "pennylane.exceptions.DeviceError: Device lightning.gpu does not exist. Make sure the required plugin is installed.\n"
     ]
    },
    {
     "name": "stdout",
     "output_type": "stream",
     "text": [
      "CRITICAL ERROR: Failed to process circuit: Device lightning.gpu does not exist. Make sure the required plugin is installed.\n"
     ]
    },
    {
     "name": "stderr",
     "output_type": "stream",
     "text": [
      "Traceback (most recent call last):\n",
      "  File \"C:\\Users\\Jash\\AppData\\Local\\Temp\\ipykernel_39816\\447722544.py\", line 68, in lambeq_sentence_to_circuit\n",
      "    dev = qml.device(\"lightning.gpu\", wires=num_qubits, shots=10000) # N = 10000 runs of the circuit for statistical significance\n",
      "          ^^^^^^^^^^^^^^^^^^^^^^^^^^^^^^^^^^^^^^^^^^^^^^^^^^^^^^^^^^\n",
      "  File \"c:\\Users\\Jash\\Documents\\Research\\Semantic Equivilance\\.venv\\Lib\\site-packages\\pennylane\\devices\\device_constructor.py\", line 297, in device\n",
      "    raise DeviceError(f\"Device {name} does not exist. Make sure the required plugin is installed.\")\n",
      "pennylane.exceptions.DeviceError: Device lightning.gpu does not exist. Make sure the required plugin is installed.\n"
     ]
    },
    {
     "name": "stdout",
     "output_type": "stream",
     "text": [
      "CRITICAL ERROR: Failed to process circuit: Device lightning.gpu does not exist. Make sure the required plugin is installed.\n"
     ]
    },
    {
     "name": "stderr",
     "output_type": "stream",
     "text": [
      "Traceback (most recent call last):\n",
      "  File \"C:\\Users\\Jash\\AppData\\Local\\Temp\\ipykernel_39816\\447722544.py\", line 68, in lambeq_sentence_to_circuit\n",
      "    dev = qml.device(\"lightning.gpu\", wires=num_qubits, shots=10000) # N = 10000 runs of the circuit for statistical significance\n",
      "          ^^^^^^^^^^^^^^^^^^^^^^^^^^^^^^^^^^^^^^^^^^^^^^^^^^^^^^^^^^\n",
      "  File \"c:\\Users\\Jash\\Documents\\Research\\Semantic Equivilance\\.venv\\Lib\\site-packages\\pennylane\\devices\\device_constructor.py\", line 297, in device\n",
      "    raise DeviceError(f\"Device {name} does not exist. Make sure the required plugin is installed.\")\n",
      "pennylane.exceptions.DeviceError: Device lightning.gpu does not exist. Make sure the required plugin is installed.\n"
     ]
    },
    {
     "name": "stdout",
     "output_type": "stream",
     "text": [
      "CRITICAL ERROR: Failed to process circuit: Device lightning.gpu does not exist. Make sure the required plugin is installed.\n"
     ]
    },
    {
     "name": "stderr",
     "output_type": "stream",
     "text": [
      "Traceback (most recent call last):\n",
      "  File \"C:\\Users\\Jash\\AppData\\Local\\Temp\\ipykernel_39816\\447722544.py\", line 68, in lambeq_sentence_to_circuit\n",
      "    dev = qml.device(\"lightning.gpu\", wires=num_qubits, shots=10000) # N = 10000 runs of the circuit for statistical significance\n",
      "          ^^^^^^^^^^^^^^^^^^^^^^^^^^^^^^^^^^^^^^^^^^^^^^^^^^^^^^^^^^\n",
      "  File \"c:\\Users\\Jash\\Documents\\Research\\Semantic Equivilance\\.venv\\Lib\\site-packages\\pennylane\\devices\\device_constructor.py\", line 297, in device\n",
      "    raise DeviceError(f\"Device {name} does not exist. Make sure the required plugin is installed.\")\n",
      "pennylane.exceptions.DeviceError: Device lightning.gpu does not exist. Make sure the required plugin is installed.\n"
     ]
    },
    {
     "name": "stdout",
     "output_type": "stream",
     "text": [
      "CRITICAL ERROR: Failed to process circuit: Device lightning.gpu does not exist. Make sure the required plugin is installed.\n"
     ]
    },
    {
     "name": "stderr",
     "output_type": "stream",
     "text": [
      "Traceback (most recent call last):\n",
      "  File \"C:\\Users\\Jash\\AppData\\Local\\Temp\\ipykernel_39816\\447722544.py\", line 68, in lambeq_sentence_to_circuit\n",
      "    dev = qml.device(\"lightning.gpu\", wires=num_qubits, shots=10000) # N = 10000 runs of the circuit for statistical significance\n",
      "          ^^^^^^^^^^^^^^^^^^^^^^^^^^^^^^^^^^^^^^^^^^^^^^^^^^^^^^^^^^\n",
      "  File \"c:\\Users\\Jash\\Documents\\Research\\Semantic Equivilance\\.venv\\Lib\\site-packages\\pennylane\\devices\\device_constructor.py\", line 297, in device\n",
      "    raise DeviceError(f\"Device {name} does not exist. Make sure the required plugin is installed.\")\n",
      "pennylane.exceptions.DeviceError: Device lightning.gpu does not exist. Make sure the required plugin is installed.\n"
     ]
    },
    {
     "name": "stdout",
     "output_type": "stream",
     "text": [
      "CRITICAL ERROR: Failed to process circuit: Device lightning.gpu does not exist. Make sure the required plugin is installed.\n"
     ]
    },
    {
     "name": "stderr",
     "output_type": "stream",
     "text": [
      "Traceback (most recent call last):\n",
      "  File \"C:\\Users\\Jash\\AppData\\Local\\Temp\\ipykernel_39816\\447722544.py\", line 68, in lambeq_sentence_to_circuit\n",
      "    dev = qml.device(\"lightning.gpu\", wires=num_qubits, shots=10000) # N = 10000 runs of the circuit for statistical significance\n",
      "          ^^^^^^^^^^^^^^^^^^^^^^^^^^^^^^^^^^^^^^^^^^^^^^^^^^^^^^^^^^\n",
      "  File \"c:\\Users\\Jash\\Documents\\Research\\Semantic Equivilance\\.venv\\Lib\\site-packages\\pennylane\\devices\\device_constructor.py\", line 297, in device\n",
      "    raise DeviceError(f\"Device {name} does not exist. Make sure the required plugin is installed.\")\n",
      "pennylane.exceptions.DeviceError: Device lightning.gpu does not exist. Make sure the required plugin is installed.\n"
     ]
    },
    {
     "name": "stdout",
     "output_type": "stream",
     "text": [
      "CRITICAL ERROR: Failed to process circuit: Device lightning.gpu does not exist. Make sure the required plugin is installed.\n"
     ]
    },
    {
     "name": "stderr",
     "output_type": "stream",
     "text": [
      "Traceback (most recent call last):\n",
      "  File \"C:\\Users\\Jash\\AppData\\Local\\Temp\\ipykernel_39816\\447722544.py\", line 68, in lambeq_sentence_to_circuit\n",
      "    dev = qml.device(\"lightning.gpu\", wires=num_qubits, shots=10000) # N = 10000 runs of the circuit for statistical significance\n",
      "          ^^^^^^^^^^^^^^^^^^^^^^^^^^^^^^^^^^^^^^^^^^^^^^^^^^^^^^^^^^\n",
      "  File \"c:\\Users\\Jash\\Documents\\Research\\Semantic Equivilance\\.venv\\Lib\\site-packages\\pennylane\\devices\\device_constructor.py\", line 297, in device\n",
      "    raise DeviceError(f\"Device {name} does not exist. Make sure the required plugin is installed.\")\n",
      "pennylane.exceptions.DeviceError: Device lightning.gpu does not exist. Make sure the required plugin is installed.\n"
     ]
    },
    {
     "name": "stdout",
     "output_type": "stream",
     "text": [
      "CRITICAL ERROR: Failed to process circuit: Device lightning.gpu does not exist. Make sure the required plugin is installed.\n"
     ]
    },
    {
     "name": "stderr",
     "output_type": "stream",
     "text": [
      "Traceback (most recent call last):\n",
      "  File \"C:\\Users\\Jash\\AppData\\Local\\Temp\\ipykernel_39816\\447722544.py\", line 68, in lambeq_sentence_to_circuit\n",
      "    dev = qml.device(\"lightning.gpu\", wires=num_qubits, shots=10000) # N = 10000 runs of the circuit for statistical significance\n",
      "          ^^^^^^^^^^^^^^^^^^^^^^^^^^^^^^^^^^^^^^^^^^^^^^^^^^^^^^^^^^\n",
      "  File \"c:\\Users\\Jash\\Documents\\Research\\Semantic Equivilance\\.venv\\Lib\\site-packages\\pennylane\\devices\\device_constructor.py\", line 297, in device\n",
      "    raise DeviceError(f\"Device {name} does not exist. Make sure the required plugin is installed.\")\n",
      "pennylane.exceptions.DeviceError: Device lightning.gpu does not exist. Make sure the required plugin is installed.\n"
     ]
    },
    {
     "name": "stdout",
     "output_type": "stream",
     "text": [
      "CRITICAL ERROR: Failed to process circuit: Device lightning.gpu does not exist. Make sure the required plugin is installed.\n"
     ]
    },
    {
     "name": "stderr",
     "output_type": "stream",
     "text": [
      "Traceback (most recent call last):\n",
      "  File \"C:\\Users\\Jash\\AppData\\Local\\Temp\\ipykernel_39816\\447722544.py\", line 68, in lambeq_sentence_to_circuit\n",
      "    dev = qml.device(\"lightning.gpu\", wires=num_qubits, shots=10000) # N = 10000 runs of the circuit for statistical significance\n",
      "          ^^^^^^^^^^^^^^^^^^^^^^^^^^^^^^^^^^^^^^^^^^^^^^^^^^^^^^^^^^\n",
      "  File \"c:\\Users\\Jash\\Documents\\Research\\Semantic Equivilance\\.venv\\Lib\\site-packages\\pennylane\\devices\\device_constructor.py\", line 297, in device\n",
      "    raise DeviceError(f\"Device {name} does not exist. Make sure the required plugin is installed.\")\n",
      "pennylane.exceptions.DeviceError: Device lightning.gpu does not exist. Make sure the required plugin is installed.\n"
     ]
    },
    {
     "name": "stdout",
     "output_type": "stream",
     "text": [
      "CRITICAL ERROR: Failed to process circuit: Device lightning.gpu does not exist. Make sure the required plugin is installed.\n"
     ]
    },
    {
     "name": "stderr",
     "output_type": "stream",
     "text": [
      "Traceback (most recent call last):\n",
      "  File \"C:\\Users\\Jash\\AppData\\Local\\Temp\\ipykernel_39816\\447722544.py\", line 68, in lambeq_sentence_to_circuit\n",
      "    dev = qml.device(\"lightning.gpu\", wires=num_qubits, shots=10000) # N = 10000 runs of the circuit for statistical significance\n",
      "          ^^^^^^^^^^^^^^^^^^^^^^^^^^^^^^^^^^^^^^^^^^^^^^^^^^^^^^^^^^\n",
      "  File \"c:\\Users\\Jash\\Documents\\Research\\Semantic Equivilance\\.venv\\Lib\\site-packages\\pennylane\\devices\\device_constructor.py\", line 297, in device\n",
      "    raise DeviceError(f\"Device {name} does not exist. Make sure the required plugin is installed.\")\n",
      "pennylane.exceptions.DeviceError: Device lightning.gpu does not exist. Make sure the required plugin is installed.\n"
     ]
    },
    {
     "name": "stdout",
     "output_type": "stream",
     "text": [
      "CRITICAL ERROR: Failed to process circuit: Device lightning.gpu does not exist. Make sure the required plugin is installed.\n"
     ]
    },
    {
     "name": "stderr",
     "output_type": "stream",
     "text": [
      "Traceback (most recent call last):\n",
      "  File \"C:\\Users\\Jash\\AppData\\Local\\Temp\\ipykernel_39816\\447722544.py\", line 68, in lambeq_sentence_to_circuit\n",
      "    dev = qml.device(\"lightning.gpu\", wires=num_qubits, shots=10000) # N = 10000 runs of the circuit for statistical significance\n",
      "          ^^^^^^^^^^^^^^^^^^^^^^^^^^^^^^^^^^^^^^^^^^^^^^^^^^^^^^^^^^\n",
      "  File \"c:\\Users\\Jash\\Documents\\Research\\Semantic Equivilance\\.venv\\Lib\\site-packages\\pennylane\\devices\\device_constructor.py\", line 297, in device\n",
      "    raise DeviceError(f\"Device {name} does not exist. Make sure the required plugin is installed.\")\n",
      "pennylane.exceptions.DeviceError: Device lightning.gpu does not exist. Make sure the required plugin is installed.\n"
     ]
    },
    {
     "name": "stdout",
     "output_type": "stream",
     "text": [
      "CRITICAL ERROR: Failed to process circuit: Device lightning.gpu does not exist. Make sure the required plugin is installed.\n"
     ]
    },
    {
     "name": "stderr",
     "output_type": "stream",
     "text": [
      "Traceback (most recent call last):\n",
      "  File \"C:\\Users\\Jash\\AppData\\Local\\Temp\\ipykernel_39816\\447722544.py\", line 68, in lambeq_sentence_to_circuit\n",
      "    dev = qml.device(\"lightning.gpu\", wires=num_qubits, shots=10000) # N = 10000 runs of the circuit for statistical significance\n",
      "          ^^^^^^^^^^^^^^^^^^^^^^^^^^^^^^^^^^^^^^^^^^^^^^^^^^^^^^^^^^\n",
      "  File \"c:\\Users\\Jash\\Documents\\Research\\Semantic Equivilance\\.venv\\Lib\\site-packages\\pennylane\\devices\\device_constructor.py\", line 297, in device\n",
      "    raise DeviceError(f\"Device {name} does not exist. Make sure the required plugin is installed.\")\n",
      "pennylane.exceptions.DeviceError: Device lightning.gpu does not exist. Make sure the required plugin is installed.\n"
     ]
    },
    {
     "name": "stdout",
     "output_type": "stream",
     "text": [
      "CRITICAL ERROR: Failed to process circuit: Device lightning.gpu does not exist. Make sure the required plugin is installed.\n"
     ]
    },
    {
     "name": "stderr",
     "output_type": "stream",
     "text": [
      "Traceback (most recent call last):\n",
      "  File \"C:\\Users\\Jash\\AppData\\Local\\Temp\\ipykernel_39816\\447722544.py\", line 68, in lambeq_sentence_to_circuit\n",
      "    dev = qml.device(\"lightning.gpu\", wires=num_qubits, shots=10000) # N = 10000 runs of the circuit for statistical significance\n",
      "          ^^^^^^^^^^^^^^^^^^^^^^^^^^^^^^^^^^^^^^^^^^^^^^^^^^^^^^^^^^\n",
      "  File \"c:\\Users\\Jash\\Documents\\Research\\Semantic Equivilance\\.venv\\Lib\\site-packages\\pennylane\\devices\\device_constructor.py\", line 297, in device\n",
      "    raise DeviceError(f\"Device {name} does not exist. Make sure the required plugin is installed.\")\n",
      "pennylane.exceptions.DeviceError: Device lightning.gpu does not exist. Make sure the required plugin is installed.\n"
     ]
    },
    {
     "name": "stdout",
     "output_type": "stream",
     "text": [
      "CRITICAL ERROR: Failed to process circuit: Device lightning.gpu does not exist. Make sure the required plugin is installed.\n"
     ]
    },
    {
     "name": "stderr",
     "output_type": "stream",
     "text": [
      "Traceback (most recent call last):\n",
      "  File \"C:\\Users\\Jash\\AppData\\Local\\Temp\\ipykernel_39816\\447722544.py\", line 68, in lambeq_sentence_to_circuit\n",
      "    dev = qml.device(\"lightning.gpu\", wires=num_qubits, shots=10000) # N = 10000 runs of the circuit for statistical significance\n",
      "          ^^^^^^^^^^^^^^^^^^^^^^^^^^^^^^^^^^^^^^^^^^^^^^^^^^^^^^^^^^\n",
      "  File \"c:\\Users\\Jash\\Documents\\Research\\Semantic Equivilance\\.venv\\Lib\\site-packages\\pennylane\\devices\\device_constructor.py\", line 297, in device\n",
      "    raise DeviceError(f\"Device {name} does not exist. Make sure the required plugin is installed.\")\n",
      "pennylane.exceptions.DeviceError: Device lightning.gpu does not exist. Make sure the required plugin is installed.\n"
     ]
    },
    {
     "name": "stdout",
     "output_type": "stream",
     "text": [
      "CRITICAL ERROR: Failed to process circuit: Device lightning.gpu does not exist. Make sure the required plugin is installed.\n"
     ]
    },
    {
     "name": "stderr",
     "output_type": "stream",
     "text": [
      "Traceback (most recent call last):\n",
      "  File \"C:\\Users\\Jash\\AppData\\Local\\Temp\\ipykernel_39816\\447722544.py\", line 68, in lambeq_sentence_to_circuit\n",
      "    dev = qml.device(\"lightning.gpu\", wires=num_qubits, shots=10000) # N = 10000 runs of the circuit for statistical significance\n",
      "          ^^^^^^^^^^^^^^^^^^^^^^^^^^^^^^^^^^^^^^^^^^^^^^^^^^^^^^^^^^\n",
      "  File \"c:\\Users\\Jash\\Documents\\Research\\Semantic Equivilance\\.venv\\Lib\\site-packages\\pennylane\\devices\\device_constructor.py\", line 297, in device\n",
      "    raise DeviceError(f\"Device {name} does not exist. Make sure the required plugin is installed.\")\n",
      "pennylane.exceptions.DeviceError: Device lightning.gpu does not exist. Make sure the required plugin is installed.\n"
     ]
    },
    {
     "name": "stdout",
     "output_type": "stream",
     "text": [
      "CRITICAL ERROR: Failed to process circuit: Device lightning.gpu does not exist. Make sure the required plugin is installed.\n"
     ]
    },
    {
     "name": "stderr",
     "output_type": "stream",
     "text": [
      "Traceback (most recent call last):\n",
      "  File \"C:\\Users\\Jash\\AppData\\Local\\Temp\\ipykernel_39816\\447722544.py\", line 68, in lambeq_sentence_to_circuit\n",
      "    dev = qml.device(\"lightning.gpu\", wires=num_qubits, shots=10000) # N = 10000 runs of the circuit for statistical significance\n",
      "          ^^^^^^^^^^^^^^^^^^^^^^^^^^^^^^^^^^^^^^^^^^^^^^^^^^^^^^^^^^\n",
      "  File \"c:\\Users\\Jash\\Documents\\Research\\Semantic Equivilance\\.venv\\Lib\\site-packages\\pennylane\\devices\\device_constructor.py\", line 297, in device\n",
      "    raise DeviceError(f\"Device {name} does not exist. Make sure the required plugin is installed.\")\n",
      "pennylane.exceptions.DeviceError: Device lightning.gpu does not exist. Make sure the required plugin is installed.\n"
     ]
    },
    {
     "name": "stdout",
     "output_type": "stream",
     "text": [
      "CRITICAL ERROR: Failed to process circuit: Device lightning.gpu does not exist. Make sure the required plugin is installed.\n"
     ]
    },
    {
     "name": "stderr",
     "output_type": "stream",
     "text": [
      "Traceback (most recent call last):\n",
      "  File \"C:\\Users\\Jash\\AppData\\Local\\Temp\\ipykernel_39816\\447722544.py\", line 68, in lambeq_sentence_to_circuit\n",
      "    dev = qml.device(\"lightning.gpu\", wires=num_qubits, shots=10000) # N = 10000 runs of the circuit for statistical significance\n",
      "          ^^^^^^^^^^^^^^^^^^^^^^^^^^^^^^^^^^^^^^^^^^^^^^^^^^^^^^^^^^\n",
      "  File \"c:\\Users\\Jash\\Documents\\Research\\Semantic Equivilance\\.venv\\Lib\\site-packages\\pennylane\\devices\\device_constructor.py\", line 297, in device\n",
      "    raise DeviceError(f\"Device {name} does not exist. Make sure the required plugin is installed.\")\n",
      "pennylane.exceptions.DeviceError: Device lightning.gpu does not exist. Make sure the required plugin is installed.\n"
     ]
    },
    {
     "name": "stdout",
     "output_type": "stream",
     "text": [
      "CRITICAL ERROR: Failed to process circuit: Device lightning.gpu does not exist. Make sure the required plugin is installed.\n"
     ]
    },
    {
     "name": "stderr",
     "output_type": "stream",
     "text": [
      "Traceback (most recent call last):\n",
      "  File \"C:\\Users\\Jash\\AppData\\Local\\Temp\\ipykernel_39816\\447722544.py\", line 68, in lambeq_sentence_to_circuit\n",
      "    dev = qml.device(\"lightning.gpu\", wires=num_qubits, shots=10000) # N = 10000 runs of the circuit for statistical significance\n",
      "          ^^^^^^^^^^^^^^^^^^^^^^^^^^^^^^^^^^^^^^^^^^^^^^^^^^^^^^^^^^\n",
      "  File \"c:\\Users\\Jash\\Documents\\Research\\Semantic Equivilance\\.venv\\Lib\\site-packages\\pennylane\\devices\\device_constructor.py\", line 297, in device\n",
      "    raise DeviceError(f\"Device {name} does not exist. Make sure the required plugin is installed.\")\n",
      "pennylane.exceptions.DeviceError: Device lightning.gpu does not exist. Make sure the required plugin is installed.\n"
     ]
    },
    {
     "name": "stdout",
     "output_type": "stream",
     "text": [
      "CRITICAL ERROR: Failed to process circuit: Device lightning.gpu does not exist. Make sure the required plugin is installed.\n"
     ]
    },
    {
     "name": "stderr",
     "output_type": "stream",
     "text": [
      "Traceback (most recent call last):\n",
      "  File \"C:\\Users\\Jash\\AppData\\Local\\Temp\\ipykernel_39816\\447722544.py\", line 68, in lambeq_sentence_to_circuit\n",
      "    dev = qml.device(\"lightning.gpu\", wires=num_qubits, shots=10000) # N = 10000 runs of the circuit for statistical significance\n",
      "          ^^^^^^^^^^^^^^^^^^^^^^^^^^^^^^^^^^^^^^^^^^^^^^^^^^^^^^^^^^\n",
      "  File \"c:\\Users\\Jash\\Documents\\Research\\Semantic Equivilance\\.venv\\Lib\\site-packages\\pennylane\\devices\\device_constructor.py\", line 297, in device\n",
      "    raise DeviceError(f\"Device {name} does not exist. Make sure the required plugin is installed.\")\n",
      "pennylane.exceptions.DeviceError: Device lightning.gpu does not exist. Make sure the required plugin is installed.\n"
     ]
    },
    {
     "name": "stdout",
     "output_type": "stream",
     "text": [
      "CRITICAL ERROR: Failed to process circuit: Device lightning.gpu does not exist. Make sure the required plugin is installed.\n"
     ]
    },
    {
     "name": "stderr",
     "output_type": "stream",
     "text": [
      "Traceback (most recent call last):\n",
      "  File \"C:\\Users\\Jash\\AppData\\Local\\Temp\\ipykernel_39816\\447722544.py\", line 68, in lambeq_sentence_to_circuit\n",
      "    dev = qml.device(\"lightning.gpu\", wires=num_qubits, shots=10000) # N = 10000 runs of the circuit for statistical significance\n",
      "          ^^^^^^^^^^^^^^^^^^^^^^^^^^^^^^^^^^^^^^^^^^^^^^^^^^^^^^^^^^\n",
      "  File \"c:\\Users\\Jash\\Documents\\Research\\Semantic Equivilance\\.venv\\Lib\\site-packages\\pennylane\\devices\\device_constructor.py\", line 297, in device\n",
      "    raise DeviceError(f\"Device {name} does not exist. Make sure the required plugin is installed.\")\n",
      "pennylane.exceptions.DeviceError: Device lightning.gpu does not exist. Make sure the required plugin is installed.\n"
     ]
    },
    {
     "name": "stdout",
     "output_type": "stream",
     "text": [
      "CRITICAL ERROR: Failed to process circuit: Device lightning.gpu does not exist. Make sure the required plugin is installed.\n"
     ]
    },
    {
     "name": "stderr",
     "output_type": "stream",
     "text": [
      "Traceback (most recent call last):\n",
      "  File \"C:\\Users\\Jash\\AppData\\Local\\Temp\\ipykernel_39816\\447722544.py\", line 68, in lambeq_sentence_to_circuit\n",
      "    dev = qml.device(\"lightning.gpu\", wires=num_qubits, shots=10000) # N = 10000 runs of the circuit for statistical significance\n",
      "          ^^^^^^^^^^^^^^^^^^^^^^^^^^^^^^^^^^^^^^^^^^^^^^^^^^^^^^^^^^\n",
      "  File \"c:\\Users\\Jash\\Documents\\Research\\Semantic Equivilance\\.venv\\Lib\\site-packages\\pennylane\\devices\\device_constructor.py\", line 297, in device\n",
      "    raise DeviceError(f\"Device {name} does not exist. Make sure the required plugin is installed.\")\n",
      "pennylane.exceptions.DeviceError: Device lightning.gpu does not exist. Make sure the required plugin is installed.\n"
     ]
    },
    {
     "name": "stdout",
     "output_type": "stream",
     "text": [
      "CRITICAL ERROR: Failed to process circuit: Device lightning.gpu does not exist. Make sure the required plugin is installed.\n"
     ]
    },
    {
     "name": "stderr",
     "output_type": "stream",
     "text": [
      "Traceback (most recent call last):\n",
      "  File \"C:\\Users\\Jash\\AppData\\Local\\Temp\\ipykernel_39816\\447722544.py\", line 68, in lambeq_sentence_to_circuit\n",
      "    dev = qml.device(\"lightning.gpu\", wires=num_qubits, shots=10000) # N = 10000 runs of the circuit for statistical significance\n",
      "          ^^^^^^^^^^^^^^^^^^^^^^^^^^^^^^^^^^^^^^^^^^^^^^^^^^^^^^^^^^\n",
      "  File \"c:\\Users\\Jash\\Documents\\Research\\Semantic Equivilance\\.venv\\Lib\\site-packages\\pennylane\\devices\\device_constructor.py\", line 297, in device\n",
      "    raise DeviceError(f\"Device {name} does not exist. Make sure the required plugin is installed.\")\n",
      "pennylane.exceptions.DeviceError: Device lightning.gpu does not exist. Make sure the required plugin is installed.\n"
     ]
    },
    {
     "name": "stdout",
     "output_type": "stream",
     "text": [
      "CRITICAL ERROR: Failed to process circuit: Device lightning.gpu does not exist. Make sure the required plugin is installed.\n"
     ]
    },
    {
     "name": "stderr",
     "output_type": "stream",
     "text": [
      "Traceback (most recent call last):\n",
      "  File \"C:\\Users\\Jash\\AppData\\Local\\Temp\\ipykernel_39816\\447722544.py\", line 68, in lambeq_sentence_to_circuit\n",
      "    dev = qml.device(\"lightning.gpu\", wires=num_qubits, shots=10000) # N = 10000 runs of the circuit for statistical significance\n",
      "          ^^^^^^^^^^^^^^^^^^^^^^^^^^^^^^^^^^^^^^^^^^^^^^^^^^^^^^^^^^\n",
      "  File \"c:\\Users\\Jash\\Documents\\Research\\Semantic Equivilance\\.venv\\Lib\\site-packages\\pennylane\\devices\\device_constructor.py\", line 297, in device\n",
      "    raise DeviceError(f\"Device {name} does not exist. Make sure the required plugin is installed.\")\n",
      "pennylane.exceptions.DeviceError: Device lightning.gpu does not exist. Make sure the required plugin is installed.\n"
     ]
    },
    {
     "name": "stdout",
     "output_type": "stream",
     "text": [
      "CRITICAL ERROR: Failed to process circuit: Device lightning.gpu does not exist. Make sure the required plugin is installed.\n"
     ]
    },
    {
     "name": "stderr",
     "output_type": "stream",
     "text": [
      "Traceback (most recent call last):\n",
      "  File \"C:\\Users\\Jash\\AppData\\Local\\Temp\\ipykernel_39816\\447722544.py\", line 68, in lambeq_sentence_to_circuit\n",
      "    dev = qml.device(\"lightning.gpu\", wires=num_qubits, shots=10000) # N = 10000 runs of the circuit for statistical significance\n",
      "          ^^^^^^^^^^^^^^^^^^^^^^^^^^^^^^^^^^^^^^^^^^^^^^^^^^^^^^^^^^\n",
      "  File \"c:\\Users\\Jash\\Documents\\Research\\Semantic Equivilance\\.venv\\Lib\\site-packages\\pennylane\\devices\\device_constructor.py\", line 297, in device\n",
      "    raise DeviceError(f\"Device {name} does not exist. Make sure the required plugin is installed.\")\n",
      "pennylane.exceptions.DeviceError: Device lightning.gpu does not exist. Make sure the required plugin is installed.\n"
     ]
    },
    {
     "name": "stdout",
     "output_type": "stream",
     "text": [
      "CRITICAL ERROR: Failed to process circuit: Device lightning.gpu does not exist. Make sure the required plugin is installed.\n"
     ]
    },
    {
     "name": "stderr",
     "output_type": "stream",
     "text": [
      "Traceback (most recent call last):\n",
      "  File \"C:\\Users\\Jash\\AppData\\Local\\Temp\\ipykernel_39816\\447722544.py\", line 68, in lambeq_sentence_to_circuit\n",
      "    dev = qml.device(\"lightning.gpu\", wires=num_qubits, shots=10000) # N = 10000 runs of the circuit for statistical significance\n",
      "          ^^^^^^^^^^^^^^^^^^^^^^^^^^^^^^^^^^^^^^^^^^^^^^^^^^^^^^^^^^\n",
      "  File \"c:\\Users\\Jash\\Documents\\Research\\Semantic Equivilance\\.venv\\Lib\\site-packages\\pennylane\\devices\\device_constructor.py\", line 297, in device\n",
      "    raise DeviceError(f\"Device {name} does not exist. Make sure the required plugin is installed.\")\n",
      "pennylane.exceptions.DeviceError: Device lightning.gpu does not exist. Make sure the required plugin is installed.\n"
     ]
    },
    {
     "name": "stdout",
     "output_type": "stream",
     "text": [
      "CRITICAL ERROR: Failed to process circuit: Device lightning.gpu does not exist. Make sure the required plugin is installed.\n"
     ]
    },
    {
     "name": "stderr",
     "output_type": "stream",
     "text": [
      "Traceback (most recent call last):\n",
      "  File \"C:\\Users\\Jash\\AppData\\Local\\Temp\\ipykernel_39816\\447722544.py\", line 68, in lambeq_sentence_to_circuit\n",
      "    dev = qml.device(\"lightning.gpu\", wires=num_qubits, shots=10000) # N = 10000 runs of the circuit for statistical significance\n",
      "          ^^^^^^^^^^^^^^^^^^^^^^^^^^^^^^^^^^^^^^^^^^^^^^^^^^^^^^^^^^\n",
      "  File \"c:\\Users\\Jash\\Documents\\Research\\Semantic Equivilance\\.venv\\Lib\\site-packages\\pennylane\\devices\\device_constructor.py\", line 297, in device\n",
      "    raise DeviceError(f\"Device {name} does not exist. Make sure the required plugin is installed.\")\n",
      "pennylane.exceptions.DeviceError: Device lightning.gpu does not exist. Make sure the required plugin is installed.\n"
     ]
    },
    {
     "name": "stdout",
     "output_type": "stream",
     "text": [
      "CRITICAL ERROR: Failed to process circuit: Device lightning.gpu does not exist. Make sure the required plugin is installed.\n"
     ]
    },
    {
     "name": "stderr",
     "output_type": "stream",
     "text": [
      "Traceback (most recent call last):\n",
      "  File \"C:\\Users\\Jash\\AppData\\Local\\Temp\\ipykernel_39816\\447722544.py\", line 68, in lambeq_sentence_to_circuit\n",
      "    dev = qml.device(\"lightning.gpu\", wires=num_qubits, shots=10000) # N = 10000 runs of the circuit for statistical significance\n",
      "          ^^^^^^^^^^^^^^^^^^^^^^^^^^^^^^^^^^^^^^^^^^^^^^^^^^^^^^^^^^\n",
      "  File \"c:\\Users\\Jash\\Documents\\Research\\Semantic Equivilance\\.venv\\Lib\\site-packages\\pennylane\\devices\\device_constructor.py\", line 297, in device\n",
      "    raise DeviceError(f\"Device {name} does not exist. Make sure the required plugin is installed.\")\n",
      "pennylane.exceptions.DeviceError: Device lightning.gpu does not exist. Make sure the required plugin is installed.\n"
     ]
    },
    {
     "name": "stdout",
     "output_type": "stream",
     "text": [
      "CRITICAL ERROR: Failed to process circuit: Device lightning.gpu does not exist. Make sure the required plugin is installed.\n"
     ]
    },
    {
     "name": "stderr",
     "output_type": "stream",
     "text": [
      "Traceback (most recent call last):\n",
      "  File \"C:\\Users\\Jash\\AppData\\Local\\Temp\\ipykernel_39816\\447722544.py\", line 68, in lambeq_sentence_to_circuit\n",
      "    dev = qml.device(\"lightning.gpu\", wires=num_qubits, shots=10000) # N = 10000 runs of the circuit for statistical significance\n",
      "          ^^^^^^^^^^^^^^^^^^^^^^^^^^^^^^^^^^^^^^^^^^^^^^^^^^^^^^^^^^\n",
      "  File \"c:\\Users\\Jash\\Documents\\Research\\Semantic Equivilance\\.venv\\Lib\\site-packages\\pennylane\\devices\\device_constructor.py\", line 297, in device\n",
      "    raise DeviceError(f\"Device {name} does not exist. Make sure the required plugin is installed.\")\n",
      "pennylane.exceptions.DeviceError: Device lightning.gpu does not exist. Make sure the required plugin is installed.\n"
     ]
    },
    {
     "name": "stdout",
     "output_type": "stream",
     "text": [
      "CRITICAL ERROR: Failed to process circuit: Device lightning.gpu does not exist. Make sure the required plugin is installed.\n"
     ]
    },
    {
     "name": "stderr",
     "output_type": "stream",
     "text": [
      "Traceback (most recent call last):\n",
      "  File \"C:\\Users\\Jash\\AppData\\Local\\Temp\\ipykernel_39816\\447722544.py\", line 68, in lambeq_sentence_to_circuit\n",
      "    dev = qml.device(\"lightning.gpu\", wires=num_qubits, shots=10000) # N = 10000 runs of the circuit for statistical significance\n",
      "          ^^^^^^^^^^^^^^^^^^^^^^^^^^^^^^^^^^^^^^^^^^^^^^^^^^^^^^^^^^\n",
      "  File \"c:\\Users\\Jash\\Documents\\Research\\Semantic Equivilance\\.venv\\Lib\\site-packages\\pennylane\\devices\\device_constructor.py\", line 297, in device\n",
      "    raise DeviceError(f\"Device {name} does not exist. Make sure the required plugin is installed.\")\n",
      "pennylane.exceptions.DeviceError: Device lightning.gpu does not exist. Make sure the required plugin is installed.\n"
     ]
    },
    {
     "name": "stdout",
     "output_type": "stream",
     "text": [
      "CRITICAL ERROR: Failed to process circuit: Device lightning.gpu does not exist. Make sure the required plugin is installed.\n"
     ]
    },
    {
     "name": "stderr",
     "output_type": "stream",
     "text": [
      "Traceback (most recent call last):\n",
      "  File \"C:\\Users\\Jash\\AppData\\Local\\Temp\\ipykernel_39816\\447722544.py\", line 68, in lambeq_sentence_to_circuit\n",
      "    dev = qml.device(\"lightning.gpu\", wires=num_qubits, shots=10000) # N = 10000 runs of the circuit for statistical significance\n",
      "          ^^^^^^^^^^^^^^^^^^^^^^^^^^^^^^^^^^^^^^^^^^^^^^^^^^^^^^^^^^\n",
      "  File \"c:\\Users\\Jash\\Documents\\Research\\Semantic Equivilance\\.venv\\Lib\\site-packages\\pennylane\\devices\\device_constructor.py\", line 297, in device\n",
      "    raise DeviceError(f\"Device {name} does not exist. Make sure the required plugin is installed.\")\n",
      "pennylane.exceptions.DeviceError: Device lightning.gpu does not exist. Make sure the required plugin is installed.\n"
     ]
    },
    {
     "name": "stdout",
     "output_type": "stream",
     "text": [
      "CRITICAL ERROR: Failed to process circuit: Device lightning.gpu does not exist. Make sure the required plugin is installed.\n"
     ]
    },
    {
     "name": "stderr",
     "output_type": "stream",
     "text": [
      "Traceback (most recent call last):\n",
      "  File \"C:\\Users\\Jash\\AppData\\Local\\Temp\\ipykernel_39816\\447722544.py\", line 68, in lambeq_sentence_to_circuit\n",
      "    dev = qml.device(\"lightning.gpu\", wires=num_qubits, shots=10000) # N = 10000 runs of the circuit for statistical significance\n",
      "          ^^^^^^^^^^^^^^^^^^^^^^^^^^^^^^^^^^^^^^^^^^^^^^^^^^^^^^^^^^\n",
      "  File \"c:\\Users\\Jash\\Documents\\Research\\Semantic Equivilance\\.venv\\Lib\\site-packages\\pennylane\\devices\\device_constructor.py\", line 297, in device\n",
      "    raise DeviceError(f\"Device {name} does not exist. Make sure the required plugin is installed.\")\n",
      "pennylane.exceptions.DeviceError: Device lightning.gpu does not exist. Make sure the required plugin is installed.\n"
     ]
    },
    {
     "name": "stdout",
     "output_type": "stream",
     "text": [
      "CRITICAL ERROR: Failed to process circuit: Device lightning.gpu does not exist. Make sure the required plugin is installed.\n"
     ]
    },
    {
     "name": "stderr",
     "output_type": "stream",
     "text": [
      "Traceback (most recent call last):\n",
      "  File \"C:\\Users\\Jash\\AppData\\Local\\Temp\\ipykernel_39816\\447722544.py\", line 68, in lambeq_sentence_to_circuit\n",
      "    dev = qml.device(\"lightning.gpu\", wires=num_qubits, shots=10000) # N = 10000 runs of the circuit for statistical significance\n",
      "          ^^^^^^^^^^^^^^^^^^^^^^^^^^^^^^^^^^^^^^^^^^^^^^^^^^^^^^^^^^\n",
      "  File \"c:\\Users\\Jash\\Documents\\Research\\Semantic Equivilance\\.venv\\Lib\\site-packages\\pennylane\\devices\\device_constructor.py\", line 297, in device\n",
      "    raise DeviceError(f\"Device {name} does not exist. Make sure the required plugin is installed.\")\n",
      "pennylane.exceptions.DeviceError: Device lightning.gpu does not exist. Make sure the required plugin is installed.\n"
     ]
    },
    {
     "name": "stdout",
     "output_type": "stream",
     "text": [
      "CRITICAL ERROR: Failed to process circuit: Device lightning.gpu does not exist. Make sure the required plugin is installed.\n"
     ]
    },
    {
     "name": "stderr",
     "output_type": "stream",
     "text": [
      "Traceback (most recent call last):\n",
      "  File \"C:\\Users\\Jash\\AppData\\Local\\Temp\\ipykernel_39816\\447722544.py\", line 68, in lambeq_sentence_to_circuit\n",
      "    dev = qml.device(\"lightning.gpu\", wires=num_qubits, shots=10000) # N = 10000 runs of the circuit for statistical significance\n",
      "          ^^^^^^^^^^^^^^^^^^^^^^^^^^^^^^^^^^^^^^^^^^^^^^^^^^^^^^^^^^\n",
      "  File \"c:\\Users\\Jash\\Documents\\Research\\Semantic Equivilance\\.venv\\Lib\\site-packages\\pennylane\\devices\\device_constructor.py\", line 297, in device\n",
      "    raise DeviceError(f\"Device {name} does not exist. Make sure the required plugin is installed.\")\n",
      "pennylane.exceptions.DeviceError: Device lightning.gpu does not exist. Make sure the required plugin is installed.\n"
     ]
    },
    {
     "name": "stdout",
     "output_type": "stream",
     "text": [
      "CRITICAL ERROR: Failed to process circuit: Device lightning.gpu does not exist. Make sure the required plugin is installed.\n"
     ]
    },
    {
     "name": "stderr",
     "output_type": "stream",
     "text": [
      "Traceback (most recent call last):\n",
      "  File \"C:\\Users\\Jash\\AppData\\Local\\Temp\\ipykernel_39816\\447722544.py\", line 68, in lambeq_sentence_to_circuit\n",
      "    dev = qml.device(\"lightning.gpu\", wires=num_qubits, shots=10000) # N = 10000 runs of the circuit for statistical significance\n",
      "          ^^^^^^^^^^^^^^^^^^^^^^^^^^^^^^^^^^^^^^^^^^^^^^^^^^^^^^^^^^\n",
      "  File \"c:\\Users\\Jash\\Documents\\Research\\Semantic Equivilance\\.venv\\Lib\\site-packages\\pennylane\\devices\\device_constructor.py\", line 297, in device\n",
      "    raise DeviceError(f\"Device {name} does not exist. Make sure the required plugin is installed.\")\n",
      "pennylane.exceptions.DeviceError: Device lightning.gpu does not exist. Make sure the required plugin is installed.\n"
     ]
    },
    {
     "name": "stdout",
     "output_type": "stream",
     "text": [
      "CRITICAL ERROR: Failed to process circuit: Device lightning.gpu does not exist. Make sure the required plugin is installed.\n"
     ]
    },
    {
     "name": "stderr",
     "output_type": "stream",
     "text": [
      "Traceback (most recent call last):\n",
      "  File \"C:\\Users\\Jash\\AppData\\Local\\Temp\\ipykernel_39816\\447722544.py\", line 68, in lambeq_sentence_to_circuit\n",
      "    dev = qml.device(\"lightning.gpu\", wires=num_qubits, shots=10000) # N = 10000 runs of the circuit for statistical significance\n",
      "          ^^^^^^^^^^^^^^^^^^^^^^^^^^^^^^^^^^^^^^^^^^^^^^^^^^^^^^^^^^\n",
      "  File \"c:\\Users\\Jash\\Documents\\Research\\Semantic Equivilance\\.venv\\Lib\\site-packages\\pennylane\\devices\\device_constructor.py\", line 297, in device\n",
      "    raise DeviceError(f\"Device {name} does not exist. Make sure the required plugin is installed.\")\n",
      "pennylane.exceptions.DeviceError: Device lightning.gpu does not exist. Make sure the required plugin is installed.\n"
     ]
    },
    {
     "name": "stdout",
     "output_type": "stream",
     "text": [
      "CRITICAL ERROR: Failed to process circuit: Device lightning.gpu does not exist. Make sure the required plugin is installed.\n"
     ]
    },
    {
     "name": "stderr",
     "output_type": "stream",
     "text": [
      "Traceback (most recent call last):\n",
      "  File \"C:\\Users\\Jash\\AppData\\Local\\Temp\\ipykernel_39816\\447722544.py\", line 68, in lambeq_sentence_to_circuit\n",
      "    dev = qml.device(\"lightning.gpu\", wires=num_qubits, shots=10000) # N = 10000 runs of the circuit for statistical significance\n",
      "          ^^^^^^^^^^^^^^^^^^^^^^^^^^^^^^^^^^^^^^^^^^^^^^^^^^^^^^^^^^\n",
      "  File \"c:\\Users\\Jash\\Documents\\Research\\Semantic Equivilance\\.venv\\Lib\\site-packages\\pennylane\\devices\\device_constructor.py\", line 297, in device\n",
      "    raise DeviceError(f\"Device {name} does not exist. Make sure the required plugin is installed.\")\n",
      "pennylane.exceptions.DeviceError: Device lightning.gpu does not exist. Make sure the required plugin is installed.\n"
     ]
    },
    {
     "name": "stdout",
     "output_type": "stream",
     "text": [
      "CRITICAL ERROR: Failed to process circuit: Device lightning.gpu does not exist. Make sure the required plugin is installed.\n"
     ]
    },
    {
     "name": "stderr",
     "output_type": "stream",
     "text": [
      "Traceback (most recent call last):\n",
      "  File \"C:\\Users\\Jash\\AppData\\Local\\Temp\\ipykernel_39816\\447722544.py\", line 68, in lambeq_sentence_to_circuit\n",
      "    dev = qml.device(\"lightning.gpu\", wires=num_qubits, shots=10000) # N = 10000 runs of the circuit for statistical significance\n",
      "          ^^^^^^^^^^^^^^^^^^^^^^^^^^^^^^^^^^^^^^^^^^^^^^^^^^^^^^^^^^\n",
      "  File \"c:\\Users\\Jash\\Documents\\Research\\Semantic Equivilance\\.venv\\Lib\\site-packages\\pennylane\\devices\\device_constructor.py\", line 297, in device\n",
      "    raise DeviceError(f\"Device {name} does not exist. Make sure the required plugin is installed.\")\n",
      "pennylane.exceptions.DeviceError: Device lightning.gpu does not exist. Make sure the required plugin is installed.\n"
     ]
    },
    {
     "name": "stdout",
     "output_type": "stream",
     "text": [
      "CRITICAL ERROR: Failed to process circuit: Device lightning.gpu does not exist. Make sure the required plugin is installed.\n"
     ]
    },
    {
     "name": "stderr",
     "output_type": "stream",
     "text": [
      "Traceback (most recent call last):\n",
      "  File \"C:\\Users\\Jash\\AppData\\Local\\Temp\\ipykernel_39816\\447722544.py\", line 68, in lambeq_sentence_to_circuit\n",
      "    dev = qml.device(\"lightning.gpu\", wires=num_qubits, shots=10000) # N = 10000 runs of the circuit for statistical significance\n",
      "          ^^^^^^^^^^^^^^^^^^^^^^^^^^^^^^^^^^^^^^^^^^^^^^^^^^^^^^^^^^\n",
      "  File \"c:\\Users\\Jash\\Documents\\Research\\Semantic Equivilance\\.venv\\Lib\\site-packages\\pennylane\\devices\\device_constructor.py\", line 297, in device\n",
      "    raise DeviceError(f\"Device {name} does not exist. Make sure the required plugin is installed.\")\n",
      "pennylane.exceptions.DeviceError: Device lightning.gpu does not exist. Make sure the required plugin is installed.\n"
     ]
    },
    {
     "name": "stdout",
     "output_type": "stream",
     "text": [
      "CRITICAL ERROR: Failed to process circuit: Device lightning.gpu does not exist. Make sure the required plugin is installed.\n"
     ]
    },
    {
     "name": "stderr",
     "output_type": "stream",
     "text": [
      "Traceback (most recent call last):\n",
      "  File \"C:\\Users\\Jash\\AppData\\Local\\Temp\\ipykernel_39816\\447722544.py\", line 68, in lambeq_sentence_to_circuit\n",
      "    dev = qml.device(\"lightning.gpu\", wires=num_qubits, shots=10000) # N = 10000 runs of the circuit for statistical significance\n",
      "          ^^^^^^^^^^^^^^^^^^^^^^^^^^^^^^^^^^^^^^^^^^^^^^^^^^^^^^^^^^\n",
      "  File \"c:\\Users\\Jash\\Documents\\Research\\Semantic Equivilance\\.venv\\Lib\\site-packages\\pennylane\\devices\\device_constructor.py\", line 297, in device\n",
      "    raise DeviceError(f\"Device {name} does not exist. Make sure the required plugin is installed.\")\n",
      "pennylane.exceptions.DeviceError: Device lightning.gpu does not exist. Make sure the required plugin is installed.\n"
     ]
    },
    {
     "name": "stdout",
     "output_type": "stream",
     "text": [
      "CRITICAL ERROR: Failed to process circuit: Device lightning.gpu does not exist. Make sure the required plugin is installed.\n"
     ]
    },
    {
     "name": "stderr",
     "output_type": "stream",
     "text": [
      "Traceback (most recent call last):\n",
      "  File \"C:\\Users\\Jash\\AppData\\Local\\Temp\\ipykernel_39816\\447722544.py\", line 68, in lambeq_sentence_to_circuit\n",
      "    dev = qml.device(\"lightning.gpu\", wires=num_qubits, shots=10000) # N = 10000 runs of the circuit for statistical significance\n",
      "          ^^^^^^^^^^^^^^^^^^^^^^^^^^^^^^^^^^^^^^^^^^^^^^^^^^^^^^^^^^\n",
      "  File \"c:\\Users\\Jash\\Documents\\Research\\Semantic Equivilance\\.venv\\Lib\\site-packages\\pennylane\\devices\\device_constructor.py\", line 297, in device\n",
      "    raise DeviceError(f\"Device {name} does not exist. Make sure the required plugin is installed.\")\n",
      "pennylane.exceptions.DeviceError: Device lightning.gpu does not exist. Make sure the required plugin is installed.\n"
     ]
    },
    {
     "name": "stdout",
     "output_type": "stream",
     "text": [
      "CRITICAL ERROR: Failed to process circuit: Device lightning.gpu does not exist. Make sure the required plugin is installed.\n"
     ]
    },
    {
     "name": "stderr",
     "output_type": "stream",
     "text": [
      "Traceback (most recent call last):\n",
      "  File \"C:\\Users\\Jash\\AppData\\Local\\Temp\\ipykernel_39816\\447722544.py\", line 68, in lambeq_sentence_to_circuit\n",
      "    dev = qml.device(\"lightning.gpu\", wires=num_qubits, shots=10000) # N = 10000 runs of the circuit for statistical significance\n",
      "          ^^^^^^^^^^^^^^^^^^^^^^^^^^^^^^^^^^^^^^^^^^^^^^^^^^^^^^^^^^\n",
      "  File \"c:\\Users\\Jash\\Documents\\Research\\Semantic Equivilance\\.venv\\Lib\\site-packages\\pennylane\\devices\\device_constructor.py\", line 297, in device\n",
      "    raise DeviceError(f\"Device {name} does not exist. Make sure the required plugin is installed.\")\n",
      "pennylane.exceptions.DeviceError: Device lightning.gpu does not exist. Make sure the required plugin is installed.\n"
     ]
    },
    {
     "name": "stdout",
     "output_type": "stream",
     "text": [
      "CRITICAL ERROR: Failed to process circuit: Device lightning.gpu does not exist. Make sure the required plugin is installed.\n"
     ]
    },
    {
     "name": "stderr",
     "output_type": "stream",
     "text": [
      "Traceback (most recent call last):\n",
      "  File \"C:\\Users\\Jash\\AppData\\Local\\Temp\\ipykernel_39816\\447722544.py\", line 68, in lambeq_sentence_to_circuit\n",
      "    dev = qml.device(\"lightning.gpu\", wires=num_qubits, shots=10000) # N = 10000 runs of the circuit for statistical significance\n",
      "          ^^^^^^^^^^^^^^^^^^^^^^^^^^^^^^^^^^^^^^^^^^^^^^^^^^^^^^^^^^\n",
      "  File \"c:\\Users\\Jash\\Documents\\Research\\Semantic Equivilance\\.venv\\Lib\\site-packages\\pennylane\\devices\\device_constructor.py\", line 297, in device\n",
      "    raise DeviceError(f\"Device {name} does not exist. Make sure the required plugin is installed.\")\n",
      "pennylane.exceptions.DeviceError: Device lightning.gpu does not exist. Make sure the required plugin is installed.\n"
     ]
    },
    {
     "name": "stdout",
     "output_type": "stream",
     "text": [
      "CRITICAL ERROR: Failed to process circuit: Device lightning.gpu does not exist. Make sure the required plugin is installed.\n"
     ]
    },
    {
     "name": "stderr",
     "output_type": "stream",
     "text": [
      "Traceback (most recent call last):\n",
      "  File \"C:\\Users\\Jash\\AppData\\Local\\Temp\\ipykernel_39816\\447722544.py\", line 68, in lambeq_sentence_to_circuit\n",
      "    dev = qml.device(\"lightning.gpu\", wires=num_qubits, shots=10000) # N = 10000 runs of the circuit for statistical significance\n",
      "          ^^^^^^^^^^^^^^^^^^^^^^^^^^^^^^^^^^^^^^^^^^^^^^^^^^^^^^^^^^\n",
      "  File \"c:\\Users\\Jash\\Documents\\Research\\Semantic Equivilance\\.venv\\Lib\\site-packages\\pennylane\\devices\\device_constructor.py\", line 297, in device\n",
      "    raise DeviceError(f\"Device {name} does not exist. Make sure the required plugin is installed.\")\n",
      "pennylane.exceptions.DeviceError: Device lightning.gpu does not exist. Make sure the required plugin is installed.\n"
     ]
    },
    {
     "name": "stdout",
     "output_type": "stream",
     "text": [
      "CRITICAL ERROR: Failed to process circuit: Device lightning.gpu does not exist. Make sure the required plugin is installed.\n"
     ]
    },
    {
     "name": "stderr",
     "output_type": "stream",
     "text": [
      "Traceback (most recent call last):\n",
      "  File \"C:\\Users\\Jash\\AppData\\Local\\Temp\\ipykernel_39816\\447722544.py\", line 68, in lambeq_sentence_to_circuit\n",
      "    dev = qml.device(\"lightning.gpu\", wires=num_qubits, shots=10000) # N = 10000 runs of the circuit for statistical significance\n",
      "          ^^^^^^^^^^^^^^^^^^^^^^^^^^^^^^^^^^^^^^^^^^^^^^^^^^^^^^^^^^\n",
      "  File \"c:\\Users\\Jash\\Documents\\Research\\Semantic Equivilance\\.venv\\Lib\\site-packages\\pennylane\\devices\\device_constructor.py\", line 297, in device\n",
      "    raise DeviceError(f\"Device {name} does not exist. Make sure the required plugin is installed.\")\n",
      "pennylane.exceptions.DeviceError: Device lightning.gpu does not exist. Make sure the required plugin is installed.\n"
     ]
    },
    {
     "name": "stdout",
     "output_type": "stream",
     "text": [
      "CRITICAL ERROR: Failed to process circuit: Device lightning.gpu does not exist. Make sure the required plugin is installed.\n"
     ]
    },
    {
     "name": "stderr",
     "output_type": "stream",
     "text": [
      "Traceback (most recent call last):\n",
      "  File \"C:\\Users\\Jash\\AppData\\Local\\Temp\\ipykernel_39816\\447722544.py\", line 68, in lambeq_sentence_to_circuit\n",
      "    dev = qml.device(\"lightning.gpu\", wires=num_qubits, shots=10000) # N = 10000 runs of the circuit for statistical significance\n",
      "          ^^^^^^^^^^^^^^^^^^^^^^^^^^^^^^^^^^^^^^^^^^^^^^^^^^^^^^^^^^\n",
      "  File \"c:\\Users\\Jash\\Documents\\Research\\Semantic Equivilance\\.venv\\Lib\\site-packages\\pennylane\\devices\\device_constructor.py\", line 297, in device\n",
      "    raise DeviceError(f\"Device {name} does not exist. Make sure the required plugin is installed.\")\n",
      "pennylane.exceptions.DeviceError: Device lightning.gpu does not exist. Make sure the required plugin is installed.\n"
     ]
    },
    {
     "name": "stdout",
     "output_type": "stream",
     "text": [
      "CRITICAL ERROR: Failed to process circuit: Device lightning.gpu does not exist. Make sure the required plugin is installed.\n"
     ]
    },
    {
     "name": "stderr",
     "output_type": "stream",
     "text": [
      "Traceback (most recent call last):\n",
      "  File \"C:\\Users\\Jash\\AppData\\Local\\Temp\\ipykernel_39816\\447722544.py\", line 68, in lambeq_sentence_to_circuit\n",
      "    dev = qml.device(\"lightning.gpu\", wires=num_qubits, shots=10000) # N = 10000 runs of the circuit for statistical significance\n",
      "          ^^^^^^^^^^^^^^^^^^^^^^^^^^^^^^^^^^^^^^^^^^^^^^^^^^^^^^^^^^\n",
      "  File \"c:\\Users\\Jash\\Documents\\Research\\Semantic Equivilance\\.venv\\Lib\\site-packages\\pennylane\\devices\\device_constructor.py\", line 297, in device\n",
      "    raise DeviceError(f\"Device {name} does not exist. Make sure the required plugin is installed.\")\n",
      "pennylane.exceptions.DeviceError: Device lightning.gpu does not exist. Make sure the required plugin is installed.\n"
     ]
    },
    {
     "name": "stdout",
     "output_type": "stream",
     "text": [
      "CRITICAL ERROR: Failed to process circuit: Device lightning.gpu does not exist. Make sure the required plugin is installed.\n"
     ]
    },
    {
     "name": "stderr",
     "output_type": "stream",
     "text": [
      "Traceback (most recent call last):\n",
      "  File \"C:\\Users\\Jash\\AppData\\Local\\Temp\\ipykernel_39816\\447722544.py\", line 68, in lambeq_sentence_to_circuit\n",
      "    dev = qml.device(\"lightning.gpu\", wires=num_qubits, shots=10000) # N = 10000 runs of the circuit for statistical significance\n",
      "          ^^^^^^^^^^^^^^^^^^^^^^^^^^^^^^^^^^^^^^^^^^^^^^^^^^^^^^^^^^\n",
      "  File \"c:\\Users\\Jash\\Documents\\Research\\Semantic Equivilance\\.venv\\Lib\\site-packages\\pennylane\\devices\\device_constructor.py\", line 297, in device\n",
      "    raise DeviceError(f\"Device {name} does not exist. Make sure the required plugin is installed.\")\n",
      "pennylane.exceptions.DeviceError: Device lightning.gpu does not exist. Make sure the required plugin is installed.\n"
     ]
    },
    {
     "name": "stdout",
     "output_type": "stream",
     "text": [
      "CRITICAL ERROR: Failed to process circuit: Device lightning.gpu does not exist. Make sure the required plugin is installed.\n"
     ]
    },
    {
     "name": "stderr",
     "output_type": "stream",
     "text": [
      "Traceback (most recent call last):\n",
      "  File \"C:\\Users\\Jash\\AppData\\Local\\Temp\\ipykernel_39816\\447722544.py\", line 68, in lambeq_sentence_to_circuit\n",
      "    dev = qml.device(\"lightning.gpu\", wires=num_qubits, shots=10000) # N = 10000 runs of the circuit for statistical significance\n",
      "          ^^^^^^^^^^^^^^^^^^^^^^^^^^^^^^^^^^^^^^^^^^^^^^^^^^^^^^^^^^\n",
      "  File \"c:\\Users\\Jash\\Documents\\Research\\Semantic Equivilance\\.venv\\Lib\\site-packages\\pennylane\\devices\\device_constructor.py\", line 297, in device\n",
      "    raise DeviceError(f\"Device {name} does not exist. Make sure the required plugin is installed.\")\n",
      "pennylane.exceptions.DeviceError: Device lightning.gpu does not exist. Make sure the required plugin is installed.\n"
     ]
    },
    {
     "name": "stdout",
     "output_type": "stream",
     "text": [
      "CRITICAL ERROR: Failed to process circuit: Device lightning.gpu does not exist. Make sure the required plugin is installed.\n"
     ]
    },
    {
     "name": "stderr",
     "output_type": "stream",
     "text": [
      "Traceback (most recent call last):\n",
      "  File \"C:\\Users\\Jash\\AppData\\Local\\Temp\\ipykernel_39816\\447722544.py\", line 68, in lambeq_sentence_to_circuit\n",
      "    dev = qml.device(\"lightning.gpu\", wires=num_qubits, shots=10000) # N = 10000 runs of the circuit for statistical significance\n",
      "          ^^^^^^^^^^^^^^^^^^^^^^^^^^^^^^^^^^^^^^^^^^^^^^^^^^^^^^^^^^\n",
      "  File \"c:\\Users\\Jash\\Documents\\Research\\Semantic Equivilance\\.venv\\Lib\\site-packages\\pennylane\\devices\\device_constructor.py\", line 297, in device\n",
      "    raise DeviceError(f\"Device {name} does not exist. Make sure the required plugin is installed.\")\n",
      "pennylane.exceptions.DeviceError: Device lightning.gpu does not exist. Make sure the required plugin is installed.\n"
     ]
    },
    {
     "name": "stdout",
     "output_type": "stream",
     "text": [
      "CRITICAL ERROR: Failed to process circuit: Device lightning.gpu does not exist. Make sure the required plugin is installed.\n"
     ]
    },
    {
     "name": "stderr",
     "output_type": "stream",
     "text": [
      "Traceback (most recent call last):\n",
      "  File \"C:\\Users\\Jash\\AppData\\Local\\Temp\\ipykernel_39816\\447722544.py\", line 68, in lambeq_sentence_to_circuit\n",
      "    dev = qml.device(\"lightning.gpu\", wires=num_qubits, shots=10000) # N = 10000 runs of the circuit for statistical significance\n",
      "          ^^^^^^^^^^^^^^^^^^^^^^^^^^^^^^^^^^^^^^^^^^^^^^^^^^^^^^^^^^\n",
      "  File \"c:\\Users\\Jash\\Documents\\Research\\Semantic Equivilance\\.venv\\Lib\\site-packages\\pennylane\\devices\\device_constructor.py\", line 297, in device\n",
      "    raise DeviceError(f\"Device {name} does not exist. Make sure the required plugin is installed.\")\n",
      "pennylane.exceptions.DeviceError: Device lightning.gpu does not exist. Make sure the required plugin is installed.\n"
     ]
    },
    {
     "name": "stdout",
     "output_type": "stream",
     "text": [
      "CRITICAL ERROR: Failed to process circuit: Device lightning.gpu does not exist. Make sure the required plugin is installed.\n"
     ]
    },
    {
     "name": "stderr",
     "output_type": "stream",
     "text": [
      "Traceback (most recent call last):\n",
      "  File \"C:\\Users\\Jash\\AppData\\Local\\Temp\\ipykernel_39816\\447722544.py\", line 68, in lambeq_sentence_to_circuit\n",
      "    dev = qml.device(\"lightning.gpu\", wires=num_qubits, shots=10000) # N = 10000 runs of the circuit for statistical significance\n",
      "          ^^^^^^^^^^^^^^^^^^^^^^^^^^^^^^^^^^^^^^^^^^^^^^^^^^^^^^^^^^\n",
      "  File \"c:\\Users\\Jash\\Documents\\Research\\Semantic Equivilance\\.venv\\Lib\\site-packages\\pennylane\\devices\\device_constructor.py\", line 297, in device\n",
      "    raise DeviceError(f\"Device {name} does not exist. Make sure the required plugin is installed.\")\n",
      "pennylane.exceptions.DeviceError: Device lightning.gpu does not exist. Make sure the required plugin is installed.\n"
     ]
    },
    {
     "name": "stdout",
     "output_type": "stream",
     "text": [
      "CRITICAL ERROR: Failed to process circuit: Device lightning.gpu does not exist. Make sure the required plugin is installed.\n"
     ]
    },
    {
     "name": "stderr",
     "output_type": "stream",
     "text": [
      "Traceback (most recent call last):\n",
      "  File \"C:\\Users\\Jash\\AppData\\Local\\Temp\\ipykernel_39816\\447722544.py\", line 68, in lambeq_sentence_to_circuit\n",
      "    dev = qml.device(\"lightning.gpu\", wires=num_qubits, shots=10000) # N = 10000 runs of the circuit for statistical significance\n",
      "          ^^^^^^^^^^^^^^^^^^^^^^^^^^^^^^^^^^^^^^^^^^^^^^^^^^^^^^^^^^\n",
      "  File \"c:\\Users\\Jash\\Documents\\Research\\Semantic Equivilance\\.venv\\Lib\\site-packages\\pennylane\\devices\\device_constructor.py\", line 297, in device\n",
      "    raise DeviceError(f\"Device {name} does not exist. Make sure the required plugin is installed.\")\n",
      "pennylane.exceptions.DeviceError: Device lightning.gpu does not exist. Make sure the required plugin is installed.\n"
     ]
    },
    {
     "name": "stdout",
     "output_type": "stream",
     "text": [
      "CRITICAL ERROR: Failed to process circuit: Device lightning.gpu does not exist. Make sure the required plugin is installed.\n"
     ]
    },
    {
     "name": "stderr",
     "output_type": "stream",
     "text": [
      "Traceback (most recent call last):\n",
      "  File \"C:\\Users\\Jash\\AppData\\Local\\Temp\\ipykernel_39816\\447722544.py\", line 68, in lambeq_sentence_to_circuit\n",
      "    dev = qml.device(\"lightning.gpu\", wires=num_qubits, shots=10000) # N = 10000 runs of the circuit for statistical significance\n",
      "          ^^^^^^^^^^^^^^^^^^^^^^^^^^^^^^^^^^^^^^^^^^^^^^^^^^^^^^^^^^\n",
      "  File \"c:\\Users\\Jash\\Documents\\Research\\Semantic Equivilance\\.venv\\Lib\\site-packages\\pennylane\\devices\\device_constructor.py\", line 297, in device\n",
      "    raise DeviceError(f\"Device {name} does not exist. Make sure the required plugin is installed.\")\n",
      "pennylane.exceptions.DeviceError: Device lightning.gpu does not exist. Make sure the required plugin is installed.\n"
     ]
    },
    {
     "name": "stdout",
     "output_type": "stream",
     "text": [
      "CRITICAL ERROR: Failed to process circuit: Device lightning.gpu does not exist. Make sure the required plugin is installed.\n"
     ]
    },
    {
     "name": "stderr",
     "output_type": "stream",
     "text": [
      "Traceback (most recent call last):\n",
      "  File \"C:\\Users\\Jash\\AppData\\Local\\Temp\\ipykernel_39816\\447722544.py\", line 68, in lambeq_sentence_to_circuit\n",
      "    dev = qml.device(\"lightning.gpu\", wires=num_qubits, shots=10000) # N = 10000 runs of the circuit for statistical significance\n",
      "          ^^^^^^^^^^^^^^^^^^^^^^^^^^^^^^^^^^^^^^^^^^^^^^^^^^^^^^^^^^\n",
      "  File \"c:\\Users\\Jash\\Documents\\Research\\Semantic Equivilance\\.venv\\Lib\\site-packages\\pennylane\\devices\\device_constructor.py\", line 297, in device\n",
      "    raise DeviceError(f\"Device {name} does not exist. Make sure the required plugin is installed.\")\n",
      "pennylane.exceptions.DeviceError: Device lightning.gpu does not exist. Make sure the required plugin is installed.\n"
     ]
    },
    {
     "name": "stdout",
     "output_type": "stream",
     "text": [
      "CRITICAL ERROR: Failed to process circuit: Device lightning.gpu does not exist. Make sure the required plugin is installed.\n"
     ]
    },
    {
     "name": "stderr",
     "output_type": "stream",
     "text": [
      "Traceback (most recent call last):\n",
      "  File \"C:\\Users\\Jash\\AppData\\Local\\Temp\\ipykernel_39816\\447722544.py\", line 68, in lambeq_sentence_to_circuit\n",
      "    dev = qml.device(\"lightning.gpu\", wires=num_qubits, shots=10000) # N = 10000 runs of the circuit for statistical significance\n",
      "          ^^^^^^^^^^^^^^^^^^^^^^^^^^^^^^^^^^^^^^^^^^^^^^^^^^^^^^^^^^\n",
      "  File \"c:\\Users\\Jash\\Documents\\Research\\Semantic Equivilance\\.venv\\Lib\\site-packages\\pennylane\\devices\\device_constructor.py\", line 297, in device\n",
      "    raise DeviceError(f\"Device {name} does not exist. Make sure the required plugin is installed.\")\n",
      "pennylane.exceptions.DeviceError: Device lightning.gpu does not exist. Make sure the required plugin is installed.\n"
     ]
    },
    {
     "name": "stdout",
     "output_type": "stream",
     "text": [
      "CRITICAL ERROR: Failed to process circuit: Device lightning.gpu does not exist. Make sure the required plugin is installed.\n"
     ]
    },
    {
     "name": "stderr",
     "output_type": "stream",
     "text": [
      "Traceback (most recent call last):\n",
      "  File \"C:\\Users\\Jash\\AppData\\Local\\Temp\\ipykernel_39816\\447722544.py\", line 68, in lambeq_sentence_to_circuit\n",
      "    dev = qml.device(\"lightning.gpu\", wires=num_qubits, shots=10000) # N = 10000 runs of the circuit for statistical significance\n",
      "          ^^^^^^^^^^^^^^^^^^^^^^^^^^^^^^^^^^^^^^^^^^^^^^^^^^^^^^^^^^\n",
      "  File \"c:\\Users\\Jash\\Documents\\Research\\Semantic Equivilance\\.venv\\Lib\\site-packages\\pennylane\\devices\\device_constructor.py\", line 297, in device\n",
      "    raise DeviceError(f\"Device {name} does not exist. Make sure the required plugin is installed.\")\n",
      "pennylane.exceptions.DeviceError: Device lightning.gpu does not exist. Make sure the required plugin is installed.\n"
     ]
    },
    {
     "name": "stdout",
     "output_type": "stream",
     "text": [
      "CRITICAL ERROR: Failed to process circuit: Device lightning.gpu does not exist. Make sure the required plugin is installed.\n"
     ]
    },
    {
     "name": "stderr",
     "output_type": "stream",
     "text": [
      "Traceback (most recent call last):\n",
      "  File \"C:\\Users\\Jash\\AppData\\Local\\Temp\\ipykernel_39816\\447722544.py\", line 68, in lambeq_sentence_to_circuit\n",
      "    dev = qml.device(\"lightning.gpu\", wires=num_qubits, shots=10000) # N = 10000 runs of the circuit for statistical significance\n",
      "          ^^^^^^^^^^^^^^^^^^^^^^^^^^^^^^^^^^^^^^^^^^^^^^^^^^^^^^^^^^\n",
      "  File \"c:\\Users\\Jash\\Documents\\Research\\Semantic Equivilance\\.venv\\Lib\\site-packages\\pennylane\\devices\\device_constructor.py\", line 297, in device\n",
      "    raise DeviceError(f\"Device {name} does not exist. Make sure the required plugin is installed.\")\n",
      "pennylane.exceptions.DeviceError: Device lightning.gpu does not exist. Make sure the required plugin is installed.\n"
     ]
    },
    {
     "name": "stdout",
     "output_type": "stream",
     "text": [
      "CRITICAL ERROR: Failed to process circuit: Device lightning.gpu does not exist. Make sure the required plugin is installed.\n"
     ]
    },
    {
     "name": "stderr",
     "output_type": "stream",
     "text": [
      "Traceback (most recent call last):\n",
      "  File \"C:\\Users\\Jash\\AppData\\Local\\Temp\\ipykernel_39816\\447722544.py\", line 68, in lambeq_sentence_to_circuit\n",
      "    dev = qml.device(\"lightning.gpu\", wires=num_qubits, shots=10000) # N = 10000 runs of the circuit for statistical significance\n",
      "          ^^^^^^^^^^^^^^^^^^^^^^^^^^^^^^^^^^^^^^^^^^^^^^^^^^^^^^^^^^\n",
      "  File \"c:\\Users\\Jash\\Documents\\Research\\Semantic Equivilance\\.venv\\Lib\\site-packages\\pennylane\\devices\\device_constructor.py\", line 297, in device\n",
      "    raise DeviceError(f\"Device {name} does not exist. Make sure the required plugin is installed.\")\n",
      "pennylane.exceptions.DeviceError: Device lightning.gpu does not exist. Make sure the required plugin is installed.\n"
     ]
    },
    {
     "name": "stdout",
     "output_type": "stream",
     "text": [
      "CRITICAL ERROR: Failed to process circuit: Device lightning.gpu does not exist. Make sure the required plugin is installed.\n"
     ]
    },
    {
     "name": "stderr",
     "output_type": "stream",
     "text": [
      "Traceback (most recent call last):\n",
      "  File \"C:\\Users\\Jash\\AppData\\Local\\Temp\\ipykernel_39816\\447722544.py\", line 68, in lambeq_sentence_to_circuit\n",
      "    dev = qml.device(\"lightning.gpu\", wires=num_qubits, shots=10000) # N = 10000 runs of the circuit for statistical significance\n",
      "          ^^^^^^^^^^^^^^^^^^^^^^^^^^^^^^^^^^^^^^^^^^^^^^^^^^^^^^^^^^\n",
      "  File \"c:\\Users\\Jash\\Documents\\Research\\Semantic Equivilance\\.venv\\Lib\\site-packages\\pennylane\\devices\\device_constructor.py\", line 297, in device\n",
      "    raise DeviceError(f\"Device {name} does not exist. Make sure the required plugin is installed.\")\n",
      "pennylane.exceptions.DeviceError: Device lightning.gpu does not exist. Make sure the required plugin is installed.\n"
     ]
    },
    {
     "name": "stdout",
     "output_type": "stream",
     "text": [
      "CRITICAL ERROR: Failed to process circuit: Device lightning.gpu does not exist. Make sure the required plugin is installed.\n"
     ]
    },
    {
     "name": "stderr",
     "output_type": "stream",
     "text": [
      "Traceback (most recent call last):\n",
      "  File \"C:\\Users\\Jash\\AppData\\Local\\Temp\\ipykernel_39816\\447722544.py\", line 68, in lambeq_sentence_to_circuit\n",
      "    dev = qml.device(\"lightning.gpu\", wires=num_qubits, shots=10000) # N = 10000 runs of the circuit for statistical significance\n",
      "          ^^^^^^^^^^^^^^^^^^^^^^^^^^^^^^^^^^^^^^^^^^^^^^^^^^^^^^^^^^\n",
      "  File \"c:\\Users\\Jash\\Documents\\Research\\Semantic Equivilance\\.venv\\Lib\\site-packages\\pennylane\\devices\\device_constructor.py\", line 297, in device\n",
      "    raise DeviceError(f\"Device {name} does not exist. Make sure the required plugin is installed.\")\n",
      "pennylane.exceptions.DeviceError: Device lightning.gpu does not exist. Make sure the required plugin is installed.\n"
     ]
    },
    {
     "name": "stdout",
     "output_type": "stream",
     "text": [
      "CRITICAL ERROR: Failed to process circuit: Device lightning.gpu does not exist. Make sure the required plugin is installed.\n"
     ]
    },
    {
     "name": "stderr",
     "output_type": "stream",
     "text": [
      "Traceback (most recent call last):\n",
      "  File \"C:\\Users\\Jash\\AppData\\Local\\Temp\\ipykernel_39816\\447722544.py\", line 68, in lambeq_sentence_to_circuit\n",
      "    dev = qml.device(\"lightning.gpu\", wires=num_qubits, shots=10000) # N = 10000 runs of the circuit for statistical significance\n",
      "          ^^^^^^^^^^^^^^^^^^^^^^^^^^^^^^^^^^^^^^^^^^^^^^^^^^^^^^^^^^\n",
      "  File \"c:\\Users\\Jash\\Documents\\Research\\Semantic Equivilance\\.venv\\Lib\\site-packages\\pennylane\\devices\\device_constructor.py\", line 297, in device\n",
      "    raise DeviceError(f\"Device {name} does not exist. Make sure the required plugin is installed.\")\n",
      "pennylane.exceptions.DeviceError: Device lightning.gpu does not exist. Make sure the required plugin is installed.\n"
     ]
    },
    {
     "name": "stdout",
     "output_type": "stream",
     "text": [
      "CRITICAL ERROR: Failed to process circuit: Device lightning.gpu does not exist. Make sure the required plugin is installed.\n"
     ]
    },
    {
     "name": "stderr",
     "output_type": "stream",
     "text": [
      "Traceback (most recent call last):\n",
      "  File \"C:\\Users\\Jash\\AppData\\Local\\Temp\\ipykernel_39816\\447722544.py\", line 68, in lambeq_sentence_to_circuit\n",
      "    dev = qml.device(\"lightning.gpu\", wires=num_qubits, shots=10000) # N = 10000 runs of the circuit for statistical significance\n",
      "          ^^^^^^^^^^^^^^^^^^^^^^^^^^^^^^^^^^^^^^^^^^^^^^^^^^^^^^^^^^\n",
      "  File \"c:\\Users\\Jash\\Documents\\Research\\Semantic Equivilance\\.venv\\Lib\\site-packages\\pennylane\\devices\\device_constructor.py\", line 297, in device\n",
      "    raise DeviceError(f\"Device {name} does not exist. Make sure the required plugin is installed.\")\n",
      "pennylane.exceptions.DeviceError: Device lightning.gpu does not exist. Make sure the required plugin is installed.\n"
     ]
    },
    {
     "name": "stdout",
     "output_type": "stream",
     "text": [
      "CRITICAL ERROR: Failed to process circuit: Device lightning.gpu does not exist. Make sure the required plugin is installed.\n"
     ]
    },
    {
     "name": "stderr",
     "output_type": "stream",
     "text": [
      "Traceback (most recent call last):\n",
      "  File \"C:\\Users\\Jash\\AppData\\Local\\Temp\\ipykernel_39816\\447722544.py\", line 68, in lambeq_sentence_to_circuit\n",
      "    dev = qml.device(\"lightning.gpu\", wires=num_qubits, shots=10000) # N = 10000 runs of the circuit for statistical significance\n",
      "          ^^^^^^^^^^^^^^^^^^^^^^^^^^^^^^^^^^^^^^^^^^^^^^^^^^^^^^^^^^\n",
      "  File \"c:\\Users\\Jash\\Documents\\Research\\Semantic Equivilance\\.venv\\Lib\\site-packages\\pennylane\\devices\\device_constructor.py\", line 297, in device\n",
      "    raise DeviceError(f\"Device {name} does not exist. Make sure the required plugin is installed.\")\n",
      "pennylane.exceptions.DeviceError: Device lightning.gpu does not exist. Make sure the required plugin is installed.\n"
     ]
    },
    {
     "name": "stdout",
     "output_type": "stream",
     "text": [
      "CRITICAL ERROR: Failed to process circuit: Device lightning.gpu does not exist. Make sure the required plugin is installed.\n"
     ]
    },
    {
     "name": "stderr",
     "output_type": "stream",
     "text": [
      "Traceback (most recent call last):\n",
      "  File \"C:\\Users\\Jash\\AppData\\Local\\Temp\\ipykernel_39816\\447722544.py\", line 68, in lambeq_sentence_to_circuit\n",
      "    dev = qml.device(\"lightning.gpu\", wires=num_qubits, shots=10000) # N = 10000 runs of the circuit for statistical significance\n",
      "          ^^^^^^^^^^^^^^^^^^^^^^^^^^^^^^^^^^^^^^^^^^^^^^^^^^^^^^^^^^\n",
      "  File \"c:\\Users\\Jash\\Documents\\Research\\Semantic Equivilance\\.venv\\Lib\\site-packages\\pennylane\\devices\\device_constructor.py\", line 297, in device\n",
      "    raise DeviceError(f\"Device {name} does not exist. Make sure the required plugin is installed.\")\n",
      "pennylane.exceptions.DeviceError: Device lightning.gpu does not exist. Make sure the required plugin is installed.\n"
     ]
    },
    {
     "name": "stdout",
     "output_type": "stream",
     "text": [
      "CRITICAL ERROR: Failed to process circuit: Device lightning.gpu does not exist. Make sure the required plugin is installed.\n"
     ]
    },
    {
     "name": "stderr",
     "output_type": "stream",
     "text": [
      "Traceback (most recent call last):\n",
      "  File \"C:\\Users\\Jash\\AppData\\Local\\Temp\\ipykernel_39816\\447722544.py\", line 68, in lambeq_sentence_to_circuit\n",
      "    dev = qml.device(\"lightning.gpu\", wires=num_qubits, shots=10000) # N = 10000 runs of the circuit for statistical significance\n",
      "          ^^^^^^^^^^^^^^^^^^^^^^^^^^^^^^^^^^^^^^^^^^^^^^^^^^^^^^^^^^\n",
      "  File \"c:\\Users\\Jash\\Documents\\Research\\Semantic Equivilance\\.venv\\Lib\\site-packages\\pennylane\\devices\\device_constructor.py\", line 297, in device\n",
      "    raise DeviceError(f\"Device {name} does not exist. Make sure the required plugin is installed.\")\n",
      "pennylane.exceptions.DeviceError: Device lightning.gpu does not exist. Make sure the required plugin is installed.\n"
     ]
    },
    {
     "name": "stdout",
     "output_type": "stream",
     "text": [
      "CRITICAL ERROR: Failed to process circuit: Device lightning.gpu does not exist. Make sure the required plugin is installed.\n"
     ]
    },
    {
     "name": "stderr",
     "output_type": "stream",
     "text": [
      "Traceback (most recent call last):\n",
      "  File \"C:\\Users\\Jash\\AppData\\Local\\Temp\\ipykernel_39816\\447722544.py\", line 68, in lambeq_sentence_to_circuit\n",
      "    dev = qml.device(\"lightning.gpu\", wires=num_qubits, shots=10000) # N = 10000 runs of the circuit for statistical significance\n",
      "          ^^^^^^^^^^^^^^^^^^^^^^^^^^^^^^^^^^^^^^^^^^^^^^^^^^^^^^^^^^\n",
      "  File \"c:\\Users\\Jash\\Documents\\Research\\Semantic Equivilance\\.venv\\Lib\\site-packages\\pennylane\\devices\\device_constructor.py\", line 297, in device\n",
      "    raise DeviceError(f\"Device {name} does not exist. Make sure the required plugin is installed.\")\n",
      "pennylane.exceptions.DeviceError: Device lightning.gpu does not exist. Make sure the required plugin is installed.\n"
     ]
    },
    {
     "name": "stdout",
     "output_type": "stream",
     "text": [
      "CRITICAL ERROR: Failed to process circuit: Device lightning.gpu does not exist. Make sure the required plugin is installed.\n"
     ]
    },
    {
     "name": "stderr",
     "output_type": "stream",
     "text": [
      "Traceback (most recent call last):\n",
      "  File \"C:\\Users\\Jash\\AppData\\Local\\Temp\\ipykernel_39816\\447722544.py\", line 68, in lambeq_sentence_to_circuit\n",
      "    dev = qml.device(\"lightning.gpu\", wires=num_qubits, shots=10000) # N = 10000 runs of the circuit for statistical significance\n",
      "          ^^^^^^^^^^^^^^^^^^^^^^^^^^^^^^^^^^^^^^^^^^^^^^^^^^^^^^^^^^\n",
      "  File \"c:\\Users\\Jash\\Documents\\Research\\Semantic Equivilance\\.venv\\Lib\\site-packages\\pennylane\\devices\\device_constructor.py\", line 297, in device\n",
      "    raise DeviceError(f\"Device {name} does not exist. Make sure the required plugin is installed.\")\n",
      "pennylane.exceptions.DeviceError: Device lightning.gpu does not exist. Make sure the required plugin is installed.\n"
     ]
    },
    {
     "name": "stdout",
     "output_type": "stream",
     "text": [
      "CRITICAL ERROR: Failed to process circuit: Device lightning.gpu does not exist. Make sure the required plugin is installed.\n"
     ]
    },
    {
     "name": "stderr",
     "output_type": "stream",
     "text": [
      "Traceback (most recent call last):\n",
      "  File \"C:\\Users\\Jash\\AppData\\Local\\Temp\\ipykernel_39816\\447722544.py\", line 68, in lambeq_sentence_to_circuit\n",
      "    dev = qml.device(\"lightning.gpu\", wires=num_qubits, shots=10000) # N = 10000 runs of the circuit for statistical significance\n",
      "          ^^^^^^^^^^^^^^^^^^^^^^^^^^^^^^^^^^^^^^^^^^^^^^^^^^^^^^^^^^\n",
      "  File \"c:\\Users\\Jash\\Documents\\Research\\Semantic Equivilance\\.venv\\Lib\\site-packages\\pennylane\\devices\\device_constructor.py\", line 297, in device\n",
      "    raise DeviceError(f\"Device {name} does not exist. Make sure the required plugin is installed.\")\n",
      "pennylane.exceptions.DeviceError: Device lightning.gpu does not exist. Make sure the required plugin is installed.\n"
     ]
    },
    {
     "name": "stdout",
     "output_type": "stream",
     "text": [
      "CRITICAL ERROR: Failed to process circuit: Device lightning.gpu does not exist. Make sure the required plugin is installed.\n"
     ]
    },
    {
     "name": "stderr",
     "output_type": "stream",
     "text": [
      "Traceback (most recent call last):\n",
      "  File \"C:\\Users\\Jash\\AppData\\Local\\Temp\\ipykernel_39816\\447722544.py\", line 68, in lambeq_sentence_to_circuit\n",
      "    dev = qml.device(\"lightning.gpu\", wires=num_qubits, shots=10000) # N = 10000 runs of the circuit for statistical significance\n",
      "          ^^^^^^^^^^^^^^^^^^^^^^^^^^^^^^^^^^^^^^^^^^^^^^^^^^^^^^^^^^\n",
      "  File \"c:\\Users\\Jash\\Documents\\Research\\Semantic Equivilance\\.venv\\Lib\\site-packages\\pennylane\\devices\\device_constructor.py\", line 297, in device\n",
      "    raise DeviceError(f\"Device {name} does not exist. Make sure the required plugin is installed.\")\n",
      "pennylane.exceptions.DeviceError: Device lightning.gpu does not exist. Make sure the required plugin is installed.\n"
     ]
    },
    {
     "name": "stdout",
     "output_type": "stream",
     "text": [
      "CRITICAL ERROR: Failed to process circuit: Device lightning.gpu does not exist. Make sure the required plugin is installed.\n"
     ]
    },
    {
     "name": "stderr",
     "output_type": "stream",
     "text": [
      "Traceback (most recent call last):\n",
      "  File \"C:\\Users\\Jash\\AppData\\Local\\Temp\\ipykernel_39816\\447722544.py\", line 68, in lambeq_sentence_to_circuit\n",
      "    dev = qml.device(\"lightning.gpu\", wires=num_qubits, shots=10000) # N = 10000 runs of the circuit for statistical significance\n",
      "          ^^^^^^^^^^^^^^^^^^^^^^^^^^^^^^^^^^^^^^^^^^^^^^^^^^^^^^^^^^\n",
      "  File \"c:\\Users\\Jash\\Documents\\Research\\Semantic Equivilance\\.venv\\Lib\\site-packages\\pennylane\\devices\\device_constructor.py\", line 297, in device\n",
      "    raise DeviceError(f\"Device {name} does not exist. Make sure the required plugin is installed.\")\n",
      "pennylane.exceptions.DeviceError: Device lightning.gpu does not exist. Make sure the required plugin is installed.\n"
     ]
    },
    {
     "name": "stdout",
     "output_type": "stream",
     "text": [
      "CRITICAL ERROR: Failed to process circuit: Device lightning.gpu does not exist. Make sure the required plugin is installed.\n"
     ]
    },
    {
     "name": "stderr",
     "output_type": "stream",
     "text": [
      "Traceback (most recent call last):\n",
      "  File \"C:\\Users\\Jash\\AppData\\Local\\Temp\\ipykernel_39816\\447722544.py\", line 68, in lambeq_sentence_to_circuit\n",
      "    dev = qml.device(\"lightning.gpu\", wires=num_qubits, shots=10000) # N = 10000 runs of the circuit for statistical significance\n",
      "          ^^^^^^^^^^^^^^^^^^^^^^^^^^^^^^^^^^^^^^^^^^^^^^^^^^^^^^^^^^\n",
      "  File \"c:\\Users\\Jash\\Documents\\Research\\Semantic Equivilance\\.venv\\Lib\\site-packages\\pennylane\\devices\\device_constructor.py\", line 297, in device\n",
      "    raise DeviceError(f\"Device {name} does not exist. Make sure the required plugin is installed.\")\n",
      "pennylane.exceptions.DeviceError: Device lightning.gpu does not exist. Make sure the required plugin is installed.\n"
     ]
    },
    {
     "name": "stdout",
     "output_type": "stream",
     "text": [
      "CRITICAL ERROR: Failed to process circuit: Device lightning.gpu does not exist. Make sure the required plugin is installed.\n"
     ]
    },
    {
     "name": "stderr",
     "output_type": "stream",
     "text": [
      "Traceback (most recent call last):\n",
      "  File \"C:\\Users\\Jash\\AppData\\Local\\Temp\\ipykernel_39816\\447722544.py\", line 68, in lambeq_sentence_to_circuit\n",
      "    dev = qml.device(\"lightning.gpu\", wires=num_qubits, shots=10000) # N = 10000 runs of the circuit for statistical significance\n",
      "          ^^^^^^^^^^^^^^^^^^^^^^^^^^^^^^^^^^^^^^^^^^^^^^^^^^^^^^^^^^\n",
      "  File \"c:\\Users\\Jash\\Documents\\Research\\Semantic Equivilance\\.venv\\Lib\\site-packages\\pennylane\\devices\\device_constructor.py\", line 297, in device\n",
      "    raise DeviceError(f\"Device {name} does not exist. Make sure the required plugin is installed.\")\n",
      "pennylane.exceptions.DeviceError: Device lightning.gpu does not exist. Make sure the required plugin is installed.\n"
     ]
    },
    {
     "name": "stdout",
     "output_type": "stream",
     "text": [
      "CRITICAL ERROR: Failed to process circuit: Device lightning.gpu does not exist. Make sure the required plugin is installed.\n"
     ]
    },
    {
     "name": "stderr",
     "output_type": "stream",
     "text": [
      "Traceback (most recent call last):\n",
      "  File \"C:\\Users\\Jash\\AppData\\Local\\Temp\\ipykernel_39816\\447722544.py\", line 68, in lambeq_sentence_to_circuit\n",
      "    dev = qml.device(\"lightning.gpu\", wires=num_qubits, shots=10000) # N = 10000 runs of the circuit for statistical significance\n",
      "          ^^^^^^^^^^^^^^^^^^^^^^^^^^^^^^^^^^^^^^^^^^^^^^^^^^^^^^^^^^\n",
      "  File \"c:\\Users\\Jash\\Documents\\Research\\Semantic Equivilance\\.venv\\Lib\\site-packages\\pennylane\\devices\\device_constructor.py\", line 297, in device\n",
      "    raise DeviceError(f\"Device {name} does not exist. Make sure the required plugin is installed.\")\n",
      "pennylane.exceptions.DeviceError: Device lightning.gpu does not exist. Make sure the required plugin is installed.\n"
     ]
    },
    {
     "name": "stdout",
     "output_type": "stream",
     "text": [
      "CRITICAL ERROR: Failed to process circuit: Device lightning.gpu does not exist. Make sure the required plugin is installed.\n"
     ]
    },
    {
     "name": "stderr",
     "output_type": "stream",
     "text": [
      "Traceback (most recent call last):\n",
      "  File \"C:\\Users\\Jash\\AppData\\Local\\Temp\\ipykernel_39816\\447722544.py\", line 68, in lambeq_sentence_to_circuit\n",
      "    dev = qml.device(\"lightning.gpu\", wires=num_qubits, shots=10000) # N = 10000 runs of the circuit for statistical significance\n",
      "          ^^^^^^^^^^^^^^^^^^^^^^^^^^^^^^^^^^^^^^^^^^^^^^^^^^^^^^^^^^\n",
      "  File \"c:\\Users\\Jash\\Documents\\Research\\Semantic Equivilance\\.venv\\Lib\\site-packages\\pennylane\\devices\\device_constructor.py\", line 297, in device\n",
      "    raise DeviceError(f\"Device {name} does not exist. Make sure the required plugin is installed.\")\n",
      "pennylane.exceptions.DeviceError: Device lightning.gpu does not exist. Make sure the required plugin is installed.\n"
     ]
    },
    {
     "name": "stdout",
     "output_type": "stream",
     "text": [
      "CRITICAL ERROR: Failed to process circuit: Device lightning.gpu does not exist. Make sure the required plugin is installed.\n"
     ]
    },
    {
     "name": "stderr",
     "output_type": "stream",
     "text": [
      "Traceback (most recent call last):\n",
      "  File \"C:\\Users\\Jash\\AppData\\Local\\Temp\\ipykernel_39816\\447722544.py\", line 68, in lambeq_sentence_to_circuit\n",
      "    dev = qml.device(\"lightning.gpu\", wires=num_qubits, shots=10000) # N = 10000 runs of the circuit for statistical significance\n",
      "          ^^^^^^^^^^^^^^^^^^^^^^^^^^^^^^^^^^^^^^^^^^^^^^^^^^^^^^^^^^\n",
      "  File \"c:\\Users\\Jash\\Documents\\Research\\Semantic Equivilance\\.venv\\Lib\\site-packages\\pennylane\\devices\\device_constructor.py\", line 297, in device\n",
      "    raise DeviceError(f\"Device {name} does not exist. Make sure the required plugin is installed.\")\n",
      "pennylane.exceptions.DeviceError: Device lightning.gpu does not exist. Make sure the required plugin is installed.\n"
     ]
    },
    {
     "name": "stdout",
     "output_type": "stream",
     "text": [
      "CRITICAL ERROR: Failed to process circuit: Device lightning.gpu does not exist. Make sure the required plugin is installed.\n"
     ]
    },
    {
     "name": "stderr",
     "output_type": "stream",
     "text": [
      "Traceback (most recent call last):\n",
      "  File \"C:\\Users\\Jash\\AppData\\Local\\Temp\\ipykernel_39816\\447722544.py\", line 68, in lambeq_sentence_to_circuit\n",
      "    dev = qml.device(\"lightning.gpu\", wires=num_qubits, shots=10000) # N = 10000 runs of the circuit for statistical significance\n",
      "          ^^^^^^^^^^^^^^^^^^^^^^^^^^^^^^^^^^^^^^^^^^^^^^^^^^^^^^^^^^\n",
      "  File \"c:\\Users\\Jash\\Documents\\Research\\Semantic Equivilance\\.venv\\Lib\\site-packages\\pennylane\\devices\\device_constructor.py\", line 297, in device\n",
      "    raise DeviceError(f\"Device {name} does not exist. Make sure the required plugin is installed.\")\n",
      "pennylane.exceptions.DeviceError: Device lightning.gpu does not exist. Make sure the required plugin is installed.\n"
     ]
    },
    {
     "name": "stdout",
     "output_type": "stream",
     "text": [
      "CRITICAL ERROR: Failed to process circuit: Device lightning.gpu does not exist. Make sure the required plugin is installed.\n"
     ]
    },
    {
     "name": "stderr",
     "output_type": "stream",
     "text": [
      "Traceback (most recent call last):\n",
      "  File \"C:\\Users\\Jash\\AppData\\Local\\Temp\\ipykernel_39816\\447722544.py\", line 68, in lambeq_sentence_to_circuit\n",
      "    dev = qml.device(\"lightning.gpu\", wires=num_qubits, shots=10000) # N = 10000 runs of the circuit for statistical significance\n",
      "          ^^^^^^^^^^^^^^^^^^^^^^^^^^^^^^^^^^^^^^^^^^^^^^^^^^^^^^^^^^\n",
      "  File \"c:\\Users\\Jash\\Documents\\Research\\Semantic Equivilance\\.venv\\Lib\\site-packages\\pennylane\\devices\\device_constructor.py\", line 297, in device\n",
      "    raise DeviceError(f\"Device {name} does not exist. Make sure the required plugin is installed.\")\n",
      "pennylane.exceptions.DeviceError: Device lightning.gpu does not exist. Make sure the required plugin is installed.\n"
     ]
    },
    {
     "name": "stdout",
     "output_type": "stream",
     "text": [
      "CRITICAL ERROR: Failed to process circuit: Device lightning.gpu does not exist. Make sure the required plugin is installed.\n"
     ]
    },
    {
     "name": "stderr",
     "output_type": "stream",
     "text": [
      "Traceback (most recent call last):\n",
      "  File \"C:\\Users\\Jash\\AppData\\Local\\Temp\\ipykernel_39816\\447722544.py\", line 68, in lambeq_sentence_to_circuit\n",
      "    dev = qml.device(\"lightning.gpu\", wires=num_qubits, shots=10000) # N = 10000 runs of the circuit for statistical significance\n",
      "          ^^^^^^^^^^^^^^^^^^^^^^^^^^^^^^^^^^^^^^^^^^^^^^^^^^^^^^^^^^\n",
      "  File \"c:\\Users\\Jash\\Documents\\Research\\Semantic Equivilance\\.venv\\Lib\\site-packages\\pennylane\\devices\\device_constructor.py\", line 297, in device\n",
      "    raise DeviceError(f\"Device {name} does not exist. Make sure the required plugin is installed.\")\n",
      "pennylane.exceptions.DeviceError: Device lightning.gpu does not exist. Make sure the required plugin is installed.\n"
     ]
    },
    {
     "name": "stdout",
     "output_type": "stream",
     "text": [
      "CRITICAL ERROR: Failed to process circuit: Device lightning.gpu does not exist. Make sure the required plugin is installed.\n"
     ]
    },
    {
     "name": "stderr",
     "output_type": "stream",
     "text": [
      "Traceback (most recent call last):\n",
      "  File \"C:\\Users\\Jash\\AppData\\Local\\Temp\\ipykernel_39816\\447722544.py\", line 68, in lambeq_sentence_to_circuit\n",
      "    dev = qml.device(\"lightning.gpu\", wires=num_qubits, shots=10000) # N = 10000 runs of the circuit for statistical significance\n",
      "          ^^^^^^^^^^^^^^^^^^^^^^^^^^^^^^^^^^^^^^^^^^^^^^^^^^^^^^^^^^\n",
      "  File \"c:\\Users\\Jash\\Documents\\Research\\Semantic Equivilance\\.venv\\Lib\\site-packages\\pennylane\\devices\\device_constructor.py\", line 297, in device\n",
      "    raise DeviceError(f\"Device {name} does not exist. Make sure the required plugin is installed.\")\n",
      "pennylane.exceptions.DeviceError: Device lightning.gpu does not exist. Make sure the required plugin is installed.\n"
     ]
    },
    {
     "name": "stdout",
     "output_type": "stream",
     "text": [
      "CRITICAL ERROR: Failed to process circuit: Device lightning.gpu does not exist. Make sure the required plugin is installed.\n"
     ]
    },
    {
     "name": "stderr",
     "output_type": "stream",
     "text": [
      "Traceback (most recent call last):\n",
      "  File \"C:\\Users\\Jash\\AppData\\Local\\Temp\\ipykernel_39816\\447722544.py\", line 68, in lambeq_sentence_to_circuit\n",
      "    dev = qml.device(\"lightning.gpu\", wires=num_qubits, shots=10000) # N = 10000 runs of the circuit for statistical significance\n",
      "          ^^^^^^^^^^^^^^^^^^^^^^^^^^^^^^^^^^^^^^^^^^^^^^^^^^^^^^^^^^\n",
      "  File \"c:\\Users\\Jash\\Documents\\Research\\Semantic Equivilance\\.venv\\Lib\\site-packages\\pennylane\\devices\\device_constructor.py\", line 297, in device\n",
      "    raise DeviceError(f\"Device {name} does not exist. Make sure the required plugin is installed.\")\n",
      "pennylane.exceptions.DeviceError: Device lightning.gpu does not exist. Make sure the required plugin is installed.\n"
     ]
    },
    {
     "name": "stdout",
     "output_type": "stream",
     "text": [
      "CRITICAL ERROR: Failed to process circuit: Device lightning.gpu does not exist. Make sure the required plugin is installed.\n"
     ]
    },
    {
     "name": "stderr",
     "output_type": "stream",
     "text": [
      "Traceback (most recent call last):\n",
      "  File \"C:\\Users\\Jash\\AppData\\Local\\Temp\\ipykernel_39816\\447722544.py\", line 68, in lambeq_sentence_to_circuit\n",
      "    dev = qml.device(\"lightning.gpu\", wires=num_qubits, shots=10000) # N = 10000 runs of the circuit for statistical significance\n",
      "          ^^^^^^^^^^^^^^^^^^^^^^^^^^^^^^^^^^^^^^^^^^^^^^^^^^^^^^^^^^\n",
      "  File \"c:\\Users\\Jash\\Documents\\Research\\Semantic Equivilance\\.venv\\Lib\\site-packages\\pennylane\\devices\\device_constructor.py\", line 297, in device\n",
      "    raise DeviceError(f\"Device {name} does not exist. Make sure the required plugin is installed.\")\n",
      "pennylane.exceptions.DeviceError: Device lightning.gpu does not exist. Make sure the required plugin is installed.\n"
     ]
    },
    {
     "name": "stdout",
     "output_type": "stream",
     "text": [
      "CRITICAL ERROR: Failed to process circuit: Device lightning.gpu does not exist. Make sure the required plugin is installed.\n"
     ]
    },
    {
     "name": "stderr",
     "output_type": "stream",
     "text": [
      "Traceback (most recent call last):\n",
      "  File \"C:\\Users\\Jash\\AppData\\Local\\Temp\\ipykernel_39816\\447722544.py\", line 68, in lambeq_sentence_to_circuit\n",
      "    dev = qml.device(\"lightning.gpu\", wires=num_qubits, shots=10000) # N = 10000 runs of the circuit for statistical significance\n",
      "          ^^^^^^^^^^^^^^^^^^^^^^^^^^^^^^^^^^^^^^^^^^^^^^^^^^^^^^^^^^\n",
      "  File \"c:\\Users\\Jash\\Documents\\Research\\Semantic Equivilance\\.venv\\Lib\\site-packages\\pennylane\\devices\\device_constructor.py\", line 297, in device\n",
      "    raise DeviceError(f\"Device {name} does not exist. Make sure the required plugin is installed.\")\n",
      "pennylane.exceptions.DeviceError: Device lightning.gpu does not exist. Make sure the required plugin is installed.\n"
     ]
    },
    {
     "name": "stdout",
     "output_type": "stream",
     "text": [
      "CRITICAL ERROR: Failed to process circuit: Device lightning.gpu does not exist. Make sure the required plugin is installed.\n"
     ]
    },
    {
     "name": "stderr",
     "output_type": "stream",
     "text": [
      "Traceback (most recent call last):\n",
      "  File \"C:\\Users\\Jash\\AppData\\Local\\Temp\\ipykernel_39816\\447722544.py\", line 68, in lambeq_sentence_to_circuit\n",
      "    dev = qml.device(\"lightning.gpu\", wires=num_qubits, shots=10000) # N = 10000 runs of the circuit for statistical significance\n",
      "          ^^^^^^^^^^^^^^^^^^^^^^^^^^^^^^^^^^^^^^^^^^^^^^^^^^^^^^^^^^\n",
      "  File \"c:\\Users\\Jash\\Documents\\Research\\Semantic Equivilance\\.venv\\Lib\\site-packages\\pennylane\\devices\\device_constructor.py\", line 297, in device\n",
      "    raise DeviceError(f\"Device {name} does not exist. Make sure the required plugin is installed.\")\n",
      "pennylane.exceptions.DeviceError: Device lightning.gpu does not exist. Make sure the required plugin is installed.\n"
     ]
    },
    {
     "name": "stdout",
     "output_type": "stream",
     "text": [
      "CRITICAL ERROR: Failed to process circuit: Device lightning.gpu does not exist. Make sure the required plugin is installed.\n"
     ]
    },
    {
     "name": "stderr",
     "output_type": "stream",
     "text": [
      "Traceback (most recent call last):\n",
      "  File \"C:\\Users\\Jash\\AppData\\Local\\Temp\\ipykernel_39816\\447722544.py\", line 68, in lambeq_sentence_to_circuit\n",
      "    dev = qml.device(\"lightning.gpu\", wires=num_qubits, shots=10000) # N = 10000 runs of the circuit for statistical significance\n",
      "          ^^^^^^^^^^^^^^^^^^^^^^^^^^^^^^^^^^^^^^^^^^^^^^^^^^^^^^^^^^\n",
      "  File \"c:\\Users\\Jash\\Documents\\Research\\Semantic Equivilance\\.venv\\Lib\\site-packages\\pennylane\\devices\\device_constructor.py\", line 297, in device\n",
      "    raise DeviceError(f\"Device {name} does not exist. Make sure the required plugin is installed.\")\n",
      "pennylane.exceptions.DeviceError: Device lightning.gpu does not exist. Make sure the required plugin is installed.\n"
     ]
    },
    {
     "name": "stdout",
     "output_type": "stream",
     "text": [
      "CRITICAL ERROR: Failed to process circuit: Device lightning.gpu does not exist. Make sure the required plugin is installed.\n"
     ]
    },
    {
     "name": "stderr",
     "output_type": "stream",
     "text": [
      "Traceback (most recent call last):\n",
      "  File \"C:\\Users\\Jash\\AppData\\Local\\Temp\\ipykernel_39816\\447722544.py\", line 68, in lambeq_sentence_to_circuit\n",
      "    dev = qml.device(\"lightning.gpu\", wires=num_qubits, shots=10000) # N = 10000 runs of the circuit for statistical significance\n",
      "          ^^^^^^^^^^^^^^^^^^^^^^^^^^^^^^^^^^^^^^^^^^^^^^^^^^^^^^^^^^\n",
      "  File \"c:\\Users\\Jash\\Documents\\Research\\Semantic Equivilance\\.venv\\Lib\\site-packages\\pennylane\\devices\\device_constructor.py\", line 297, in device\n",
      "    raise DeviceError(f\"Device {name} does not exist. Make sure the required plugin is installed.\")\n",
      "pennylane.exceptions.DeviceError: Device lightning.gpu does not exist. Make sure the required plugin is installed.\n"
     ]
    },
    {
     "name": "stdout",
     "output_type": "stream",
     "text": [
      "CRITICAL ERROR: Failed to process circuit: Device lightning.gpu does not exist. Make sure the required plugin is installed.\n"
     ]
    },
    {
     "name": "stderr",
     "output_type": "stream",
     "text": [
      "Traceback (most recent call last):\n",
      "  File \"C:\\Users\\Jash\\AppData\\Local\\Temp\\ipykernel_39816\\447722544.py\", line 68, in lambeq_sentence_to_circuit\n",
      "    dev = qml.device(\"lightning.gpu\", wires=num_qubits, shots=10000) # N = 10000 runs of the circuit for statistical significance\n",
      "          ^^^^^^^^^^^^^^^^^^^^^^^^^^^^^^^^^^^^^^^^^^^^^^^^^^^^^^^^^^\n",
      "  File \"c:\\Users\\Jash\\Documents\\Research\\Semantic Equivilance\\.venv\\Lib\\site-packages\\pennylane\\devices\\device_constructor.py\", line 297, in device\n",
      "    raise DeviceError(f\"Device {name} does not exist. Make sure the required plugin is installed.\")\n",
      "pennylane.exceptions.DeviceError: Device lightning.gpu does not exist. Make sure the required plugin is installed.\n"
     ]
    },
    {
     "name": "stdout",
     "output_type": "stream",
     "text": [
      "CRITICAL ERROR: Failed to process circuit: Device lightning.gpu does not exist. Make sure the required plugin is installed.\n"
     ]
    },
    {
     "name": "stderr",
     "output_type": "stream",
     "text": [
      "Traceback (most recent call last):\n",
      "  File \"C:\\Users\\Jash\\AppData\\Local\\Temp\\ipykernel_39816\\447722544.py\", line 68, in lambeq_sentence_to_circuit\n",
      "    dev = qml.device(\"lightning.gpu\", wires=num_qubits, shots=10000) # N = 10000 runs of the circuit for statistical significance\n",
      "          ^^^^^^^^^^^^^^^^^^^^^^^^^^^^^^^^^^^^^^^^^^^^^^^^^^^^^^^^^^\n",
      "  File \"c:\\Users\\Jash\\Documents\\Research\\Semantic Equivilance\\.venv\\Lib\\site-packages\\pennylane\\devices\\device_constructor.py\", line 297, in device\n",
      "    raise DeviceError(f\"Device {name} does not exist. Make sure the required plugin is installed.\")\n",
      "pennylane.exceptions.DeviceError: Device lightning.gpu does not exist. Make sure the required plugin is installed.\n"
     ]
    },
    {
     "name": "stdout",
     "output_type": "stream",
     "text": [
      "CRITICAL ERROR: Failed to process circuit: Device lightning.gpu does not exist. Make sure the required plugin is installed.\n"
     ]
    },
    {
     "name": "stderr",
     "output_type": "stream",
     "text": [
      "Traceback (most recent call last):\n",
      "  File \"C:\\Users\\Jash\\AppData\\Local\\Temp\\ipykernel_39816\\447722544.py\", line 68, in lambeq_sentence_to_circuit\n",
      "    dev = qml.device(\"lightning.gpu\", wires=num_qubits, shots=10000) # N = 10000 runs of the circuit for statistical significance\n",
      "          ^^^^^^^^^^^^^^^^^^^^^^^^^^^^^^^^^^^^^^^^^^^^^^^^^^^^^^^^^^\n",
      "  File \"c:\\Users\\Jash\\Documents\\Research\\Semantic Equivilance\\.venv\\Lib\\site-packages\\pennylane\\devices\\device_constructor.py\", line 297, in device\n",
      "    raise DeviceError(f\"Device {name} does not exist. Make sure the required plugin is installed.\")\n",
      "pennylane.exceptions.DeviceError: Device lightning.gpu does not exist. Make sure the required plugin is installed.\n"
     ]
    },
    {
     "name": "stdout",
     "output_type": "stream",
     "text": [
      "CRITICAL ERROR: Failed to process circuit: Device lightning.gpu does not exist. Make sure the required plugin is installed.\n"
     ]
    },
    {
     "name": "stderr",
     "output_type": "stream",
     "text": [
      "Traceback (most recent call last):\n",
      "  File \"C:\\Users\\Jash\\AppData\\Local\\Temp\\ipykernel_39816\\447722544.py\", line 68, in lambeq_sentence_to_circuit\n",
      "    dev = qml.device(\"lightning.gpu\", wires=num_qubits, shots=10000) # N = 10000 runs of the circuit for statistical significance\n",
      "          ^^^^^^^^^^^^^^^^^^^^^^^^^^^^^^^^^^^^^^^^^^^^^^^^^^^^^^^^^^\n",
      "  File \"c:\\Users\\Jash\\Documents\\Research\\Semantic Equivilance\\.venv\\Lib\\site-packages\\pennylane\\devices\\device_constructor.py\", line 297, in device\n",
      "    raise DeviceError(f\"Device {name} does not exist. Make sure the required plugin is installed.\")\n",
      "pennylane.exceptions.DeviceError: Device lightning.gpu does not exist. Make sure the required plugin is installed.\n"
     ]
    },
    {
     "name": "stdout",
     "output_type": "stream",
     "text": [
      "CRITICAL ERROR: Failed to process circuit: Device lightning.gpu does not exist. Make sure the required plugin is installed.\n"
     ]
    },
    {
     "name": "stderr",
     "output_type": "stream",
     "text": [
      "Traceback (most recent call last):\n",
      "  File \"C:\\Users\\Jash\\AppData\\Local\\Temp\\ipykernel_39816\\447722544.py\", line 68, in lambeq_sentence_to_circuit\n",
      "    dev = qml.device(\"lightning.gpu\", wires=num_qubits, shots=10000) # N = 10000 runs of the circuit for statistical significance\n",
      "          ^^^^^^^^^^^^^^^^^^^^^^^^^^^^^^^^^^^^^^^^^^^^^^^^^^^^^^^^^^\n",
      "  File \"c:\\Users\\Jash\\Documents\\Research\\Semantic Equivilance\\.venv\\Lib\\site-packages\\pennylane\\devices\\device_constructor.py\", line 297, in device\n",
      "    raise DeviceError(f\"Device {name} does not exist. Make sure the required plugin is installed.\")\n",
      "pennylane.exceptions.DeviceError: Device lightning.gpu does not exist. Make sure the required plugin is installed.\n"
     ]
    },
    {
     "name": "stdout",
     "output_type": "stream",
     "text": [
      "CRITICAL ERROR: Failed to process circuit: Device lightning.gpu does not exist. Make sure the required plugin is installed.\n"
     ]
    },
    {
     "name": "stderr",
     "output_type": "stream",
     "text": [
      "Traceback (most recent call last):\n",
      "  File \"C:\\Users\\Jash\\AppData\\Local\\Temp\\ipykernel_39816\\447722544.py\", line 68, in lambeq_sentence_to_circuit\n",
      "    dev = qml.device(\"lightning.gpu\", wires=num_qubits, shots=10000) # N = 10000 runs of the circuit for statistical significance\n",
      "          ^^^^^^^^^^^^^^^^^^^^^^^^^^^^^^^^^^^^^^^^^^^^^^^^^^^^^^^^^^\n",
      "  File \"c:\\Users\\Jash\\Documents\\Research\\Semantic Equivilance\\.venv\\Lib\\site-packages\\pennylane\\devices\\device_constructor.py\", line 297, in device\n",
      "    raise DeviceError(f\"Device {name} does not exist. Make sure the required plugin is installed.\")\n",
      "pennylane.exceptions.DeviceError: Device lightning.gpu does not exist. Make sure the required plugin is installed.\n"
     ]
    },
    {
     "name": "stdout",
     "output_type": "stream",
     "text": [
      "CRITICAL ERROR: Failed to process circuit: Device lightning.gpu does not exist. Make sure the required plugin is installed.\n"
     ]
    },
    {
     "name": "stderr",
     "output_type": "stream",
     "text": [
      "Traceback (most recent call last):\n",
      "  File \"C:\\Users\\Jash\\AppData\\Local\\Temp\\ipykernel_39816\\447722544.py\", line 68, in lambeq_sentence_to_circuit\n",
      "    dev = qml.device(\"lightning.gpu\", wires=num_qubits, shots=10000) # N = 10000 runs of the circuit for statistical significance\n",
      "          ^^^^^^^^^^^^^^^^^^^^^^^^^^^^^^^^^^^^^^^^^^^^^^^^^^^^^^^^^^\n",
      "  File \"c:\\Users\\Jash\\Documents\\Research\\Semantic Equivilance\\.venv\\Lib\\site-packages\\pennylane\\devices\\device_constructor.py\", line 297, in device\n",
      "    raise DeviceError(f\"Device {name} does not exist. Make sure the required plugin is installed.\")\n",
      "pennylane.exceptions.DeviceError: Device lightning.gpu does not exist. Make sure the required plugin is installed.\n"
     ]
    },
    {
     "name": "stdout",
     "output_type": "stream",
     "text": [
      "CRITICAL ERROR: Failed to process circuit: Device lightning.gpu does not exist. Make sure the required plugin is installed.\n"
     ]
    },
    {
     "name": "stderr",
     "output_type": "stream",
     "text": [
      "Traceback (most recent call last):\n",
      "  File \"C:\\Users\\Jash\\AppData\\Local\\Temp\\ipykernel_39816\\447722544.py\", line 68, in lambeq_sentence_to_circuit\n",
      "    dev = qml.device(\"lightning.gpu\", wires=num_qubits, shots=10000) # N = 10000 runs of the circuit for statistical significance\n",
      "          ^^^^^^^^^^^^^^^^^^^^^^^^^^^^^^^^^^^^^^^^^^^^^^^^^^^^^^^^^^\n",
      "  File \"c:\\Users\\Jash\\Documents\\Research\\Semantic Equivilance\\.venv\\Lib\\site-packages\\pennylane\\devices\\device_constructor.py\", line 297, in device\n",
      "    raise DeviceError(f\"Device {name} does not exist. Make sure the required plugin is installed.\")\n",
      "pennylane.exceptions.DeviceError: Device lightning.gpu does not exist. Make sure the required plugin is installed.\n"
     ]
    },
    {
     "name": "stdout",
     "output_type": "stream",
     "text": [
      "CRITICAL ERROR: Failed to process circuit: Device lightning.gpu does not exist. Make sure the required plugin is installed.\n"
     ]
    },
    {
     "name": "stderr",
     "output_type": "stream",
     "text": [
      "Traceback (most recent call last):\n",
      "  File \"C:\\Users\\Jash\\AppData\\Local\\Temp\\ipykernel_39816\\447722544.py\", line 68, in lambeq_sentence_to_circuit\n",
      "    dev = qml.device(\"lightning.gpu\", wires=num_qubits, shots=10000) # N = 10000 runs of the circuit for statistical significance\n",
      "          ^^^^^^^^^^^^^^^^^^^^^^^^^^^^^^^^^^^^^^^^^^^^^^^^^^^^^^^^^^\n",
      "  File \"c:\\Users\\Jash\\Documents\\Research\\Semantic Equivilance\\.venv\\Lib\\site-packages\\pennylane\\devices\\device_constructor.py\", line 297, in device\n",
      "    raise DeviceError(f\"Device {name} does not exist. Make sure the required plugin is installed.\")\n",
      "pennylane.exceptions.DeviceError: Device lightning.gpu does not exist. Make sure the required plugin is installed.\n"
     ]
    },
    {
     "name": "stdout",
     "output_type": "stream",
     "text": [
      "CRITICAL ERROR: Failed to process circuit: Device lightning.gpu does not exist. Make sure the required plugin is installed.\n"
     ]
    },
    {
     "name": "stderr",
     "output_type": "stream",
     "text": [
      "Traceback (most recent call last):\n",
      "  File \"C:\\Users\\Jash\\AppData\\Local\\Temp\\ipykernel_39816\\447722544.py\", line 68, in lambeq_sentence_to_circuit\n",
      "    dev = qml.device(\"lightning.gpu\", wires=num_qubits, shots=10000) # N = 10000 runs of the circuit for statistical significance\n",
      "          ^^^^^^^^^^^^^^^^^^^^^^^^^^^^^^^^^^^^^^^^^^^^^^^^^^^^^^^^^^\n",
      "  File \"c:\\Users\\Jash\\Documents\\Research\\Semantic Equivilance\\.venv\\Lib\\site-packages\\pennylane\\devices\\device_constructor.py\", line 297, in device\n",
      "    raise DeviceError(f\"Device {name} does not exist. Make sure the required plugin is installed.\")\n",
      "pennylane.exceptions.DeviceError: Device lightning.gpu does not exist. Make sure the required plugin is installed.\n"
     ]
    },
    {
     "name": "stdout",
     "output_type": "stream",
     "text": [
      "CRITICAL ERROR: Failed to process circuit: Device lightning.gpu does not exist. Make sure the required plugin is installed.\n"
     ]
    },
    {
     "name": "stderr",
     "output_type": "stream",
     "text": [
      "Traceback (most recent call last):\n",
      "  File \"C:\\Users\\Jash\\AppData\\Local\\Temp\\ipykernel_39816\\447722544.py\", line 68, in lambeq_sentence_to_circuit\n",
      "    dev = qml.device(\"lightning.gpu\", wires=num_qubits, shots=10000) # N = 10000 runs of the circuit for statistical significance\n",
      "          ^^^^^^^^^^^^^^^^^^^^^^^^^^^^^^^^^^^^^^^^^^^^^^^^^^^^^^^^^^\n",
      "  File \"c:\\Users\\Jash\\Documents\\Research\\Semantic Equivilance\\.venv\\Lib\\site-packages\\pennylane\\devices\\device_constructor.py\", line 297, in device\n",
      "    raise DeviceError(f\"Device {name} does not exist. Make sure the required plugin is installed.\")\n",
      "pennylane.exceptions.DeviceError: Device lightning.gpu does not exist. Make sure the required plugin is installed.\n"
     ]
    },
    {
     "name": "stdout",
     "output_type": "stream",
     "text": [
      "CRITICAL ERROR: Failed to process circuit: Device lightning.gpu does not exist. Make sure the required plugin is installed.\n"
     ]
    },
    {
     "name": "stderr",
     "output_type": "stream",
     "text": [
      "Traceback (most recent call last):\n",
      "  File \"C:\\Users\\Jash\\AppData\\Local\\Temp\\ipykernel_39816\\447722544.py\", line 68, in lambeq_sentence_to_circuit\n",
      "    dev = qml.device(\"lightning.gpu\", wires=num_qubits, shots=10000) # N = 10000 runs of the circuit for statistical significance\n",
      "          ^^^^^^^^^^^^^^^^^^^^^^^^^^^^^^^^^^^^^^^^^^^^^^^^^^^^^^^^^^\n",
      "  File \"c:\\Users\\Jash\\Documents\\Research\\Semantic Equivilance\\.venv\\Lib\\site-packages\\pennylane\\devices\\device_constructor.py\", line 297, in device\n",
      "    raise DeviceError(f\"Device {name} does not exist. Make sure the required plugin is installed.\")\n",
      "pennylane.exceptions.DeviceError: Device lightning.gpu does not exist. Make sure the required plugin is installed.\n"
     ]
    },
    {
     "name": "stdout",
     "output_type": "stream",
     "text": [
      "CRITICAL ERROR: Failed to process circuit: Device lightning.gpu does not exist. Make sure the required plugin is installed.\n"
     ]
    },
    {
     "name": "stderr",
     "output_type": "stream",
     "text": [
      "Traceback (most recent call last):\n",
      "  File \"C:\\Users\\Jash\\AppData\\Local\\Temp\\ipykernel_39816\\447722544.py\", line 68, in lambeq_sentence_to_circuit\n",
      "    dev = qml.device(\"lightning.gpu\", wires=num_qubits, shots=10000) # N = 10000 runs of the circuit for statistical significance\n",
      "          ^^^^^^^^^^^^^^^^^^^^^^^^^^^^^^^^^^^^^^^^^^^^^^^^^^^^^^^^^^\n",
      "  File \"c:\\Users\\Jash\\Documents\\Research\\Semantic Equivilance\\.venv\\Lib\\site-packages\\pennylane\\devices\\device_constructor.py\", line 297, in device\n",
      "    raise DeviceError(f\"Device {name} does not exist. Make sure the required plugin is installed.\")\n",
      "pennylane.exceptions.DeviceError: Device lightning.gpu does not exist. Make sure the required plugin is installed.\n"
     ]
    },
    {
     "name": "stdout",
     "output_type": "stream",
     "text": [
      "CRITICAL ERROR: Failed to process circuit: Device lightning.gpu does not exist. Make sure the required plugin is installed.\n"
     ]
    },
    {
     "name": "stderr",
     "output_type": "stream",
     "text": [
      "Traceback (most recent call last):\n",
      "  File \"C:\\Users\\Jash\\AppData\\Local\\Temp\\ipykernel_39816\\447722544.py\", line 68, in lambeq_sentence_to_circuit\n",
      "    dev = qml.device(\"lightning.gpu\", wires=num_qubits, shots=10000) # N = 10000 runs of the circuit for statistical significance\n",
      "          ^^^^^^^^^^^^^^^^^^^^^^^^^^^^^^^^^^^^^^^^^^^^^^^^^^^^^^^^^^\n",
      "  File \"c:\\Users\\Jash\\Documents\\Research\\Semantic Equivilance\\.venv\\Lib\\site-packages\\pennylane\\devices\\device_constructor.py\", line 297, in device\n",
      "    raise DeviceError(f\"Device {name} does not exist. Make sure the required plugin is installed.\")\n",
      "pennylane.exceptions.DeviceError: Device lightning.gpu does not exist. Make sure the required plugin is installed.\n"
     ]
    },
    {
     "name": "stdout",
     "output_type": "stream",
     "text": [
      "CRITICAL ERROR: Failed to process circuit: Device lightning.gpu does not exist. Make sure the required plugin is installed.\n"
     ]
    },
    {
     "name": "stderr",
     "output_type": "stream",
     "text": [
      "Traceback (most recent call last):\n",
      "  File \"C:\\Users\\Jash\\AppData\\Local\\Temp\\ipykernel_39816\\447722544.py\", line 68, in lambeq_sentence_to_circuit\n",
      "    dev = qml.device(\"lightning.gpu\", wires=num_qubits, shots=10000) # N = 10000 runs of the circuit for statistical significance\n",
      "          ^^^^^^^^^^^^^^^^^^^^^^^^^^^^^^^^^^^^^^^^^^^^^^^^^^^^^^^^^^\n",
      "  File \"c:\\Users\\Jash\\Documents\\Research\\Semantic Equivilance\\.venv\\Lib\\site-packages\\pennylane\\devices\\device_constructor.py\", line 297, in device\n",
      "    raise DeviceError(f\"Device {name} does not exist. Make sure the required plugin is installed.\")\n",
      "pennylane.exceptions.DeviceError: Device lightning.gpu does not exist. Make sure the required plugin is installed.\n"
     ]
    },
    {
     "name": "stdout",
     "output_type": "stream",
     "text": [
      "CRITICAL ERROR: Failed to process circuit: Device lightning.gpu does not exist. Make sure the required plugin is installed.\n"
     ]
    },
    {
     "name": "stderr",
     "output_type": "stream",
     "text": [
      "Traceback (most recent call last):\n",
      "  File \"C:\\Users\\Jash\\AppData\\Local\\Temp\\ipykernel_39816\\447722544.py\", line 68, in lambeq_sentence_to_circuit\n",
      "    dev = qml.device(\"lightning.gpu\", wires=num_qubits, shots=10000) # N = 10000 runs of the circuit for statistical significance\n",
      "          ^^^^^^^^^^^^^^^^^^^^^^^^^^^^^^^^^^^^^^^^^^^^^^^^^^^^^^^^^^\n",
      "  File \"c:\\Users\\Jash\\Documents\\Research\\Semantic Equivilance\\.venv\\Lib\\site-packages\\pennylane\\devices\\device_constructor.py\", line 297, in device\n",
      "    raise DeviceError(f\"Device {name} does not exist. Make sure the required plugin is installed.\")\n",
      "pennylane.exceptions.DeviceError: Device lightning.gpu does not exist. Make sure the required plugin is installed.\n"
     ]
    },
    {
     "name": "stdout",
     "output_type": "stream",
     "text": [
      "CRITICAL ERROR: Failed to process circuit: Device lightning.gpu does not exist. Make sure the required plugin is installed.\n"
     ]
    },
    {
     "name": "stderr",
     "output_type": "stream",
     "text": [
      "Traceback (most recent call last):\n",
      "  File \"C:\\Users\\Jash\\AppData\\Local\\Temp\\ipykernel_39816\\447722544.py\", line 68, in lambeq_sentence_to_circuit\n",
      "    dev = qml.device(\"lightning.gpu\", wires=num_qubits, shots=10000) # N = 10000 runs of the circuit for statistical significance\n",
      "          ^^^^^^^^^^^^^^^^^^^^^^^^^^^^^^^^^^^^^^^^^^^^^^^^^^^^^^^^^^\n",
      "  File \"c:\\Users\\Jash\\Documents\\Research\\Semantic Equivilance\\.venv\\Lib\\site-packages\\pennylane\\devices\\device_constructor.py\", line 297, in device\n",
      "    raise DeviceError(f\"Device {name} does not exist. Make sure the required plugin is installed.\")\n",
      "pennylane.exceptions.DeviceError: Device lightning.gpu does not exist. Make sure the required plugin is installed.\n"
     ]
    },
    {
     "name": "stdout",
     "output_type": "stream",
     "text": [
      "CRITICAL ERROR: Failed to process circuit: Device lightning.gpu does not exist. Make sure the required plugin is installed.\n"
     ]
    },
    {
     "name": "stderr",
     "output_type": "stream",
     "text": [
      "Traceback (most recent call last):\n",
      "  File \"C:\\Users\\Jash\\AppData\\Local\\Temp\\ipykernel_39816\\447722544.py\", line 68, in lambeq_sentence_to_circuit\n",
      "    dev = qml.device(\"lightning.gpu\", wires=num_qubits, shots=10000) # N = 10000 runs of the circuit for statistical significance\n",
      "          ^^^^^^^^^^^^^^^^^^^^^^^^^^^^^^^^^^^^^^^^^^^^^^^^^^^^^^^^^^\n",
      "  File \"c:\\Users\\Jash\\Documents\\Research\\Semantic Equivilance\\.venv\\Lib\\site-packages\\pennylane\\devices\\device_constructor.py\", line 297, in device\n",
      "    raise DeviceError(f\"Device {name} does not exist. Make sure the required plugin is installed.\")\n",
      "pennylane.exceptions.DeviceError: Device lightning.gpu does not exist. Make sure the required plugin is installed.\n"
     ]
    },
    {
     "name": "stdout",
     "output_type": "stream",
     "text": [
      "CRITICAL ERROR: Failed to process circuit: Device lightning.gpu does not exist. Make sure the required plugin is installed.\n"
     ]
    },
    {
     "name": "stderr",
     "output_type": "stream",
     "text": [
      "Traceback (most recent call last):\n",
      "  File \"C:\\Users\\Jash\\AppData\\Local\\Temp\\ipykernel_39816\\447722544.py\", line 68, in lambeq_sentence_to_circuit\n",
      "    dev = qml.device(\"lightning.gpu\", wires=num_qubits, shots=10000) # N = 10000 runs of the circuit for statistical significance\n",
      "          ^^^^^^^^^^^^^^^^^^^^^^^^^^^^^^^^^^^^^^^^^^^^^^^^^^^^^^^^^^\n",
      "  File \"c:\\Users\\Jash\\Documents\\Research\\Semantic Equivilance\\.venv\\Lib\\site-packages\\pennylane\\devices\\device_constructor.py\", line 297, in device\n",
      "    raise DeviceError(f\"Device {name} does not exist. Make sure the required plugin is installed.\")\n",
      "pennylane.exceptions.DeviceError: Device lightning.gpu does not exist. Make sure the required plugin is installed.\n"
     ]
    },
    {
     "name": "stdout",
     "output_type": "stream",
     "text": [
      "CRITICAL ERROR: Failed to process circuit: Device lightning.gpu does not exist. Make sure the required plugin is installed.\n"
     ]
    },
    {
     "name": "stderr",
     "output_type": "stream",
     "text": [
      "Traceback (most recent call last):\n",
      "  File \"C:\\Users\\Jash\\AppData\\Local\\Temp\\ipykernel_39816\\447722544.py\", line 68, in lambeq_sentence_to_circuit\n",
      "    dev = qml.device(\"lightning.gpu\", wires=num_qubits, shots=10000) # N = 10000 runs of the circuit for statistical significance\n",
      "          ^^^^^^^^^^^^^^^^^^^^^^^^^^^^^^^^^^^^^^^^^^^^^^^^^^^^^^^^^^\n",
      "  File \"c:\\Users\\Jash\\Documents\\Research\\Semantic Equivilance\\.venv\\Lib\\site-packages\\pennylane\\devices\\device_constructor.py\", line 297, in device\n",
      "    raise DeviceError(f\"Device {name} does not exist. Make sure the required plugin is installed.\")\n",
      "pennylane.exceptions.DeviceError: Device lightning.gpu does not exist. Make sure the required plugin is installed.\n"
     ]
    },
    {
     "name": "stdout",
     "output_type": "stream",
     "text": [
      "CRITICAL ERROR: Failed to process circuit: Device lightning.gpu does not exist. Make sure the required plugin is installed.\n"
     ]
    },
    {
     "name": "stderr",
     "output_type": "stream",
     "text": [
      "Traceback (most recent call last):\n",
      "  File \"C:\\Users\\Jash\\AppData\\Local\\Temp\\ipykernel_39816\\447722544.py\", line 68, in lambeq_sentence_to_circuit\n",
      "    dev = qml.device(\"lightning.gpu\", wires=num_qubits, shots=10000) # N = 10000 runs of the circuit for statistical significance\n",
      "          ^^^^^^^^^^^^^^^^^^^^^^^^^^^^^^^^^^^^^^^^^^^^^^^^^^^^^^^^^^\n",
      "  File \"c:\\Users\\Jash\\Documents\\Research\\Semantic Equivilance\\.venv\\Lib\\site-packages\\pennylane\\devices\\device_constructor.py\", line 297, in device\n",
      "    raise DeviceError(f\"Device {name} does not exist. Make sure the required plugin is installed.\")\n",
      "pennylane.exceptions.DeviceError: Device lightning.gpu does not exist. Make sure the required plugin is installed.\n"
     ]
    },
    {
     "name": "stdout",
     "output_type": "stream",
     "text": [
      "CRITICAL ERROR: Failed to process circuit: Device lightning.gpu does not exist. Make sure the required plugin is installed.\n"
     ]
    },
    {
     "name": "stderr",
     "output_type": "stream",
     "text": [
      "Traceback (most recent call last):\n",
      "  File \"C:\\Users\\Jash\\AppData\\Local\\Temp\\ipykernel_39816\\447722544.py\", line 68, in lambeq_sentence_to_circuit\n",
      "    dev = qml.device(\"lightning.gpu\", wires=num_qubits, shots=10000) # N = 10000 runs of the circuit for statistical significance\n",
      "          ^^^^^^^^^^^^^^^^^^^^^^^^^^^^^^^^^^^^^^^^^^^^^^^^^^^^^^^^^^\n",
      "  File \"c:\\Users\\Jash\\Documents\\Research\\Semantic Equivilance\\.venv\\Lib\\site-packages\\pennylane\\devices\\device_constructor.py\", line 297, in device\n",
      "    raise DeviceError(f\"Device {name} does not exist. Make sure the required plugin is installed.\")\n",
      "pennylane.exceptions.DeviceError: Device lightning.gpu does not exist. Make sure the required plugin is installed.\n"
     ]
    },
    {
     "name": "stdout",
     "output_type": "stream",
     "text": [
      "CRITICAL ERROR: Failed to process circuit: Device lightning.gpu does not exist. Make sure the required plugin is installed.\n"
     ]
    },
    {
     "name": "stderr",
     "output_type": "stream",
     "text": [
      "Traceback (most recent call last):\n",
      "  File \"C:\\Users\\Jash\\AppData\\Local\\Temp\\ipykernel_39816\\447722544.py\", line 68, in lambeq_sentence_to_circuit\n",
      "    dev = qml.device(\"lightning.gpu\", wires=num_qubits, shots=10000) # N = 10000 runs of the circuit for statistical significance\n",
      "          ^^^^^^^^^^^^^^^^^^^^^^^^^^^^^^^^^^^^^^^^^^^^^^^^^^^^^^^^^^\n",
      "  File \"c:\\Users\\Jash\\Documents\\Research\\Semantic Equivilance\\.venv\\Lib\\site-packages\\pennylane\\devices\\device_constructor.py\", line 297, in device\n",
      "    raise DeviceError(f\"Device {name} does not exist. Make sure the required plugin is installed.\")\n",
      "pennylane.exceptions.DeviceError: Device lightning.gpu does not exist. Make sure the required plugin is installed.\n"
     ]
    },
    {
     "name": "stdout",
     "output_type": "stream",
     "text": [
      "CRITICAL ERROR: Failed to process circuit: Device lightning.gpu does not exist. Make sure the required plugin is installed.\n"
     ]
    },
    {
     "name": "stderr",
     "output_type": "stream",
     "text": [
      "Traceback (most recent call last):\n",
      "  File \"C:\\Users\\Jash\\AppData\\Local\\Temp\\ipykernel_39816\\447722544.py\", line 68, in lambeq_sentence_to_circuit\n",
      "    dev = qml.device(\"lightning.gpu\", wires=num_qubits, shots=10000) # N = 10000 runs of the circuit for statistical significance\n",
      "          ^^^^^^^^^^^^^^^^^^^^^^^^^^^^^^^^^^^^^^^^^^^^^^^^^^^^^^^^^^\n",
      "  File \"c:\\Users\\Jash\\Documents\\Research\\Semantic Equivilance\\.venv\\Lib\\site-packages\\pennylane\\devices\\device_constructor.py\", line 297, in device\n",
      "    raise DeviceError(f\"Device {name} does not exist. Make sure the required plugin is installed.\")\n",
      "pennylane.exceptions.DeviceError: Device lightning.gpu does not exist. Make sure the required plugin is installed.\n"
     ]
    },
    {
     "name": "stdout",
     "output_type": "stream",
     "text": [
      "CRITICAL ERROR: Failed to process circuit: Device lightning.gpu does not exist. Make sure the required plugin is installed.\n"
     ]
    },
    {
     "name": "stderr",
     "output_type": "stream",
     "text": [
      "Traceback (most recent call last):\n",
      "  File \"C:\\Users\\Jash\\AppData\\Local\\Temp\\ipykernel_39816\\447722544.py\", line 68, in lambeq_sentence_to_circuit\n",
      "    dev = qml.device(\"lightning.gpu\", wires=num_qubits, shots=10000) # N = 10000 runs of the circuit for statistical significance\n",
      "          ^^^^^^^^^^^^^^^^^^^^^^^^^^^^^^^^^^^^^^^^^^^^^^^^^^^^^^^^^^\n",
      "  File \"c:\\Users\\Jash\\Documents\\Research\\Semantic Equivilance\\.venv\\Lib\\site-packages\\pennylane\\devices\\device_constructor.py\", line 297, in device\n",
      "    raise DeviceError(f\"Device {name} does not exist. Make sure the required plugin is installed.\")\n",
      "pennylane.exceptions.DeviceError: Device lightning.gpu does not exist. Make sure the required plugin is installed.\n"
     ]
    },
    {
     "name": "stdout",
     "output_type": "stream",
     "text": [
      "CRITICAL ERROR: Failed to process circuit: Device lightning.gpu does not exist. Make sure the required plugin is installed.\n"
     ]
    },
    {
     "name": "stderr",
     "output_type": "stream",
     "text": [
      "Traceback (most recent call last):\n",
      "  File \"C:\\Users\\Jash\\AppData\\Local\\Temp\\ipykernel_39816\\447722544.py\", line 68, in lambeq_sentence_to_circuit\n",
      "    dev = qml.device(\"lightning.gpu\", wires=num_qubits, shots=10000) # N = 10000 runs of the circuit for statistical significance\n",
      "          ^^^^^^^^^^^^^^^^^^^^^^^^^^^^^^^^^^^^^^^^^^^^^^^^^^^^^^^^^^\n",
      "  File \"c:\\Users\\Jash\\Documents\\Research\\Semantic Equivilance\\.venv\\Lib\\site-packages\\pennylane\\devices\\device_constructor.py\", line 297, in device\n",
      "    raise DeviceError(f\"Device {name} does not exist. Make sure the required plugin is installed.\")\n",
      "pennylane.exceptions.DeviceError: Device lightning.gpu does not exist. Make sure the required plugin is installed.\n"
     ]
    },
    {
     "name": "stdout",
     "output_type": "stream",
     "text": [
      "CRITICAL ERROR: Failed to process circuit: Device lightning.gpu does not exist. Make sure the required plugin is installed.\n"
     ]
    },
    {
     "name": "stderr",
     "output_type": "stream",
     "text": [
      "Traceback (most recent call last):\n",
      "  File \"C:\\Users\\Jash\\AppData\\Local\\Temp\\ipykernel_39816\\447722544.py\", line 68, in lambeq_sentence_to_circuit\n",
      "    dev = qml.device(\"lightning.gpu\", wires=num_qubits, shots=10000) # N = 10000 runs of the circuit for statistical significance\n",
      "          ^^^^^^^^^^^^^^^^^^^^^^^^^^^^^^^^^^^^^^^^^^^^^^^^^^^^^^^^^^\n",
      "  File \"c:\\Users\\Jash\\Documents\\Research\\Semantic Equivilance\\.venv\\Lib\\site-packages\\pennylane\\devices\\device_constructor.py\", line 297, in device\n",
      "    raise DeviceError(f\"Device {name} does not exist. Make sure the required plugin is installed.\")\n",
      "pennylane.exceptions.DeviceError: Device lightning.gpu does not exist. Make sure the required plugin is installed.\n"
     ]
    },
    {
     "name": "stdout",
     "output_type": "stream",
     "text": [
      "CRITICAL ERROR: Failed to process circuit: Device lightning.gpu does not exist. Make sure the required plugin is installed.\n"
     ]
    },
    {
     "name": "stderr",
     "output_type": "stream",
     "text": [
      "Traceback (most recent call last):\n",
      "  File \"C:\\Users\\Jash\\AppData\\Local\\Temp\\ipykernel_39816\\447722544.py\", line 68, in lambeq_sentence_to_circuit\n",
      "    dev = qml.device(\"lightning.gpu\", wires=num_qubits, shots=10000) # N = 10000 runs of the circuit for statistical significance\n",
      "          ^^^^^^^^^^^^^^^^^^^^^^^^^^^^^^^^^^^^^^^^^^^^^^^^^^^^^^^^^^\n",
      "  File \"c:\\Users\\Jash\\Documents\\Research\\Semantic Equivilance\\.venv\\Lib\\site-packages\\pennylane\\devices\\device_constructor.py\", line 297, in device\n",
      "    raise DeviceError(f\"Device {name} does not exist. Make sure the required plugin is installed.\")\n",
      "pennylane.exceptions.DeviceError: Device lightning.gpu does not exist. Make sure the required plugin is installed.\n"
     ]
    },
    {
     "name": "stdout",
     "output_type": "stream",
     "text": [
      "CRITICAL ERROR: Failed to process circuit: Device lightning.gpu does not exist. Make sure the required plugin is installed.\n"
     ]
    },
    {
     "name": "stderr",
     "output_type": "stream",
     "text": [
      "Traceback (most recent call last):\n",
      "  File \"C:\\Users\\Jash\\AppData\\Local\\Temp\\ipykernel_39816\\447722544.py\", line 68, in lambeq_sentence_to_circuit\n",
      "    dev = qml.device(\"lightning.gpu\", wires=num_qubits, shots=10000) # N = 10000 runs of the circuit for statistical significance\n",
      "          ^^^^^^^^^^^^^^^^^^^^^^^^^^^^^^^^^^^^^^^^^^^^^^^^^^^^^^^^^^\n",
      "  File \"c:\\Users\\Jash\\Documents\\Research\\Semantic Equivilance\\.venv\\Lib\\site-packages\\pennylane\\devices\\device_constructor.py\", line 297, in device\n",
      "    raise DeviceError(f\"Device {name} does not exist. Make sure the required plugin is installed.\")\n",
      "pennylane.exceptions.DeviceError: Device lightning.gpu does not exist. Make sure the required plugin is installed.\n"
     ]
    },
    {
     "ename": "KeyboardInterrupt",
     "evalue": "",
     "output_type": "error",
     "traceback": [
      "\u001b[31m---------------------------------------------------------------------------\u001b[39m",
      "\u001b[31mKeyboardInterrupt\u001b[39m                         Traceback (most recent call last)",
      "\u001b[36mCell\u001b[39m\u001b[36m \u001b[39m\u001b[32mIn[29]\u001b[39m\u001b[32m, line 9\u001b[39m\n\u001b[32m      5\u001b[39m rewriter = Rewriter([\u001b[33m'\u001b[39m\u001b[33mcurry\u001b[39m\u001b[33m'\u001b[39m, \u001b[33m'\u001b[39m\u001b[33mprepositional_phrase\u001b[39m\u001b[33m'\u001b[39m, \u001b[33m'\u001b[39m\u001b[33mdeterminer\u001b[39m\u001b[33m'\u001b[39m])\n\u001b[32m      6\u001b[39m \u001b[38;5;66;03m# ansatz = StronglyEntanglingAnsatz(\u001b[39;00m\n\u001b[32m      7\u001b[39m \u001b[38;5;66;03m# {AtomicType.NOUN: 2, AtomicType.SENTENCE: 1}, \u001b[39;00m\n\u001b[32m      8\u001b[39m \u001b[38;5;66;03m# n_layers=1 \u001b[39;00m\n\u001b[32m----> \u001b[39m\u001b[32m9\u001b[39m \u001b[43mmain_workflow\u001b[49m\u001b[43m(\u001b[49m\u001b[43mdata_pairs\u001b[49m\u001b[43m,\u001b[49m\u001b[43m \u001b[49m\u001b[43mparser\u001b[49m\u001b[43m,\u001b[49m\u001b[43m \u001b[49m\u001b[43mrewriter\u001b[49m\u001b[43m,\u001b[49m\u001b[43m \u001b[49m\u001b[43mansatz\u001b[49m\u001b[43m,\u001b[49m\u001b[43m \u001b[49m\u001b[43mTokeniser\u001b[49m\u001b[43m)\u001b[49m\n",
      "\u001b[36mCell\u001b[39m\u001b[36m \u001b[39m\u001b[32mIn[22]\u001b[39m\u001b[32m, line 32\u001b[39m, in \u001b[36mmain_workflow\u001b[39m\u001b[34m(data_pairs, parser, rewriter, ansatz, Tokeniser, base_learning_rate, lambda_penalty)\u001b[39m\n\u001b[32m     29\u001b[39m \u001b[38;5;28;01mdef\u001b[39;00m\u001b[38;5;250m \u001b[39m\u001b[34mmain_workflow\u001b[39m(data_pairs, parser, rewriter, ansatz, Tokeniser, base_learning_rate=BASE_LEARNING_RATE, lambda_penalty=LAMDA_PENALTY):\n\u001b[32m     30\u001b[39m \n\u001b[32m     31\u001b[39m     \u001b[38;5;66;03m# 1. Preprocessing: Determine the global maximum qubit count\u001b[39;00m\n\u001b[32m---> \u001b[39m\u001b[32m32\u001b[39m     N_MAX = \u001b[43mget_max_qubits_for_dataset\u001b[49m\u001b[43m(\u001b[49m\u001b[43mdata_pairs\u001b[49m\u001b[43m,\u001b[49m\u001b[43m \u001b[49m\u001b[43mTokeniser\u001b[49m\u001b[43m,\u001b[49m\u001b[43m \u001b[49m\u001b[43mansatz\u001b[49m\u001b[43m,\u001b[49m\u001b[43m \u001b[49m\u001b[43mparser\u001b[49m\u001b[43m,\u001b[49m\u001b[43m \u001b[49m\u001b[43mrewriter\u001b[49m\u001b[43m)\u001b[49m\n\u001b[32m     33\u001b[39m     \u001b[38;5;28;01mif\u001b[39;00m N_MAX == \u001b[32m0\u001b[39m:\n\u001b[32m     34\u001b[39m         \u001b[38;5;28mprint\u001b[39m(\u001b[33m\"\u001b[39m\u001b[33mNo valid sentences found to train on. Exiting.\u001b[39m\u001b[33m\"\u001b[39m)\n",
      "\u001b[36mCell\u001b[39m\u001b[36m \u001b[39m\u001b[32mIn[22]\u001b[39m\u001b[32m, line 13\u001b[39m, in \u001b[36mget_max_qubits_for_dataset\u001b[39m\u001b[34m(data_pairs, Tokeniser, ansatz, parser, rewriter)\u001b[39m\n\u001b[32m      6\u001b[39m \u001b[38;5;28;01mfor\u001b[39;00m s1, s2, _ \u001b[38;5;129;01min\u001b[39;00m data_pairs:\n\u001b[32m      7\u001b[39m     \u001b[38;5;66;03m# Note: We call a temporary version of the circuit builder that is not padded.\u001b[39;00m\n\u001b[32m      8\u001b[39m     \u001b[38;5;66;03m# It's an internal detail, but for simplicity, we assume a helper can get the required wires.\u001b[39;00m\n\u001b[32m      9\u001b[39m     \u001b[38;5;66;03m# Here, we will just use the unpadded version's output for the required number of qubits.\u001b[39;00m\n\u001b[32m     10\u001b[39m     _, _, required_qubits_s1 = lambeq_sentence_to_circuit(\n\u001b[32m     11\u001b[39m         s1, Tokeniser, ansatz, parser, rewriter, return_type=\u001b[33m'\u001b[39m\u001b[33mstate\u001b[39m\u001b[33m'\u001b[39m\n\u001b[32m     12\u001b[39m     )\n\u001b[32m---> \u001b[39m\u001b[32m13\u001b[39m     _, _, required_qubits_s2 = \u001b[43mlambeq_sentence_to_circuit\u001b[49m\u001b[43m(\u001b[49m\n\u001b[32m     14\u001b[39m \u001b[43m        \u001b[49m\u001b[43ms2\u001b[49m\u001b[43m,\u001b[49m\u001b[43m \u001b[49m\u001b[43mTokeniser\u001b[49m\u001b[43m,\u001b[49m\u001b[43m \u001b[49m\u001b[43mansatz\u001b[49m\u001b[43m,\u001b[49m\u001b[43m \u001b[49m\u001b[43mparser\u001b[49m\u001b[43m,\u001b[49m\u001b[43m \u001b[49m\u001b[43mrewriter\u001b[49m\u001b[43m,\u001b[49m\u001b[43m \u001b[49m\u001b[43mreturn_type\u001b[49m\u001b[43m=\u001b[49m\u001b[33;43m'\u001b[39;49m\u001b[33;43mstate\u001b[39;49m\u001b[33;43m'\u001b[39;49m\n\u001b[32m     15\u001b[39m \u001b[43m    \u001b[49m\u001b[43m)\u001b[49m\n\u001b[32m     17\u001b[39m     \u001b[38;5;28;01mif\u001b[39;00m required_qubits_s1 \u001b[38;5;129;01mis\u001b[39;00m \u001b[38;5;129;01mnot\u001b[39;00m \u001b[38;5;28;01mNone\u001b[39;00m \u001b[38;5;129;01mand\u001b[39;00m required_qubits_s1 > max_qubits:\n\u001b[32m     18\u001b[39m         max_qubits = required_qubits_s1\n",
      "\u001b[36mCell\u001b[39m\u001b[36m \u001b[39m\u001b[32mIn[9]\u001b[39m\u001b[32m, line 31\u001b[39m, in \u001b[36mlambeq_sentence_to_circuit\u001b[39m\u001b[34m(sentence, Tokeniser, ansatz, parser, rewriter, return_type, include_debug_prints, expval, target_qubits)\u001b[39m\n\u001b[32m     28\u001b[39m tokens = Tokeniser.tokenise_sentence(sentence) \u001b[38;5;66;03m# Not optional for non-clean inputs\u001b[39;00m\n\u001b[32m     30\u001b[39m \u001b[38;5;66;03m# Step 1: Convert sentence to a DisCoPy diagram\u001b[39;00m\n\u001b[32m---> \u001b[39m\u001b[32m31\u001b[39m diagram = \u001b[43mparser\u001b[49m\u001b[43m.\u001b[49m\u001b[43msentence2diagram\u001b[49m\u001b[43m(\u001b[49m\u001b[43mtokens\u001b[49m\u001b[43m,\u001b[49m\u001b[43m \u001b[49m\u001b[43mtokenised\u001b[49m\u001b[43m=\u001b[49m\u001b[38;5;28;43;01mTrue\u001b[39;49;00m\u001b[43m)\u001b[49m\n\u001b[32m     32\u001b[39m \u001b[38;5;28;01mif\u001b[39;00m include_debug_prints:\n\u001b[32m     33\u001b[39m     \u001b[38;5;28mprint\u001b[39m(\u001b[33m\"\u001b[39m\u001b[33mStep 1: Sentence parsed to diagram.\u001b[39m\u001b[33m\"\u001b[39m)\n",
      "\u001b[36mFile \u001b[39m\u001b[32mc:\\Users\\Jash\\Documents\\Research\\Semantic Equivilance\\.venv\\Lib\\site-packages\\lambeq\\text2diagram\\ccg_parser.py:236\u001b[39m, in \u001b[36mCCGParser.sentence2diagram\u001b[39m\u001b[34m(self, sentence, tokenised, planar, collapse_noun_phrases, suppress_exceptions)\u001b[39m\n\u001b[32m    232\u001b[39m         \u001b[38;5;28;01mraise\u001b[39;00m \u001b[38;5;167;01mValueError\u001b[39;00m(\u001b[33m'\u001b[39m\u001b[33m`tokenised` set to `True`, but variable \u001b[39m\u001b[33m'\u001b[39m\n\u001b[32m    233\u001b[39m                          \u001b[33m'\u001b[39m\u001b[33m`sentence` does not have type \u001b[39m\u001b[33m'\u001b[39m\n\u001b[32m    234\u001b[39m                          \u001b[33m'\u001b[39m\u001b[33m`list[str]`.\u001b[39m\u001b[33m'\u001b[39m)\n\u001b[32m    235\u001b[39m     sent: \u001b[38;5;28mlist\u001b[39m[\u001b[38;5;28mstr\u001b[39m] = [\u001b[38;5;28mstr\u001b[39m(token) \u001b[38;5;28;01mfor\u001b[39;00m token \u001b[38;5;129;01min\u001b[39;00m sentence]\n\u001b[32m--> \u001b[39m\u001b[32m236\u001b[39m     \u001b[38;5;28;01mreturn\u001b[39;00m \u001b[38;5;28;43mself\u001b[39;49m\u001b[43m.\u001b[49m\u001b[43msentences2diagrams\u001b[49m\u001b[43m(\u001b[49m\n\u001b[32m    237\u001b[39m \u001b[43m        \u001b[49m\u001b[43m[\u001b[49m\u001b[43msent\u001b[49m\u001b[43m]\u001b[49m\u001b[43m,\u001b[49m\n\u001b[32m    238\u001b[39m \u001b[43m        \u001b[49m\u001b[43mplanar\u001b[49m\u001b[43m=\u001b[49m\u001b[43mplanar\u001b[49m\u001b[43m,\u001b[49m\n\u001b[32m    239\u001b[39m \u001b[43m        \u001b[49m\u001b[43mcollapse_noun_phrases\u001b[49m\u001b[43m=\u001b[49m\u001b[43mcollapse_noun_phrases\u001b[49m\u001b[43m,\u001b[49m\n\u001b[32m    240\u001b[39m \u001b[43m        \u001b[49m\u001b[43msuppress_exceptions\u001b[49m\u001b[43m=\u001b[49m\u001b[43msuppress_exceptions\u001b[49m\u001b[43m,\u001b[49m\n\u001b[32m    241\u001b[39m \u001b[43m        \u001b[49m\u001b[43mtokenised\u001b[49m\u001b[43m=\u001b[49m\u001b[43mtokenised\u001b[49m\u001b[43m,\u001b[49m\n\u001b[32m    242\u001b[39m \u001b[43m        \u001b[49m\u001b[43mverbose\u001b[49m\u001b[43m=\u001b[49m\u001b[43mVerbosityLevel\u001b[49m\u001b[43m.\u001b[49m\u001b[43mSUPPRESS\u001b[49m\u001b[43m.\u001b[49m\u001b[43mvalue\u001b[49m\n\u001b[32m    243\u001b[39m \u001b[43m    \u001b[49m\u001b[43m)\u001b[49m[\u001b[32m0\u001b[39m]\n\u001b[32m    244\u001b[39m \u001b[38;5;28;01melse\u001b[39;00m:\n\u001b[32m    245\u001b[39m     \u001b[38;5;28;01mif\u001b[39;00m \u001b[38;5;129;01mnot\u001b[39;00m \u001b[38;5;28misinstance\u001b[39m(sentence, \u001b[38;5;28mstr\u001b[39m):\n",
      "\u001b[36mFile \u001b[39m\u001b[32mc:\\Users\\Jash\\Documents\\Research\\Semantic Equivilance\\.venv\\Lib\\site-packages\\lambeq\\text2diagram\\ccg_parser.py:167\u001b[39m, in \u001b[36mCCGParser.sentences2diagrams\u001b[39m\u001b[34m(self, sentences, tokenised, planar, collapse_noun_phrases, suppress_exceptions, verbose)\u001b[39m\n\u001b[32m    127\u001b[39m \u001b[38;5;28;01mdef\u001b[39;00m\u001b[38;5;250m \u001b[39m\u001b[34msentences2diagrams\u001b[39m(\u001b[38;5;28mself\u001b[39m,\n\u001b[32m    128\u001b[39m                        sentences: SentenceBatchType,\n\u001b[32m    129\u001b[39m                        tokenised: \u001b[38;5;28mbool\u001b[39m = \u001b[38;5;28;01mFalse\u001b[39;00m,\n\u001b[32m   (...)\u001b[39m\u001b[32m    132\u001b[39m                        suppress_exceptions: \u001b[38;5;28mbool\u001b[39m = \u001b[38;5;28;01mFalse\u001b[39;00m,\n\u001b[32m    133\u001b[39m                        verbose: \u001b[38;5;28mstr\u001b[39m | \u001b[38;5;28;01mNone\u001b[39;00m = \u001b[38;5;28;01mNone\u001b[39;00m) -> \u001b[38;5;28mlist\u001b[39m[Diagram | \u001b[38;5;28;01mNone\u001b[39;00m]:\n\u001b[32m    134\u001b[39m \u001b[38;5;250m    \u001b[39m\u001b[33;03m\"\"\"Parse multiple sentences into a list of lambeq diagrams.\u001b[39;00m\n\u001b[32m    135\u001b[39m \n\u001b[32m    136\u001b[39m \u001b[33;03m    Parameters\u001b[39;00m\n\u001b[32m   (...)\u001b[39m\u001b[32m    165\u001b[39m \n\u001b[32m    166\u001b[39m \u001b[33;03m    \"\"\"\u001b[39;00m\n\u001b[32m--> \u001b[39m\u001b[32m167\u001b[39m     trees = \u001b[38;5;28;43mself\u001b[39;49m\u001b[43m.\u001b[49m\u001b[43msentences2trees\u001b[49m\u001b[43m(\u001b[49m\u001b[43msentences\u001b[49m\u001b[43m,\u001b[49m\n\u001b[32m    168\u001b[39m \u001b[43m                                 \u001b[49m\u001b[43msuppress_exceptions\u001b[49m\u001b[43m=\u001b[49m\u001b[43msuppress_exceptions\u001b[49m\u001b[43m,\u001b[49m\n\u001b[32m    169\u001b[39m \u001b[43m                                 \u001b[49m\u001b[43mtokenised\u001b[49m\u001b[43m=\u001b[49m\u001b[43mtokenised\u001b[49m\u001b[43m,\u001b[49m\n\u001b[32m    170\u001b[39m \u001b[43m                                 \u001b[49m\u001b[43mverbose\u001b[49m\u001b[43m=\u001b[49m\u001b[43mverbose\u001b[49m\u001b[43m)\u001b[49m\n\u001b[32m    171\u001b[39m     diagrams: \u001b[38;5;28mlist\u001b[39m[Diagram | \u001b[38;5;28;01mNone\u001b[39;00m] = []\n\u001b[32m    172\u001b[39m     \u001b[38;5;28;01mif\u001b[39;00m verbose \u001b[38;5;129;01mis\u001b[39;00m \u001b[38;5;28;01mNone\u001b[39;00m:\n",
      "\u001b[36mFile \u001b[39m\u001b[32mc:\\Users\\Jash\\Documents\\Research\\Semantic Equivilance\\.venv\\Lib\\site-packages\\lambeq\\text2diagram\\model_based_reader\\bobcat_parser.py:252\u001b[39m, in \u001b[36mBobcatParser.sentences2trees\u001b[39m\u001b[34m(self, sentences, tokenised, suppress_exceptions, verbose)\u001b[39m\n\u001b[32m    250\u001b[39m \u001b[38;5;28;01mif\u001b[39;00m verbose == VerbosityLevel.TEXT.value:\n\u001b[32m    251\u001b[39m     \u001b[38;5;28mprint\u001b[39m(\u001b[33m'\u001b[39m\u001b[33mTagging sentences.\u001b[39m\u001b[33m'\u001b[39m, file=sys.stderr)\n\u001b[32m--> \u001b[39m\u001b[32m252\u001b[39m tag_results = \u001b[38;5;28;43mself\u001b[39;49m\u001b[43m.\u001b[49m\u001b[43mtagger\u001b[49m\u001b[43m(\u001b[49m\u001b[43msentences_valid\u001b[49m\u001b[43m,\u001b[49m\u001b[43m \u001b[49m\u001b[43mverbose\u001b[49m\u001b[43m=\u001b[49m\u001b[43mverbose\u001b[49m\u001b[43m)\u001b[49m\n\u001b[32m    253\u001b[39m tags = tag_results.tags\n\u001b[32m    254\u001b[39m \u001b[38;5;28;01mif\u001b[39;00m verbose == VerbosityLevel.TEXT.value:\n",
      "\u001b[36mFile \u001b[39m\u001b[32mc:\\Users\\Jash\\Documents\\Research\\Semantic Equivilance\\.venv\\Lib\\site-packages\\lambeq\\bobcat\\tagger.py:411\u001b[39m, in \u001b[36mTagger.__call__\u001b[39m\u001b[34m(self, inputs, batch_size, verbose)\u001b[39m\n\u001b[32m    403\u001b[39m output = TaggerOutput(tags=\u001b[38;5;28mself\u001b[39m.model.config.tags,\n\u001b[32m    404\u001b[39m                       cats=\u001b[38;5;28mself\u001b[39m.model.config.cats,\n\u001b[32m    405\u001b[39m                       sentences=[])\n\u001b[32m    407\u001b[39m \u001b[38;5;28;01mfor\u001b[39;00m i \u001b[38;5;129;01min\u001b[39;00m trange(\u001b[32m0\u001b[39m, \u001b[38;5;28mlen\u001b[39m(inputs), batch_size,\n\u001b[32m    408\u001b[39m                 desc=\u001b[33m'\u001b[39m\u001b[33mTagging sentences\u001b[39m\u001b[33m'\u001b[39m,\n\u001b[32m    409\u001b[39m                 leave=\u001b[38;5;28;01mFalse\u001b[39;00m,\n\u001b[32m    410\u001b[39m                 disable=verbose != VerbosityLevel.PROGRESS.value):\n\u001b[32m--> \u001b[39m\u001b[32m411\u001b[39m     output.sentences.extend(\u001b[38;5;28;43mself\u001b[39;49m\u001b[43m.\u001b[49m\u001b[43mparse\u001b[49m\u001b[43m(\u001b[49m\u001b[43minputs\u001b[49m\u001b[43m[\u001b[49m\u001b[43mi\u001b[49m\u001b[43m:\u001b[49m\u001b[43mi\u001b[49m\u001b[43m+\u001b[49m\u001b[43mbatch_size\u001b[49m\u001b[43m]\u001b[49m\u001b[43m)\u001b[49m)\n\u001b[32m    413\u001b[39m \u001b[38;5;28;01mreturn\u001b[39;00m output\n",
      "\u001b[36mFile \u001b[39m\u001b[32mc:\\Users\\Jash\\Documents\\Research\\Semantic Equivilance\\.venv\\Lib\\site-packages\\lambeq\\bobcat\\tagger.py:342\u001b[39m, in \u001b[36mTagger.parse\u001b[39m\u001b[34m(self, inputs)\u001b[39m\n\u001b[32m    340\u001b[39m \u001b[38;5;250m\u001b[39m\u001b[33;03m\"\"\"Parse a batch of sentences.\"\"\"\u001b[39;00m\n\u001b[32m    341\u001b[39m encodings = \u001b[38;5;28mself\u001b[39m.prepare_inputs(inputs, word_mask=\u001b[38;5;28;01mTrue\u001b[39;00m)\n\u001b[32m--> \u001b[39m\u001b[32m342\u001b[39m outputs = \u001b[38;5;28;43mself\u001b[39;49m\u001b[43m.\u001b[49m\u001b[43mmodel\u001b[49m\u001b[43m(\u001b[49m\u001b[43m*\u001b[49m\u001b[43m*\u001b[49m\u001b[43m{\u001b[49m\u001b[43mk\u001b[49m\u001b[43m:\u001b[49m\u001b[43m \u001b[49m\u001b[43mtorch\u001b[49m\u001b[43m.\u001b[49m\u001b[43mas_tensor\u001b[49m\u001b[43m(\u001b[49m\u001b[43mv\u001b[49m\u001b[43m,\u001b[49m\u001b[43m \u001b[49m\u001b[43mdevice\u001b[49m\u001b[43m=\u001b[49m\u001b[38;5;28;43mself\u001b[39;49m\u001b[43m.\u001b[49m\u001b[43mmodel\u001b[49m\u001b[43m.\u001b[49m\u001b[43mdevice\u001b[49m\u001b[43m)\u001b[49m\n\u001b[32m    343\u001b[39m \u001b[43m                        \u001b[49m\u001b[38;5;28;43;01mfor\u001b[39;49;00m\u001b[43m \u001b[49m\u001b[43mk\u001b[49m\u001b[43m,\u001b[49m\u001b[43m \u001b[49m\u001b[43mv\u001b[49m\u001b[43m \u001b[49m\u001b[38;5;129;43;01min\u001b[39;49;00m\u001b[43m \u001b[49m\u001b[43mencodings\u001b[49m\u001b[43m.\u001b[49m\u001b[43mitems\u001b[49m\u001b[43m(\u001b[49m\u001b[43m)\u001b[49m\u001b[43m}\u001b[49m\u001b[43m)\u001b[49m\n\u001b[32m    345\u001b[39m tag_output: \u001b[38;5;28mlist\u001b[39m[\u001b[38;5;28mlist\u001b[39m[TagListT]] = []\n\u001b[32m    346\u001b[39m span_output: \u001b[38;5;28mlist\u001b[39m[\u001b[38;5;28mlist\u001b[39m[TagListT]] = []\n",
      "\u001b[36mFile \u001b[39m\u001b[32mc:\\Users\\Jash\\Documents\\Research\\Semantic Equivilance\\.venv\\Lib\\site-packages\\torch\\nn\\modules\\module.py:1751\u001b[39m, in \u001b[36mModule._wrapped_call_impl\u001b[39m\u001b[34m(self, *args, **kwargs)\u001b[39m\n\u001b[32m   1749\u001b[39m     \u001b[38;5;28;01mreturn\u001b[39;00m \u001b[38;5;28mself\u001b[39m._compiled_call_impl(*args, **kwargs)  \u001b[38;5;66;03m# type: ignore[misc]\u001b[39;00m\n\u001b[32m   1750\u001b[39m \u001b[38;5;28;01melse\u001b[39;00m:\n\u001b[32m-> \u001b[39m\u001b[32m1751\u001b[39m     \u001b[38;5;28;01mreturn\u001b[39;00m \u001b[38;5;28;43mself\u001b[39;49m\u001b[43m.\u001b[49m\u001b[43m_call_impl\u001b[49m\u001b[43m(\u001b[49m\u001b[43m*\u001b[49m\u001b[43margs\u001b[49m\u001b[43m,\u001b[49m\u001b[43m \u001b[49m\u001b[43m*\u001b[49m\u001b[43m*\u001b[49m\u001b[43mkwargs\u001b[49m\u001b[43m)\u001b[49m\n",
      "\u001b[36mFile \u001b[39m\u001b[32mc:\\Users\\Jash\\Documents\\Research\\Semantic Equivilance\\.venv\\Lib\\site-packages\\torch\\nn\\modules\\module.py:1762\u001b[39m, in \u001b[36mModule._call_impl\u001b[39m\u001b[34m(self, *args, **kwargs)\u001b[39m\n\u001b[32m   1757\u001b[39m \u001b[38;5;66;03m# If we don't have any hooks, we want to skip the rest of the logic in\u001b[39;00m\n\u001b[32m   1758\u001b[39m \u001b[38;5;66;03m# this function, and just call forward.\u001b[39;00m\n\u001b[32m   1759\u001b[39m \u001b[38;5;28;01mif\u001b[39;00m \u001b[38;5;129;01mnot\u001b[39;00m (\u001b[38;5;28mself\u001b[39m._backward_hooks \u001b[38;5;129;01mor\u001b[39;00m \u001b[38;5;28mself\u001b[39m._backward_pre_hooks \u001b[38;5;129;01mor\u001b[39;00m \u001b[38;5;28mself\u001b[39m._forward_hooks \u001b[38;5;129;01mor\u001b[39;00m \u001b[38;5;28mself\u001b[39m._forward_pre_hooks\n\u001b[32m   1760\u001b[39m         \u001b[38;5;129;01mor\u001b[39;00m _global_backward_pre_hooks \u001b[38;5;129;01mor\u001b[39;00m _global_backward_hooks\n\u001b[32m   1761\u001b[39m         \u001b[38;5;129;01mor\u001b[39;00m _global_forward_hooks \u001b[38;5;129;01mor\u001b[39;00m _global_forward_pre_hooks):\n\u001b[32m-> \u001b[39m\u001b[32m1762\u001b[39m     \u001b[38;5;28;01mreturn\u001b[39;00m \u001b[43mforward_call\u001b[49m\u001b[43m(\u001b[49m\u001b[43m*\u001b[49m\u001b[43margs\u001b[49m\u001b[43m,\u001b[49m\u001b[43m \u001b[49m\u001b[43m*\u001b[49m\u001b[43m*\u001b[49m\u001b[43mkwargs\u001b[49m\u001b[43m)\u001b[49m\n\u001b[32m   1764\u001b[39m result = \u001b[38;5;28;01mNone\u001b[39;00m\n\u001b[32m   1765\u001b[39m called_always_called_hooks = \u001b[38;5;28mset\u001b[39m()\n",
      "\u001b[36mFile \u001b[39m\u001b[32mc:\\Users\\Jash\\Documents\\Research\\Semantic Equivilance\\.venv\\Lib\\site-packages\\lambeq\\bobcat\\tagger.py:141\u001b[39m, in \u001b[36mBertForChartClassification.forward\u001b[39m\u001b[34m(self, input_ids, attention_mask, token_type_ids, position_ids, head_mask, inputs_embeds, tag_labels, span_labels, word_mask, output_attentions, output_hidden_states, return_dict)\u001b[39m\n\u001b[32m    123\u001b[39m \u001b[38;5;28;01mdef\u001b[39;00m\u001b[38;5;250m \u001b[39m\u001b[34mforward\u001b[39m(\n\u001b[32m    124\u001b[39m     \u001b[38;5;28mself\u001b[39m,\n\u001b[32m    125\u001b[39m     input_ids: torch.LongTensor | \u001b[38;5;28;01mNone\u001b[39;00m = \u001b[38;5;28;01mNone\u001b[39;00m,\n\u001b[32m   (...)\u001b[39m\u001b[32m    136\u001b[39m     return_dict: \u001b[38;5;28mbool\u001b[39m | \u001b[38;5;28;01mNone\u001b[39;00m = \u001b[38;5;28;01mNone\u001b[39;00m\n\u001b[32m    137\u001b[39m ) -> ChartClassifierOutput | \u001b[38;5;28mtuple\u001b[39m[Any, ...]:\n\u001b[32m    138\u001b[39m     return_dict = (return_dict \u001b[38;5;28;01mif\u001b[39;00m return_dict \u001b[38;5;129;01mis\u001b[39;00m \u001b[38;5;129;01mnot\u001b[39;00m \u001b[38;5;28;01mNone\u001b[39;00m\n\u001b[32m    139\u001b[39m                    \u001b[38;5;28;01melse\u001b[39;00m \u001b[38;5;28mself\u001b[39m.config.use_return_dict)\n\u001b[32m--> \u001b[39m\u001b[32m141\u001b[39m     outputs = \u001b[38;5;28;43mself\u001b[39;49m\u001b[43m.\u001b[49m\u001b[43mbert\u001b[49m\u001b[43m(\u001b[49m\n\u001b[32m    142\u001b[39m \u001b[43m        \u001b[49m\u001b[43minput_ids\u001b[49m\u001b[43m,\u001b[49m\n\u001b[32m    143\u001b[39m \u001b[43m        \u001b[49m\u001b[43mattention_mask\u001b[49m\u001b[43m=\u001b[49m\u001b[43mattention_mask\u001b[49m\u001b[43m,\u001b[49m\n\u001b[32m    144\u001b[39m \u001b[43m        \u001b[49m\u001b[43mtoken_type_ids\u001b[49m\u001b[43m=\u001b[49m\u001b[43mtoken_type_ids\u001b[49m\u001b[43m,\u001b[49m\n\u001b[32m    145\u001b[39m \u001b[43m        \u001b[49m\u001b[43mposition_ids\u001b[49m\u001b[43m=\u001b[49m\u001b[43mposition_ids\u001b[49m\u001b[43m,\u001b[49m\n\u001b[32m    146\u001b[39m \u001b[43m        \u001b[49m\u001b[43mhead_mask\u001b[49m\u001b[43m=\u001b[49m\u001b[43mhead_mask\u001b[49m\u001b[43m,\u001b[49m\n\u001b[32m    147\u001b[39m \u001b[43m        \u001b[49m\u001b[43minputs_embeds\u001b[49m\u001b[43m=\u001b[49m\u001b[43minputs_embeds\u001b[49m\u001b[43m,\u001b[49m\n\u001b[32m    148\u001b[39m \u001b[43m        \u001b[49m\u001b[43moutput_attentions\u001b[49m\u001b[43m=\u001b[49m\u001b[43moutput_attentions\u001b[49m\u001b[43m,\u001b[49m\n\u001b[32m    149\u001b[39m \u001b[43m        \u001b[49m\u001b[43moutput_hidden_states\u001b[49m\u001b[43m=\u001b[49m\u001b[43moutput_hidden_states\u001b[49m\u001b[43m,\u001b[49m\n\u001b[32m    150\u001b[39m \u001b[43m        \u001b[49m\u001b[43mreturn_dict\u001b[49m\u001b[43m=\u001b[49m\u001b[43mreturn_dict\u001b[49m\u001b[43m,\u001b[49m\n\u001b[32m    151\u001b[39m \u001b[43m    \u001b[49m\u001b[43m)\u001b[49m\n\u001b[32m    153\u001b[39m     sequence_output = outputs[\u001b[32m0\u001b[39m]\n\u001b[32m    154\u001b[39m     \u001b[38;5;28;01mif\u001b[39;00m word_mask \u001b[38;5;129;01mis\u001b[39;00m \u001b[38;5;129;01mnot\u001b[39;00m \u001b[38;5;28;01mNone\u001b[39;00m:\n\u001b[32m    155\u001b[39m         \u001b[38;5;66;03m# remove ignored tensors and pack remaining ones\u001b[39;00m\n",
      "\u001b[36mFile \u001b[39m\u001b[32mc:\\Users\\Jash\\Documents\\Research\\Semantic Equivilance\\.venv\\Lib\\site-packages\\torch\\nn\\modules\\module.py:1751\u001b[39m, in \u001b[36mModule._wrapped_call_impl\u001b[39m\u001b[34m(self, *args, **kwargs)\u001b[39m\n\u001b[32m   1749\u001b[39m     \u001b[38;5;28;01mreturn\u001b[39;00m \u001b[38;5;28mself\u001b[39m._compiled_call_impl(*args, **kwargs)  \u001b[38;5;66;03m# type: ignore[misc]\u001b[39;00m\n\u001b[32m   1750\u001b[39m \u001b[38;5;28;01melse\u001b[39;00m:\n\u001b[32m-> \u001b[39m\u001b[32m1751\u001b[39m     \u001b[38;5;28;01mreturn\u001b[39;00m \u001b[38;5;28;43mself\u001b[39;49m\u001b[43m.\u001b[49m\u001b[43m_call_impl\u001b[49m\u001b[43m(\u001b[49m\u001b[43m*\u001b[49m\u001b[43margs\u001b[49m\u001b[43m,\u001b[49m\u001b[43m \u001b[49m\u001b[43m*\u001b[49m\u001b[43m*\u001b[49m\u001b[43mkwargs\u001b[49m\u001b[43m)\u001b[49m\n",
      "\u001b[36mFile \u001b[39m\u001b[32mc:\\Users\\Jash\\Documents\\Research\\Semantic Equivilance\\.venv\\Lib\\site-packages\\torch\\nn\\modules\\module.py:1762\u001b[39m, in \u001b[36mModule._call_impl\u001b[39m\u001b[34m(self, *args, **kwargs)\u001b[39m\n\u001b[32m   1757\u001b[39m \u001b[38;5;66;03m# If we don't have any hooks, we want to skip the rest of the logic in\u001b[39;00m\n\u001b[32m   1758\u001b[39m \u001b[38;5;66;03m# this function, and just call forward.\u001b[39;00m\n\u001b[32m   1759\u001b[39m \u001b[38;5;28;01mif\u001b[39;00m \u001b[38;5;129;01mnot\u001b[39;00m (\u001b[38;5;28mself\u001b[39m._backward_hooks \u001b[38;5;129;01mor\u001b[39;00m \u001b[38;5;28mself\u001b[39m._backward_pre_hooks \u001b[38;5;129;01mor\u001b[39;00m \u001b[38;5;28mself\u001b[39m._forward_hooks \u001b[38;5;129;01mor\u001b[39;00m \u001b[38;5;28mself\u001b[39m._forward_pre_hooks\n\u001b[32m   1760\u001b[39m         \u001b[38;5;129;01mor\u001b[39;00m _global_backward_pre_hooks \u001b[38;5;129;01mor\u001b[39;00m _global_backward_hooks\n\u001b[32m   1761\u001b[39m         \u001b[38;5;129;01mor\u001b[39;00m _global_forward_hooks \u001b[38;5;129;01mor\u001b[39;00m _global_forward_pre_hooks):\n\u001b[32m-> \u001b[39m\u001b[32m1762\u001b[39m     \u001b[38;5;28;01mreturn\u001b[39;00m \u001b[43mforward_call\u001b[49m\u001b[43m(\u001b[49m\u001b[43m*\u001b[49m\u001b[43margs\u001b[49m\u001b[43m,\u001b[49m\u001b[43m \u001b[49m\u001b[43m*\u001b[49m\u001b[43m*\u001b[49m\u001b[43mkwargs\u001b[49m\u001b[43m)\u001b[49m\n\u001b[32m   1764\u001b[39m result = \u001b[38;5;28;01mNone\u001b[39;00m\n\u001b[32m   1765\u001b[39m called_always_called_hooks = \u001b[38;5;28mset\u001b[39m()\n",
      "\u001b[36mFile \u001b[39m\u001b[32mc:\\Users\\Jash\\Documents\\Research\\Semantic Equivilance\\.venv\\Lib\\site-packages\\transformers\\models\\bert\\modeling_bert.py:996\u001b[39m, in \u001b[36mBertModel.forward\u001b[39m\u001b[34m(self, input_ids, attention_mask, token_type_ids, position_ids, head_mask, inputs_embeds, encoder_hidden_states, encoder_attention_mask, past_key_values, use_cache, output_attentions, output_hidden_states, return_dict)\u001b[39m\n\u001b[32m    989\u001b[39m \u001b[38;5;66;03m# Prepare head mask if needed\u001b[39;00m\n\u001b[32m    990\u001b[39m \u001b[38;5;66;03m# 1.0 in head_mask indicate we keep the head\u001b[39;00m\n\u001b[32m    991\u001b[39m \u001b[38;5;66;03m# attention_probs has shape bsz x n_heads x N x N\u001b[39;00m\n\u001b[32m    992\u001b[39m \u001b[38;5;66;03m# input head_mask has shape [num_heads] or [num_hidden_layers x num_heads]\u001b[39;00m\n\u001b[32m    993\u001b[39m \u001b[38;5;66;03m# and head_mask is converted to shape [num_hidden_layers x batch x num_heads x seq_length x seq_length]\u001b[39;00m\n\u001b[32m    994\u001b[39m head_mask = \u001b[38;5;28mself\u001b[39m.get_head_mask(head_mask, \u001b[38;5;28mself\u001b[39m.config.num_hidden_layers)\n\u001b[32m--> \u001b[39m\u001b[32m996\u001b[39m encoder_outputs = \u001b[38;5;28;43mself\u001b[39;49m\u001b[43m.\u001b[49m\u001b[43mencoder\u001b[49m\u001b[43m(\u001b[49m\n\u001b[32m    997\u001b[39m \u001b[43m    \u001b[49m\u001b[43membedding_output\u001b[49m\u001b[43m,\u001b[49m\n\u001b[32m    998\u001b[39m \u001b[43m    \u001b[49m\u001b[43mattention_mask\u001b[49m\u001b[43m=\u001b[49m\u001b[43mextended_attention_mask\u001b[49m\u001b[43m,\u001b[49m\n\u001b[32m    999\u001b[39m \u001b[43m    \u001b[49m\u001b[43mhead_mask\u001b[49m\u001b[43m=\u001b[49m\u001b[43mhead_mask\u001b[49m\u001b[43m,\u001b[49m\n\u001b[32m   1000\u001b[39m \u001b[43m    \u001b[49m\u001b[43mencoder_hidden_states\u001b[49m\u001b[43m=\u001b[49m\u001b[43mencoder_hidden_states\u001b[49m\u001b[43m,\u001b[49m\n\u001b[32m   1001\u001b[39m \u001b[43m    \u001b[49m\u001b[43mencoder_attention_mask\u001b[49m\u001b[43m=\u001b[49m\u001b[43mencoder_extended_attention_mask\u001b[49m\u001b[43m,\u001b[49m\n\u001b[32m   1002\u001b[39m \u001b[43m    \u001b[49m\u001b[43mpast_key_values\u001b[49m\u001b[43m=\u001b[49m\u001b[43mpast_key_values\u001b[49m\u001b[43m,\u001b[49m\n\u001b[32m   1003\u001b[39m \u001b[43m    \u001b[49m\u001b[43muse_cache\u001b[49m\u001b[43m=\u001b[49m\u001b[43muse_cache\u001b[49m\u001b[43m,\u001b[49m\n\u001b[32m   1004\u001b[39m \u001b[43m    \u001b[49m\u001b[43moutput_attentions\u001b[49m\u001b[43m=\u001b[49m\u001b[43moutput_attentions\u001b[49m\u001b[43m,\u001b[49m\n\u001b[32m   1005\u001b[39m \u001b[43m    \u001b[49m\u001b[43moutput_hidden_states\u001b[49m\u001b[43m=\u001b[49m\u001b[43moutput_hidden_states\u001b[49m\u001b[43m,\u001b[49m\n\u001b[32m   1006\u001b[39m \u001b[43m    \u001b[49m\u001b[43mreturn_dict\u001b[49m\u001b[43m=\u001b[49m\u001b[43mreturn_dict\u001b[49m\u001b[43m,\u001b[49m\n\u001b[32m   1007\u001b[39m \u001b[43m\u001b[49m\u001b[43m)\u001b[49m\n\u001b[32m   1008\u001b[39m sequence_output = encoder_outputs[\u001b[32m0\u001b[39m]\n\u001b[32m   1009\u001b[39m pooled_output = \u001b[38;5;28mself\u001b[39m.pooler(sequence_output) \u001b[38;5;28;01mif\u001b[39;00m \u001b[38;5;28mself\u001b[39m.pooler \u001b[38;5;129;01mis\u001b[39;00m \u001b[38;5;129;01mnot\u001b[39;00m \u001b[38;5;28;01mNone\u001b[39;00m \u001b[38;5;28;01melse\u001b[39;00m \u001b[38;5;28;01mNone\u001b[39;00m\n",
      "\u001b[36mFile \u001b[39m\u001b[32mc:\\Users\\Jash\\Documents\\Research\\Semantic Equivilance\\.venv\\Lib\\site-packages\\torch\\nn\\modules\\module.py:1751\u001b[39m, in \u001b[36mModule._wrapped_call_impl\u001b[39m\u001b[34m(self, *args, **kwargs)\u001b[39m\n\u001b[32m   1749\u001b[39m     \u001b[38;5;28;01mreturn\u001b[39;00m \u001b[38;5;28mself\u001b[39m._compiled_call_impl(*args, **kwargs)  \u001b[38;5;66;03m# type: ignore[misc]\u001b[39;00m\n\u001b[32m   1750\u001b[39m \u001b[38;5;28;01melse\u001b[39;00m:\n\u001b[32m-> \u001b[39m\u001b[32m1751\u001b[39m     \u001b[38;5;28;01mreturn\u001b[39;00m \u001b[38;5;28;43mself\u001b[39;49m\u001b[43m.\u001b[49m\u001b[43m_call_impl\u001b[49m\u001b[43m(\u001b[49m\u001b[43m*\u001b[49m\u001b[43margs\u001b[49m\u001b[43m,\u001b[49m\u001b[43m \u001b[49m\u001b[43m*\u001b[49m\u001b[43m*\u001b[49m\u001b[43mkwargs\u001b[49m\u001b[43m)\u001b[49m\n",
      "\u001b[36mFile \u001b[39m\u001b[32mc:\\Users\\Jash\\Documents\\Research\\Semantic Equivilance\\.venv\\Lib\\site-packages\\torch\\nn\\modules\\module.py:1762\u001b[39m, in \u001b[36mModule._call_impl\u001b[39m\u001b[34m(self, *args, **kwargs)\u001b[39m\n\u001b[32m   1757\u001b[39m \u001b[38;5;66;03m# If we don't have any hooks, we want to skip the rest of the logic in\u001b[39;00m\n\u001b[32m   1758\u001b[39m \u001b[38;5;66;03m# this function, and just call forward.\u001b[39;00m\n\u001b[32m   1759\u001b[39m \u001b[38;5;28;01mif\u001b[39;00m \u001b[38;5;129;01mnot\u001b[39;00m (\u001b[38;5;28mself\u001b[39m._backward_hooks \u001b[38;5;129;01mor\u001b[39;00m \u001b[38;5;28mself\u001b[39m._backward_pre_hooks \u001b[38;5;129;01mor\u001b[39;00m \u001b[38;5;28mself\u001b[39m._forward_hooks \u001b[38;5;129;01mor\u001b[39;00m \u001b[38;5;28mself\u001b[39m._forward_pre_hooks\n\u001b[32m   1760\u001b[39m         \u001b[38;5;129;01mor\u001b[39;00m _global_backward_pre_hooks \u001b[38;5;129;01mor\u001b[39;00m _global_backward_hooks\n\u001b[32m   1761\u001b[39m         \u001b[38;5;129;01mor\u001b[39;00m _global_forward_hooks \u001b[38;5;129;01mor\u001b[39;00m _global_forward_pre_hooks):\n\u001b[32m-> \u001b[39m\u001b[32m1762\u001b[39m     \u001b[38;5;28;01mreturn\u001b[39;00m \u001b[43mforward_call\u001b[49m\u001b[43m(\u001b[49m\u001b[43m*\u001b[49m\u001b[43margs\u001b[49m\u001b[43m,\u001b[49m\u001b[43m \u001b[49m\u001b[43m*\u001b[49m\u001b[43m*\u001b[49m\u001b[43mkwargs\u001b[49m\u001b[43m)\u001b[49m\n\u001b[32m   1764\u001b[39m result = \u001b[38;5;28;01mNone\u001b[39;00m\n\u001b[32m   1765\u001b[39m called_always_called_hooks = \u001b[38;5;28mset\u001b[39m()\n",
      "\u001b[36mFile \u001b[39m\u001b[32mc:\\Users\\Jash\\Documents\\Research\\Semantic Equivilance\\.venv\\Lib\\site-packages\\transformers\\models\\bert\\modeling_bert.py:651\u001b[39m, in \u001b[36mBertEncoder.forward\u001b[39m\u001b[34m(self, hidden_states, attention_mask, head_mask, encoder_hidden_states, encoder_attention_mask, past_key_values, use_cache, output_attentions, output_hidden_states, return_dict)\u001b[39m\n\u001b[32m    648\u001b[39m layer_head_mask = head_mask[i] \u001b[38;5;28;01mif\u001b[39;00m head_mask \u001b[38;5;129;01mis\u001b[39;00m \u001b[38;5;129;01mnot\u001b[39;00m \u001b[38;5;28;01mNone\u001b[39;00m \u001b[38;5;28;01melse\u001b[39;00m \u001b[38;5;28;01mNone\u001b[39;00m\n\u001b[32m    649\u001b[39m past_key_value = past_key_values[i] \u001b[38;5;28;01mif\u001b[39;00m past_key_values \u001b[38;5;129;01mis\u001b[39;00m \u001b[38;5;129;01mnot\u001b[39;00m \u001b[38;5;28;01mNone\u001b[39;00m \u001b[38;5;28;01melse\u001b[39;00m \u001b[38;5;28;01mNone\u001b[39;00m\n\u001b[32m--> \u001b[39m\u001b[32m651\u001b[39m layer_outputs = \u001b[43mlayer_module\u001b[49m\u001b[43m(\u001b[49m\n\u001b[32m    652\u001b[39m \u001b[43m    \u001b[49m\u001b[43mhidden_states\u001b[49m\u001b[43m,\u001b[49m\n\u001b[32m    653\u001b[39m \u001b[43m    \u001b[49m\u001b[43mattention_mask\u001b[49m\u001b[43m,\u001b[49m\n\u001b[32m    654\u001b[39m \u001b[43m    \u001b[49m\u001b[43mlayer_head_mask\u001b[49m\u001b[43m,\u001b[49m\n\u001b[32m    655\u001b[39m \u001b[43m    \u001b[49m\u001b[43mencoder_hidden_states\u001b[49m\u001b[43m,\u001b[49m\u001b[43m  \u001b[49m\u001b[38;5;66;43;03m# as a positional argument for gradient checkpointing\u001b[39;49;00m\n\u001b[32m    656\u001b[39m \u001b[43m    \u001b[49m\u001b[43mencoder_attention_mask\u001b[49m\u001b[43m=\u001b[49m\u001b[43mencoder_attention_mask\u001b[49m\u001b[43m,\u001b[49m\n\u001b[32m    657\u001b[39m \u001b[43m    \u001b[49m\u001b[43mpast_key_value\u001b[49m\u001b[43m=\u001b[49m\u001b[43mpast_key_value\u001b[49m\u001b[43m,\u001b[49m\n\u001b[32m    658\u001b[39m \u001b[43m    \u001b[49m\u001b[43moutput_attentions\u001b[49m\u001b[43m=\u001b[49m\u001b[43moutput_attentions\u001b[49m\u001b[43m,\u001b[49m\n\u001b[32m    659\u001b[39m \u001b[43m\u001b[49m\u001b[43m)\u001b[49m\n\u001b[32m    661\u001b[39m hidden_states = layer_outputs[\u001b[32m0\u001b[39m]\n\u001b[32m    662\u001b[39m \u001b[38;5;28;01mif\u001b[39;00m use_cache:\n",
      "\u001b[36mFile \u001b[39m\u001b[32mc:\\Users\\Jash\\Documents\\Research\\Semantic Equivilance\\.venv\\Lib\\site-packages\\transformers\\modeling_layers.py:83\u001b[39m, in \u001b[36mGradientCheckpointingLayer.__call__\u001b[39m\u001b[34m(self, *args, **kwargs)\u001b[39m\n\u001b[32m     80\u001b[39m         logger.warning(message)\n\u001b[32m     82\u001b[39m     \u001b[38;5;28;01mreturn\u001b[39;00m \u001b[38;5;28mself\u001b[39m._gradient_checkpointing_func(partial(\u001b[38;5;28msuper\u001b[39m().\u001b[34m__call__\u001b[39m, **kwargs), *args)\n\u001b[32m---> \u001b[39m\u001b[32m83\u001b[39m \u001b[38;5;28;01mreturn\u001b[39;00m \u001b[38;5;28;43msuper\u001b[39;49m\u001b[43m(\u001b[49m\u001b[43m)\u001b[49m\u001b[43m.\u001b[49m\u001b[34;43m__call__\u001b[39;49m\u001b[43m(\u001b[49m\u001b[43m*\u001b[49m\u001b[43margs\u001b[49m\u001b[43m,\u001b[49m\u001b[43m \u001b[49m\u001b[43m*\u001b[49m\u001b[43m*\u001b[49m\u001b[43mkwargs\u001b[49m\u001b[43m)\u001b[49m\n",
      "\u001b[36mFile \u001b[39m\u001b[32mc:\\Users\\Jash\\Documents\\Research\\Semantic Equivilance\\.venv\\Lib\\site-packages\\torch\\nn\\modules\\module.py:1751\u001b[39m, in \u001b[36mModule._wrapped_call_impl\u001b[39m\u001b[34m(self, *args, **kwargs)\u001b[39m\n\u001b[32m   1749\u001b[39m     \u001b[38;5;28;01mreturn\u001b[39;00m \u001b[38;5;28mself\u001b[39m._compiled_call_impl(*args, **kwargs)  \u001b[38;5;66;03m# type: ignore[misc]\u001b[39;00m\n\u001b[32m   1750\u001b[39m \u001b[38;5;28;01melse\u001b[39;00m:\n\u001b[32m-> \u001b[39m\u001b[32m1751\u001b[39m     \u001b[38;5;28;01mreturn\u001b[39;00m \u001b[38;5;28;43mself\u001b[39;49m\u001b[43m.\u001b[49m\u001b[43m_call_impl\u001b[49m\u001b[43m(\u001b[49m\u001b[43m*\u001b[49m\u001b[43margs\u001b[49m\u001b[43m,\u001b[49m\u001b[43m \u001b[49m\u001b[43m*\u001b[49m\u001b[43m*\u001b[49m\u001b[43mkwargs\u001b[49m\u001b[43m)\u001b[49m\n",
      "\u001b[36mFile \u001b[39m\u001b[32mc:\\Users\\Jash\\Documents\\Research\\Semantic Equivilance\\.venv\\Lib\\site-packages\\torch\\nn\\modules\\module.py:1762\u001b[39m, in \u001b[36mModule._call_impl\u001b[39m\u001b[34m(self, *args, **kwargs)\u001b[39m\n\u001b[32m   1757\u001b[39m \u001b[38;5;66;03m# If we don't have any hooks, we want to skip the rest of the logic in\u001b[39;00m\n\u001b[32m   1758\u001b[39m \u001b[38;5;66;03m# this function, and just call forward.\u001b[39;00m\n\u001b[32m   1759\u001b[39m \u001b[38;5;28;01mif\u001b[39;00m \u001b[38;5;129;01mnot\u001b[39;00m (\u001b[38;5;28mself\u001b[39m._backward_hooks \u001b[38;5;129;01mor\u001b[39;00m \u001b[38;5;28mself\u001b[39m._backward_pre_hooks \u001b[38;5;129;01mor\u001b[39;00m \u001b[38;5;28mself\u001b[39m._forward_hooks \u001b[38;5;129;01mor\u001b[39;00m \u001b[38;5;28mself\u001b[39m._forward_pre_hooks\n\u001b[32m   1760\u001b[39m         \u001b[38;5;129;01mor\u001b[39;00m _global_backward_pre_hooks \u001b[38;5;129;01mor\u001b[39;00m _global_backward_hooks\n\u001b[32m   1761\u001b[39m         \u001b[38;5;129;01mor\u001b[39;00m _global_forward_hooks \u001b[38;5;129;01mor\u001b[39;00m _global_forward_pre_hooks):\n\u001b[32m-> \u001b[39m\u001b[32m1762\u001b[39m     \u001b[38;5;28;01mreturn\u001b[39;00m \u001b[43mforward_call\u001b[49m\u001b[43m(\u001b[49m\u001b[43m*\u001b[49m\u001b[43margs\u001b[49m\u001b[43m,\u001b[49m\u001b[43m \u001b[49m\u001b[43m*\u001b[49m\u001b[43m*\u001b[49m\u001b[43mkwargs\u001b[49m\u001b[43m)\u001b[49m\n\u001b[32m   1764\u001b[39m result = \u001b[38;5;28;01mNone\u001b[39;00m\n\u001b[32m   1765\u001b[39m called_always_called_hooks = \u001b[38;5;28mset\u001b[39m()\n",
      "\u001b[36mFile \u001b[39m\u001b[32mc:\\Users\\Jash\\Documents\\Research\\Semantic Equivilance\\.venv\\Lib\\site-packages\\transformers\\models\\bert\\modeling_bert.py:595\u001b[39m, in \u001b[36mBertLayer.forward\u001b[39m\u001b[34m(self, hidden_states, attention_mask, head_mask, encoder_hidden_states, encoder_attention_mask, past_key_value, output_attentions)\u001b[39m\n\u001b[32m    592\u001b[39m     cross_attn_present_key_value = cross_attention_outputs[-\u001b[32m1\u001b[39m]\n\u001b[32m    593\u001b[39m     present_key_value = present_key_value + cross_attn_present_key_value\n\u001b[32m--> \u001b[39m\u001b[32m595\u001b[39m layer_output = \u001b[43mapply_chunking_to_forward\u001b[49m\u001b[43m(\u001b[49m\n\u001b[32m    596\u001b[39m \u001b[43m    \u001b[49m\u001b[38;5;28;43mself\u001b[39;49m\u001b[43m.\u001b[49m\u001b[43mfeed_forward_chunk\u001b[49m\u001b[43m,\u001b[49m\u001b[43m \u001b[49m\u001b[38;5;28;43mself\u001b[39;49m\u001b[43m.\u001b[49m\u001b[43mchunk_size_feed_forward\u001b[49m\u001b[43m,\u001b[49m\u001b[43m \u001b[49m\u001b[38;5;28;43mself\u001b[39;49m\u001b[43m.\u001b[49m\u001b[43mseq_len_dim\u001b[49m\u001b[43m,\u001b[49m\u001b[43m \u001b[49m\u001b[43mattention_output\u001b[49m\n\u001b[32m    597\u001b[39m \u001b[43m\u001b[49m\u001b[43m)\u001b[49m\n\u001b[32m    598\u001b[39m outputs = (layer_output,) + outputs\n\u001b[32m    600\u001b[39m \u001b[38;5;66;03m# if decoder, return the attn key/values as the last output\u001b[39;00m\n",
      "\u001b[36mFile \u001b[39m\u001b[32mc:\\Users\\Jash\\Documents\\Research\\Semantic Equivilance\\.venv\\Lib\\site-packages\\transformers\\pytorch_utils.py:250\u001b[39m, in \u001b[36mapply_chunking_to_forward\u001b[39m\u001b[34m(forward_fn, chunk_size, chunk_dim, *input_tensors)\u001b[39m\n\u001b[32m    247\u001b[39m     \u001b[38;5;66;03m# concatenate output at same dimension\u001b[39;00m\n\u001b[32m    248\u001b[39m     \u001b[38;5;28;01mreturn\u001b[39;00m torch.cat(output_chunks, dim=chunk_dim)\n\u001b[32m--> \u001b[39m\u001b[32m250\u001b[39m \u001b[38;5;28;01mreturn\u001b[39;00m \u001b[43mforward_fn\u001b[49m\u001b[43m(\u001b[49m\u001b[43m*\u001b[49m\u001b[43minput_tensors\u001b[49m\u001b[43m)\u001b[49m\n",
      "\u001b[36mFile \u001b[39m\u001b[32mc:\\Users\\Jash\\Documents\\Research\\Semantic Equivilance\\.venv\\Lib\\site-packages\\transformers\\models\\bert\\modeling_bert.py:607\u001b[39m, in \u001b[36mBertLayer.feed_forward_chunk\u001b[39m\u001b[34m(self, attention_output)\u001b[39m\n\u001b[32m    606\u001b[39m \u001b[38;5;28;01mdef\u001b[39;00m\u001b[38;5;250m \u001b[39m\u001b[34mfeed_forward_chunk\u001b[39m(\u001b[38;5;28mself\u001b[39m, attention_output):\n\u001b[32m--> \u001b[39m\u001b[32m607\u001b[39m     intermediate_output = \u001b[38;5;28;43mself\u001b[39;49m\u001b[43m.\u001b[49m\u001b[43mintermediate\u001b[49m\u001b[43m(\u001b[49m\u001b[43mattention_output\u001b[49m\u001b[43m)\u001b[49m\n\u001b[32m    608\u001b[39m     layer_output = \u001b[38;5;28mself\u001b[39m.output(intermediate_output, attention_output)\n\u001b[32m    609\u001b[39m     \u001b[38;5;28;01mreturn\u001b[39;00m layer_output\n",
      "\u001b[36mFile \u001b[39m\u001b[32mc:\\Users\\Jash\\Documents\\Research\\Semantic Equivilance\\.venv\\Lib\\site-packages\\torch\\nn\\modules\\module.py:1751\u001b[39m, in \u001b[36mModule._wrapped_call_impl\u001b[39m\u001b[34m(self, *args, **kwargs)\u001b[39m\n\u001b[32m   1749\u001b[39m     \u001b[38;5;28;01mreturn\u001b[39;00m \u001b[38;5;28mself\u001b[39m._compiled_call_impl(*args, **kwargs)  \u001b[38;5;66;03m# type: ignore[misc]\u001b[39;00m\n\u001b[32m   1750\u001b[39m \u001b[38;5;28;01melse\u001b[39;00m:\n\u001b[32m-> \u001b[39m\u001b[32m1751\u001b[39m     \u001b[38;5;28;01mreturn\u001b[39;00m \u001b[38;5;28;43mself\u001b[39;49m\u001b[43m.\u001b[49m\u001b[43m_call_impl\u001b[49m\u001b[43m(\u001b[49m\u001b[43m*\u001b[49m\u001b[43margs\u001b[49m\u001b[43m,\u001b[49m\u001b[43m \u001b[49m\u001b[43m*\u001b[49m\u001b[43m*\u001b[49m\u001b[43mkwargs\u001b[49m\u001b[43m)\u001b[49m\n",
      "\u001b[36mFile \u001b[39m\u001b[32mc:\\Users\\Jash\\Documents\\Research\\Semantic Equivilance\\.venv\\Lib\\site-packages\\torch\\nn\\modules\\module.py:1762\u001b[39m, in \u001b[36mModule._call_impl\u001b[39m\u001b[34m(self, *args, **kwargs)\u001b[39m\n\u001b[32m   1757\u001b[39m \u001b[38;5;66;03m# If we don't have any hooks, we want to skip the rest of the logic in\u001b[39;00m\n\u001b[32m   1758\u001b[39m \u001b[38;5;66;03m# this function, and just call forward.\u001b[39;00m\n\u001b[32m   1759\u001b[39m \u001b[38;5;28;01mif\u001b[39;00m \u001b[38;5;129;01mnot\u001b[39;00m (\u001b[38;5;28mself\u001b[39m._backward_hooks \u001b[38;5;129;01mor\u001b[39;00m \u001b[38;5;28mself\u001b[39m._backward_pre_hooks \u001b[38;5;129;01mor\u001b[39;00m \u001b[38;5;28mself\u001b[39m._forward_hooks \u001b[38;5;129;01mor\u001b[39;00m \u001b[38;5;28mself\u001b[39m._forward_pre_hooks\n\u001b[32m   1760\u001b[39m         \u001b[38;5;129;01mor\u001b[39;00m _global_backward_pre_hooks \u001b[38;5;129;01mor\u001b[39;00m _global_backward_hooks\n\u001b[32m   1761\u001b[39m         \u001b[38;5;129;01mor\u001b[39;00m _global_forward_hooks \u001b[38;5;129;01mor\u001b[39;00m _global_forward_pre_hooks):\n\u001b[32m-> \u001b[39m\u001b[32m1762\u001b[39m     \u001b[38;5;28;01mreturn\u001b[39;00m \u001b[43mforward_call\u001b[49m\u001b[43m(\u001b[49m\u001b[43m*\u001b[49m\u001b[43margs\u001b[49m\u001b[43m,\u001b[49m\u001b[43m \u001b[49m\u001b[43m*\u001b[49m\u001b[43m*\u001b[49m\u001b[43mkwargs\u001b[49m\u001b[43m)\u001b[49m\n\u001b[32m   1764\u001b[39m result = \u001b[38;5;28;01mNone\u001b[39;00m\n\u001b[32m   1765\u001b[39m called_always_called_hooks = \u001b[38;5;28mset\u001b[39m()\n",
      "\u001b[36mFile \u001b[39m\u001b[32mc:\\Users\\Jash\\Documents\\Research\\Semantic Equivilance\\.venv\\Lib\\site-packages\\transformers\\models\\bert\\modeling_bert.py:508\u001b[39m, in \u001b[36mBertIntermediate.forward\u001b[39m\u001b[34m(self, hidden_states)\u001b[39m\n\u001b[32m    506\u001b[39m \u001b[38;5;28;01mdef\u001b[39;00m\u001b[38;5;250m \u001b[39m\u001b[34mforward\u001b[39m(\u001b[38;5;28mself\u001b[39m, hidden_states: torch.Tensor) -> torch.Tensor:\n\u001b[32m    507\u001b[39m     hidden_states = \u001b[38;5;28mself\u001b[39m.dense(hidden_states)\n\u001b[32m--> \u001b[39m\u001b[32m508\u001b[39m     hidden_states = \u001b[38;5;28;43mself\u001b[39;49m\u001b[43m.\u001b[49m\u001b[43mintermediate_act_fn\u001b[49m\u001b[43m(\u001b[49m\u001b[43mhidden_states\u001b[49m\u001b[43m)\u001b[49m\n\u001b[32m    509\u001b[39m     \u001b[38;5;28;01mreturn\u001b[39;00m hidden_states\n",
      "\u001b[36mFile \u001b[39m\u001b[32mc:\\Users\\Jash\\Documents\\Research\\Semantic Equivilance\\.venv\\Lib\\site-packages\\torch\\nn\\modules\\module.py:1751\u001b[39m, in \u001b[36mModule._wrapped_call_impl\u001b[39m\u001b[34m(self, *args, **kwargs)\u001b[39m\n\u001b[32m   1749\u001b[39m     \u001b[38;5;28;01mreturn\u001b[39;00m \u001b[38;5;28mself\u001b[39m._compiled_call_impl(*args, **kwargs)  \u001b[38;5;66;03m# type: ignore[misc]\u001b[39;00m\n\u001b[32m   1750\u001b[39m \u001b[38;5;28;01melse\u001b[39;00m:\n\u001b[32m-> \u001b[39m\u001b[32m1751\u001b[39m     \u001b[38;5;28;01mreturn\u001b[39;00m \u001b[38;5;28;43mself\u001b[39;49m\u001b[43m.\u001b[49m\u001b[43m_call_impl\u001b[49m\u001b[43m(\u001b[49m\u001b[43m*\u001b[49m\u001b[43margs\u001b[49m\u001b[43m,\u001b[49m\u001b[43m \u001b[49m\u001b[43m*\u001b[49m\u001b[43m*\u001b[49m\u001b[43mkwargs\u001b[49m\u001b[43m)\u001b[49m\n",
      "\u001b[36mFile \u001b[39m\u001b[32mc:\\Users\\Jash\\Documents\\Research\\Semantic Equivilance\\.venv\\Lib\\site-packages\\torch\\nn\\modules\\module.py:1762\u001b[39m, in \u001b[36mModule._call_impl\u001b[39m\u001b[34m(self, *args, **kwargs)\u001b[39m\n\u001b[32m   1757\u001b[39m \u001b[38;5;66;03m# If we don't have any hooks, we want to skip the rest of the logic in\u001b[39;00m\n\u001b[32m   1758\u001b[39m \u001b[38;5;66;03m# this function, and just call forward.\u001b[39;00m\n\u001b[32m   1759\u001b[39m \u001b[38;5;28;01mif\u001b[39;00m \u001b[38;5;129;01mnot\u001b[39;00m (\u001b[38;5;28mself\u001b[39m._backward_hooks \u001b[38;5;129;01mor\u001b[39;00m \u001b[38;5;28mself\u001b[39m._backward_pre_hooks \u001b[38;5;129;01mor\u001b[39;00m \u001b[38;5;28mself\u001b[39m._forward_hooks \u001b[38;5;129;01mor\u001b[39;00m \u001b[38;5;28mself\u001b[39m._forward_pre_hooks\n\u001b[32m   1760\u001b[39m         \u001b[38;5;129;01mor\u001b[39;00m _global_backward_pre_hooks \u001b[38;5;129;01mor\u001b[39;00m _global_backward_hooks\n\u001b[32m   1761\u001b[39m         \u001b[38;5;129;01mor\u001b[39;00m _global_forward_hooks \u001b[38;5;129;01mor\u001b[39;00m _global_forward_pre_hooks):\n\u001b[32m-> \u001b[39m\u001b[32m1762\u001b[39m     \u001b[38;5;28;01mreturn\u001b[39;00m \u001b[43mforward_call\u001b[49m\u001b[43m(\u001b[49m\u001b[43m*\u001b[49m\u001b[43margs\u001b[49m\u001b[43m,\u001b[49m\u001b[43m \u001b[49m\u001b[43m*\u001b[49m\u001b[43m*\u001b[49m\u001b[43mkwargs\u001b[49m\u001b[43m)\u001b[49m\n\u001b[32m   1764\u001b[39m result = \u001b[38;5;28;01mNone\u001b[39;00m\n\u001b[32m   1765\u001b[39m called_always_called_hooks = \u001b[38;5;28mset\u001b[39m()\n",
      "\u001b[36mFile \u001b[39m\u001b[32mc:\\Users\\Jash\\Documents\\Research\\Semantic Equivilance\\.venv\\Lib\\site-packages\\transformers\\activations.py:69\u001b[39m, in \u001b[36mGELUActivation.forward\u001b[39m\u001b[34m(self, input)\u001b[39m\n\u001b[32m     68\u001b[39m \u001b[38;5;28;01mdef\u001b[39;00m\u001b[38;5;250m \u001b[39m\u001b[34mforward\u001b[39m(\u001b[38;5;28mself\u001b[39m, \u001b[38;5;28minput\u001b[39m: Tensor) -> Tensor:\n\u001b[32m---> \u001b[39m\u001b[32m69\u001b[39m     \u001b[38;5;28;01mreturn\u001b[39;00m \u001b[38;5;28;43mself\u001b[39;49m\u001b[43m.\u001b[49m\u001b[43mact\u001b[49m\u001b[43m(\u001b[49m\u001b[38;5;28;43minput\u001b[39;49m\u001b[43m)\u001b[49m\n",
      "\u001b[31mKeyboardInterrupt\u001b[39m: "
     ]
    }
   ],
   "source": [
    "if __name__ == \"__main__\":\n",
    "    spacy.load('en_core_web_sm')\n",
    "    Tokeniser = SpacyTokeniser()\n",
    "    parser = BobcatParser()\n",
    "    rewriter = Rewriter(['curry', 'prepositional_phrase', 'determiner'])\n",
    "    # ansatz = StronglyEntanglingAnsatz(\n",
    "    # {AtomicType.NOUN: 2, AtomicType.SENTENCE: 1}, \n",
    "    # n_layers=1 \n",
    "    main_workflow(data_pairs, parser, rewriter, ansatz, Tokeniser)"
   ]
  }
 ],
 "metadata": {
  "kernelspec": {
   "display_name": ".venv",
   "language": "python",
   "name": "python3"
  },
  "language_info": {
   "codemirror_mode": {
    "name": "ipython",
    "version": 3
   },
   "file_extension": ".py",
   "mimetype": "text/x-python",
   "name": "python",
   "nbconvert_exporter": "python",
   "pygments_lexer": "ipython3",
   "version": "3.12.0"
  }
 },
 "nbformat": 4,
 "nbformat_minor": 5
}
